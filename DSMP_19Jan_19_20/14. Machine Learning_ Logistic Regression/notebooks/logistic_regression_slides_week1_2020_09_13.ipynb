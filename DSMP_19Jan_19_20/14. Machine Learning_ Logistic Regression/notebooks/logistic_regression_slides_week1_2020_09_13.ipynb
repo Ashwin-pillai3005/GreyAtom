{
 "cells": [
  {
   "cell_type": "markdown",
   "metadata": {
    "slideshow": {
     "slide_type": "slide"
    }
   },
   "source": [
    "<h1 align=\"center\"> Logistic Regression</h1>"
   ]
  },
  {
   "cell_type": "markdown",
   "metadata": {
    "slideshow": {
     "slide_type": "slide"
    }
   },
   "source": [
    "### Logistic Regression is traced back to about 2000 years! \n",
    "***\n",
    "<center><img src=../images/meme_jesus.jpg alt=\"Drawing\" style=\"width: 300px;\"/></center>"
   ]
  },
  {
   "cell_type": "markdown",
   "metadata": {
    "slideshow": {
     "slide_type": "slide"
    }
   },
   "source": [
    "## Program so far\n",
    "***\n",
    " - We learnt about different types of Machine Learning Problems\n",
    "\n",
    " - We learnt how to fit a linear model to our data to predict House Prices in New York\n",
    " \n",
    " - We learnt how to use \"Advanced Linear Regression\" techniques where we prevented overfitting by using\n",
    " \n",
    "      - **Lasso Regression: which performs the L1 Regularization technique**\n",
    "      \n",
    "      - **Ridge Regression: which performs the L2 Regularization technique**\n",
    "      "
   ]
  },
  {
   "cell_type": "markdown",
   "metadata": {
    "slideshow": {
     "slide_type": "slide"
    }
   },
   "source": [
    "## Agenda for the Day\n",
    "***"
   ]
  },
  {
   "cell_type": "markdown",
   "metadata": {
    "slideshow": {
     "slide_type": "slide"
    }
   },
   "source": [
    "## John's Dilemma\n",
    "***\n",
    "Finally, John had decided on a house to buy. This was the perfect house for him in Brooklyn\n",
    "\n",
    "But he was running lower than expected on his savings and thus, didn't have enough money to buy a new one\n",
    "\n",
    "**So, he thought of taking a loan.**\n",
    "\n"
   ]
  },
  {
   "cell_type": "markdown",
   "metadata": {
    "slideshow": {
     "slide_type": "subslide"
    }
   },
   "source": [
    "## John's Dilemma \n",
    "***\n",
    " - But taking a loan in New York City, at high interest rates, would be too expensive for him in the long run! \n",
    "\n",
    "- Besides, he wasn't sure whether he would get the required loan.\n",
    "\n",
    "- So, he started looking for current trends of the loan approval.\n",
    "\n",
    " - Luckily he stumbled upon a dataset which had details about the loan approval.\n",
    "Let's explore it, along with him."
   ]
  },
  {
   "cell_type": "markdown",
   "metadata": {
    "slideshow": {
     "slide_type": "slide"
    }
   },
   "source": [
    "<img src=\"../images/Concept-Alert.png\" alt=\"Concept-Alert\" style=\"width: 100px;float:left; margin-right:15px\"/>\n",
    "<br />\n",
    "\n",
    "## What type of Problem is this? \n",
    "***\n",
    " - Let's try and gain some intuition\n",
    " - The graph on the next slide depicts if a patient's Tumor is Malignant (Cancerous) or not **{1: Yes; 0: No}** \n",
    " based on the Tumor Size present in his/her body\n",
    " \n",
    " - Tumor Size is taken on the *x-axis* whereas the outcome, i.e., whether the patient's Tumor is Malginant or not is taken on the *Y-axis*"
   ]
  },
  {
   "cell_type": "code",
   "execution_count": 1,
   "metadata": {},
   "outputs": [],
   "source": [
    "import pandas as pd\n",
    "import numpy as np\n",
    "import matplotlib.pyplot as plt\n",
    "import seaborn as sns\n",
    "sns.set()\n",
    "\n",
    "# To print multiple outputs together\n",
    "from IPython.core.interactiveshell import InteractiveShell\n",
    "InteractiveShell.ast_node_interactivity = \"all\"\n",
    "\n",
    "# Change column display number during print\n",
    "pd.set_option('display.max_columns', 500)\n",
    "pd.set_option('display.max_rows', 500)\n",
    "pd.set_option('display.max_colwidth', -1)\n",
    "\n",
    "# Ignore warnings\n",
    "import warnings\n",
    "warnings.filterwarnings('ignore')"
   ]
  },
  {
   "cell_type": "code",
   "execution_count": 2,
   "metadata": {
    "slideshow": {
     "slide_type": "subslide"
    }
   },
   "outputs": [],
   "source": [
    "from sklearn.datasets import make_classification\n",
    "X, y = make_classification(n_samples=10, n_features=1, n_informative=1, n_redundant=0 , \n",
    "                           n_clusters_per_class=1, flip_y=0, random_state=7)"
   ]
  },
  {
   "cell_type": "code",
   "execution_count": 19,
   "metadata": {
    "slideshow": {
     "slide_type": "subslide"
    }
   },
   "outputs": [
    {
     "data": {
      "image/png": "[encoded data removed]",
      "text/plain": [
       "<Figure size 720x288 with 1 Axes>"
      ]
     },
     "metadata": {},
     "output_type": "display_data"
    }
   ],
   "source": [
    "plt.figure(figsize=(10,4));\n",
    "plt.scatter(X, y, c='r', marker='x', linewidth=5);\n",
    "plt.ylabel(\"Malignant Tumor {1: Yes  0: No}\");\n",
    "plt.xlabel(\"Tumor Size\");"
   ]
  },
  {
   "cell_type": "markdown",
   "metadata": {
    "slideshow": {
     "slide_type": "subslide"
    }
   },
   "source": [
    "<img src=\"../images/Concept-Alert.png\" alt=\"Concept-Alert\" style=\"width: 100px;float:left; margin-right:15px\"/>\n",
    "<br />\n",
    "\n",
    "## What type of Problem is this? \n",
    "***\n",
    " - The output, \"y\" has two **categories** i.e. 1 (Yes) or 0 (No) \n",
    " \n",
    " - Thus, as we have learnt before, this is a **Classification Problem** where we are using our dependent variables, in this case Tumor Size, and are getting a **binary** output, 1 (Yes) or 0 (No)! \n",
    " \n",
    " - Let's approach this problem with what we've learnt so far"
   ]
  },
  {
   "cell_type": "markdown",
   "metadata": {
    "slideshow": {
     "slide_type": "subslide"
    }
   },
   "source": [
    "## John's Problem Explained\n",
    "***\n",
    " - Through the data set John collected, he basically wanted to find out that using different characteristics, do loans get approved {1: Yes} or not {0: No}\n",
    " \n",
    " - This is, in essence, nothing but a classification problem. John collected a data set that described what type of loan requests got approved and rejected\n",
    " \n",
    " - He wanted to check, before applying, whether his request would be approved after he fit the **right model** on the data! \n",
    " \n",
    " - Let's build our intution on the '*model building*' part using the Tumor data! You will see how comprehensive this approach is"
   ]
  },
  {
   "cell_type": "markdown",
   "metadata": {
    "slideshow": {
     "slide_type": "subslide"
    }
   },
   "source": [
    "## Using Linear Regression to solve a classification problem\n",
    "***\n",
    "\n",
    "* Lets try and apply the same Linear Regression model we learned to solve the problem of classification on a dataset."
   ]
  },
  {
   "cell_type": "code",
   "execution_count": null,
   "metadata": {},
   "outputs": [],
   "source": [
    "# Equation of Linear Regression?\n",
    "Tumor_Malig (DV) = B0 + B1*Tumor_Size (IV)"
   ]
  },
  {
   "cell_type": "code",
   "execution_count": 15,
   "metadata": {
    "slideshow": {
     "slide_type": "subslide"
    }
   },
   "outputs": [
    {
     "data": {
      "text/plain": [
       "LinearRegression(copy_X=True, fit_intercept=True, n_jobs=None, normalize=False)"
      ]
     },
     "execution_count": 15,
     "metadata": {},
     "output_type": "execute_result"
    }
   ],
   "source": [
    "from sklearn.linear_model import LinearRegression\n",
    "\n",
    "lm = LinearRegression()\n",
    "lm.fit(X, y)"
   ]
  },
  {
   "cell_type": "code",
   "execution_count": 16,
   "metadata": {
    "slideshow": {
     "slide_type": "subslide"
    }
   },
   "outputs": [],
   "source": [
    "z = np.linspace(-2, 2, 1000)\n",
    "z_predict = lm.intercept_ + (lm.coef_ * z)"
   ]
  },
  {
   "cell_type": "code",
   "execution_count": 18,
   "metadata": {
    "scrolled": false,
    "slideshow": {
     "slide_type": "subslide"
    }
   },
   "outputs": [
    {
     "data": {
      "image/png": "[encoded data removed]",
      "text/plain": [
       "<Figure size 720x432 with 1 Axes>"
      ]
     },
     "metadata": {},
     "output_type": "display_data"
    }
   ],
   "source": [
    "plt.figure(figsize=(10,4));\n",
    "plt.scatter(X, y, c='r', marker='x', linewidth=5);\n",
    "plt.plot(z, z_predict);\n",
    "plt.ylabel(\"Presence of Cancer {1: Yes  0: No}\");\n",
    "plt.xlabel(\"Tumor Size\");"
   ]
  },
  {
   "cell_type": "markdown",
   "metadata": {
    "slideshow": {
     "slide_type": "subslide"
    }
   },
   "source": [
    "## So what now? Intuition behind the Decision Boundary\n",
    "***\n",
    "* We have fitted a linear regression model which is represented by the blue line\n",
    "* How do we convert a continuous output into a discrete one?\n",
    "* One way we can do is using a threshold value for the linear regression output\n",
    "\n",
    "\n",
    "* Our output is either 1 or 0, and since we can even get predicted values between 0 and 1 like 0.2, 0.6, etc. (The regression line), we need to come up with a method where our output (0.2, 0.6, etc) is **transformed** to either **0** or **1**\n",
    "\n",
    "\n",
    "* A reasonable threshold to keep for a 0-1 problem is 0.5. So, if our predicted value (y) is **greater than 0.5** then we assign a **\"1\"** to it \n",
    "* If y is **less than 0.5** then we assign a **\"0\"** to it\n"
   ]
  },
  {
   "cell_type": "code",
   "execution_count": null,
   "metadata": {},
   "outputs": [],
   "source": [
    "ARBITARY"
   ]
  },
  {
   "cell_type": "markdown",
   "metadata": {
    "slideshow": {
     "slide_type": "slide"
    }
   },
   "source": [
    "## Decision Boundary\n",
    "***\n",
    "\n",
    "* Tracing the line of y = 0.5 all the way to it's corresponding x - value (See graph below) we can get to know this \"Threshold\" value\n",
    "\n",
    "* This \"Threshold Value\" is x = __\n",
    "\n",
    "* This means that if x > _ then y > 0.5 (i.e. y = 1) \n",
    "\n",
    "* If x < _ then y < 0.5 (i.e. y = 0)\n",
    "\n",
    "* Therefore, this vertical line (x = _ ) which separates the 2 classes (y = 1 & 0) ---> **Decision Boundary**"
   ]
  },
  {
   "cell_type": "code",
   "execution_count": 20,
   "metadata": {
    "scrolled": false,
    "slideshow": {
     "slide_type": "subslide"
    }
   },
   "outputs": [
    {
     "data": {
      "image/png": "[encoded data removed]",
      "text/plain": [
       "<Figure size 720x288 with 1 Axes>"
      ]
     },
     "metadata": {},
     "output_type": "display_data"
    }
   ],
   "source": [
    "# Calculate the threshold, x_critical\n",
    "x_critical = (0.5 - lm.intercept_)/ lm.coef_  # Re-arrangement\n",
    "\n",
    "plt.figure(figsize=(10,4));\n",
    "plt.scatter(X, y, c='r', marker='x', linewidth=5);\n",
    "plt.plot(z, z_predict);\n",
    "plt.axvline(x=x_critical, color='r', linestyle='--');\n",
    "plt.axhline(y=0.5, color='g', linestyle='--');\n",
    "plt.xlabel('Feature');\n",
    "plt.ylabel('Target');"
   ]
  },
  {
   "cell_type": "code",
   "execution_count": null,
   "metadata": {},
   "outputs": [],
   "source": [
    "Feat2, Fat3, Feat4, Feat5"
   ]
  },
  {
   "cell_type": "code",
   "execution_count": null,
   "metadata": {},
   "outputs": [],
   "source": [
    "threhold = 0.1\n",
    "threhold = 0.2\n",
    "threhold = 0.222222"
   ]
  },
  {
   "cell_type": "markdown",
   "metadata": {
    "slideshow": {
     "slide_type": "subslide"
    }
   },
   "source": [
    "## But wait! Sean Bean has something to say. . .\n",
    "***\n",
    "\n",
    "<center><img src=../images/meme_lotr.png alt=\"LOTR\" style=\"width: 400px;\"/></center>"
   ]
  },
  {
   "cell_type": "markdown",
   "metadata": {
    "slideshow": {
     "slide_type": "subslide"
    }
   },
   "source": [
    "## Linear Regression - Not a Good Idea\n",
    "***\n",
    "* It turns out, that Sean Ben is right! \n",
    "\n",
    "\n",
    "* The problem with this approach is that Linear Regression isn't robust to outliers and it changes the fit drastically in the presence of an outlier\n",
    "\n",
    "\n",
    "* We'll add an outlier and keep the same threshold as before to see the difference."
   ]
  },
  {
   "cell_type": "code",
   "execution_count": null,
   "metadata": {},
   "outputs": [],
   "source": [
    "# From our previous class, what was one of the major drawbacks of Linear Regression?\n",
    "- Not robust to outliers"
   ]
  },
  {
   "cell_type": "code",
   "execution_count": 21,
   "metadata": {
    "scrolled": true,
    "slideshow": {
     "slide_type": "subslide"
    }
   },
   "outputs": [
    {
     "data": {
      "text/plain": [
       "LinearRegression(copy_X=True, fit_intercept=True, n_jobs=None, normalize=False)"
      ]
     },
     "execution_count": 21,
     "metadata": {},
     "output_type": "execute_result"
    }
   ],
   "source": [
    "new_obs = 20\n",
    "X = np.vstack([X, new_obs])\n",
    "y = np.append(y, 1)\n",
    "lm = LinearRegression()\n",
    "lm.fit(X, y)\n",
    "z = np.linspace(-2, new_obs, 1000)\n",
    "z_predict = lm.intercept_ + (lm.coef_ * z)\n",
    "x_critical2 = (0.5 - lm.intercept_)/ lm.coef_"
   ]
  },
  {
   "cell_type": "code",
   "execution_count": 24,
   "metadata": {
    "scrolled": false,
    "slideshow": {
     "slide_type": "subslide"
    }
   },
   "outputs": [
    {
     "data": {
      "image/png": "[encoded data removed]",
      "text/plain": [
       "<Figure size 720x288 with 1 Axes>"
      ]
     },
     "metadata": {},
     "output_type": "display_data"
    }
   ],
   "source": [
    "plt.figure(figsize=(10,4));\n",
    "plt.scatter(X, y, c='r', marker='x', linewidth=3);\n",
    "plt.plot(z, z_predict);\n",
    "plt.axvline(x=x_critical, color='r', linestyle='--');\n",
    "plt.axvline(x=x_critical2, color='y', linestyle='--');\n",
    "plt.xlabel('Feature');\n",
    "plt.ylabel('Target');"
   ]
  },
  {
   "cell_type": "markdown",
   "metadata": {
    "slideshow": {
     "slide_type": "slide"
    }
   },
   "source": [
    "## Linear Regression - Not a Good Idea \n",
    "***\n",
    "* We see that our Decision Boundary has shifted to the right. As a result we get some incorrect predicted \"y-values\" (the one's left of the boundary) \n",
    "\n",
    "* Since the data is labeled we know that they're originally = \"1\". But being on the left of the decision boundary indicates that they should be assigned a \"0\"\n",
    "\n",
    "* Thus Linear Regression is not suitable for classification tasks as it is highly sensitive to outliers\n",
    "\n",
    "* We clearly need a better model to solve the problem of classification"
   ]
  },
  {
   "cell_type": "code",
   "execution_count": null,
   "metadata": {},
   "outputs": [],
   "source": [
    "Linear Regression not good fit for Classification\n",
    "- -inifinity to +infinity\n"
   ]
  },
  {
   "cell_type": "code",
   "execution_count": null,
   "metadata": {},
   "outputs": [],
   "source": [
    "Tumor_Malig (DV) = B0 + B1*Tumor_Size (IV)\n",
    "Logistic Regrtession - Equation"
   ]
  },
  {
   "cell_type": "markdown",
   "metadata": {
    "slideshow": {
     "slide_type": "slide"
    }
   },
   "source": [
    "## Enter Logistic Regression\n",
    "***\n",
    "* To overcome the limitations of Linear Regression we'll use another model suitable for classification i.e., Logistic Regression.\n",
    "\n",
    "\n",
    "* What do we need? \n",
    "  - We need 0 <= y <= 1\n",
    "  \n",
    "* For this purpose we need to use a different function (and not the Linear Regression \"y = mx + b\")\n",
    "\n",
    "* This function is the **Sigmoid Function**\n"
   ]
  },
  {
   "cell_type": "markdown",
   "metadata": {},
   "source": [
    "Output of logistic regression, even though we are looking at a classification problem, is going to give you output in the range between 0 to 1\n",
    "Bounded output: 0 to 1\n",
    "Using thresholding ---> Discrete category\n",
    "\n",
    "Probablity - ranges between 0 to 1 (ML)\n",
    "Log Regression - output which are nothing but probabilities\n",
    "Now converted into discrete using some threshold\n"
   ]
  },
  {
   "cell_type": "code",
   "execution_count": null,
   "metadata": {},
   "outputs": [],
   "source": [
    "0.7\n",
    "is eligible for a loan\n",
    "is elgible to be shown this kind of ad\n",
    "is having malignant tumor\n"
   ]
  },
  {
   "cell_type": "code",
   "execution_count": null,
   "metadata": {},
   "outputs": [],
   "source": [
    "ML1 - 0.8\n",
    "Thresholding\n",
    "1. should this ad be shown to ht euser or not\n",
    "2. Where should this ad be shown to the user - Home page, show it on checkout page, mailers\n",
    "\n",
    "ML2 - 0.7\n",
    "\n",
    "ML1, ML2, ML3 ----> Entire System"
   ]
  },
  {
   "cell_type": "code",
   "execution_count": null,
   "metadata": {},
   "outputs": [],
   "source": [
    "centering and scaling\n",
    "x\n",
    "centering: x+_a\n",
    "scaling: x*(a)"
   ]
  },
  {
   "cell_type": "markdown",
   "metadata": {
    "slideshow": {
     "slide_type": "subslide"
    }
   },
   "source": [
    "## Enter Logistic Regression \n",
    "***\n",
    "<center><img src=../images/meme_pratt.jpg alt=\"Oh Chris\" style=\"width: 400px;\"/></center>"
   ]
  },
  {
   "cell_type": "markdown",
   "metadata": {
    "slideshow": {
     "slide_type": "slide"
    }
   },
   "source": [
    "## What is the Sigmoid function?\n",
    "***\n",
    "* We need to get the values in the range of (0,1) \n",
    "\n",
    "* Let's have a look at the graph of the Sigmoid Function and then get into building the intuition\n",
    "***\n",
    "<center><img src=../images/sigmoid.png alt=\"Oh Chris\" style=\"width: 275px;\"/></center>"
   ]
  },
  {
   "cell_type": "markdown",
   "metadata": {
    "slideshow": {
     "slide_type": "slide"
    }
   },
   "source": [
    "<img src=\"../images/Maths-Insight.png\" alt=\"Maths-Insight\" style=\"width: 100px;float:left; margin-right:15px\"/>\n",
    "<br />\n",
    "\n",
    "## Intuition\n",
    "***\n",
    " - The function above is $g(z) = \\frac {1} {(1 + e^(-z))}$   for values of t ranging from - infinity , + infinity\n",
    " \n",
    " - $g(z)$ is also called as \"Sigmoid of 'z' or just sig(z)\"\n",
    " \n",
    " - Again, let's start by plugging in the extremes of it's range\n",
    " \n",
    " $g(-infinity) = \\frac {1} {(1 + infinity)} = ~0$\n",
    " \n",
    " \n",
    "   $g( infinity) = \\frac {1} {(1 + ~0)} = ~1$\n",
    " \n",
    " - No matter what value \"z\" takes, we will always get an answer in the range of **[0,1]**"
   ]
  },
  {
   "cell_type": "markdown",
   "metadata": {
    "slideshow": {
     "slide_type": "subslide"
    }
   },
   "source": [
    "<img src=\"../images/Technical-Stuff.png\" alt=\"Technical-Stuff\" style=\"width: 100px;float:left; margin-right:15px\"/>\n",
    "<br />\n",
    "\n",
    "## Simple Modifications\n",
    "***\n",
    "\n",
    " - Now, instead of sig(z) let's consider sig(y) **where y ---> our response**\n",
    " \n",
    " - But as discussed before; $y = \\theta_0 + \\theta_1(x1) + \\theta_2(x_2) + .. + \\theta_n(x_n)$\n",
    " \n",
    " - Thus, $g(y) = g(h_{\\theta}(x)) = 1/(1 + e^{-(\\theta* X)})$"
   ]
  },
  {
   "cell_type": "code",
   "execution_count": null,
   "metadata": {},
   "outputs": [],
   "source": [
    "X1, X2, X3: features, IV, range can be between -inifnity to +infinity\n",
    "Linear Combination ----> Linear Regression: Output can also be between -inifnity to +infinity\n",
    "Give this y as input to sigmoid"
   ]
  },
  {
   "cell_type": "code",
   "execution_count": null,
   "metadata": {},
   "outputs": [],
   "source": [
    "Tumor == 1\n",
    "Pr(Tumor == 1) == 1\n",
    "F1, F2, F3"
   ]
  },
  {
   "cell_type": "code",
   "execution_count": null,
   "metadata": {},
   "outputs": [],
   "source": [
    "LR\n",
    "- We created equation\n",
    "- Learnt our parameters\n",
    "- Grdient Descent/OLS\n"
   ]
  },
  {
   "cell_type": "code",
   "execution_count": null,
   "metadata": {},
   "outputs": [],
   "source": [
    "h() = Pr(y = 1|X)"
   ]
  },
  {
   "cell_type": "markdown",
   "metadata": {
    "slideshow": {
     "slide_type": "subslide"
    }
   },
   "source": [
    "<img src=\"../images/Technical-Stuff.png\" alt=\"Technical-Stuff\" style=\"width: 100px;float:left; margin-right:15px\"/>\n",
    "<br />\n",
    "\n",
    "## Interpretation - Let's put it simply\n",
    "***\n",
    "In essence: \n",
    "\n",
    " - $h_θ(x)$ is the ** Estimated Probability that y = 1 on input \"X\"** \n",
    " \n",
    " - Example: $h_θ(x)$ = 0.7 in our Tumor problem **MEANS** there is a 70% chance of Tumor being **Malignant**\n",
    " \n",
    " - Thus, mathematically, $h_θ(x)$ = P(y=1 | x; θ) means that **Probability that y = 1 given X is parameterized by θ**\n",
    " \n",
    " - Thus **P(y=1 | x;θ) + P(y=0 | x;θ) = 1**\n",
    "\n"
   ]
  },
  {
   "cell_type": "code",
   "execution_count": null,
   "metadata": {},
   "outputs": [],
   "source": [
    "Regression:\n",
    "R-square: High (0-1)\n",
    "RMSE: Root mean squared error (Lower, best:0)\n",
    "MSE: mean squared error (Lower, best:0)\n",
    "    \n",
    "Classification:\n"
   ]
  },
  {
   "cell_type": "code",
   "execution_count": null,
   "metadata": {},
   "outputs": [],
   "source": [
    "Pr(y = 1|X,theta) = 0.9 ----> this has higher prob of belongin to cat1 (y = 1)\n",
    "Pr(y = 1|X,theta) = 0.1 ----> this has lower prob of belongin to cat1, \n",
    "                              hence higher prob of belonging to cat2 (y = 0)"
   ]
  },
  {
   "cell_type": "code",
   "execution_count": null,
   "metadata": {},
   "outputs": [],
   "source": [
    "Final Threshold\n",
    "Threshold = 0.9"
   ]
  },
  {
   "cell_type": "markdown",
   "metadata": {},
   "source": [
    "$$ h_\\theta(x) = \\theta_0 + \\theta_1\\cdot X_1 + \\theta_2\\cdot X_2 $$\n",
    "  \n",
    "where,  \n",
    "$\\theta_0, \\theta_1,  \\theta_2$ = Parameters of hyperplane  \n",
    "$X_1, X_2$ = Independent Features"
   ]
  },
  {
   "cell_type": "markdown",
   "metadata": {},
   "source": [
    "$$ z = \\theta_0 + \\theta_1\\cdot X_1 + \\theta_2\\cdot X_2 $$\n",
    "  \n",
    "$$ h_\\theta(x) = g(z)$$  \n",
    "  \n",
    "$$ g(z) = \\frac{1}{1 + e^{-z}} $$\n",
    "  \n",
    "where,  \n",
    "$\\theta_0, \\theta_1,  \\theta_2$ = Parameters of hyperplane  \n",
    "$X_1, X_2$ = Independent Features"
   ]
  },
  {
   "cell_type": "markdown",
   "metadata": {},
   "source": [
    "$$ g(z) = \\frac{1}{1 + e^{-z}} $$\n",
    "Logistic Regression Probability Equation"
   ]
  },
  {
   "cell_type": "code",
   "execution_count": null,
   "metadata": {},
   "outputs": [],
   "source": [
    "Output: 0-1\n",
    "Input: -inifnity to +inifnity\n",
    "    \n",
    "Objective:\n",
    "LHS and RHS lie in the same domain\n",
    "LHS: -inifnity to +inifnity ---> Output shuld still be in 0-1\n",
    "RHS: -inifnity to +inifnity\n",
    "    "
   ]
  },
  {
   "cell_type": "code",
   "execution_count": null,
   "metadata": {},
   "outputs": [],
   "source": [
    "Equation of Logistic Regression\n",
    "Cost Function\n",
    "Optimization --> we'll params\n",
    "\n",
    "LR\n",
    "Cost: Least Squares Error: Summation_(Ypred - Ytrue)^2\n"
   ]
  },
  {
   "cell_type": "code",
   "execution_count": null,
   "metadata": {},
   "outputs": [],
   "source": [
    "You go for COVID Test \n",
    "Pr(Y:Person_has_Covid ==1|X) = 0.2\n",
    "threshold - high or low?\n",
    "0.10"
   ]
  },
  {
   "cell_type": "code",
   "execution_count": null,
   "metadata": {},
   "outputs": [],
   "source": [
    "oR = p/(1-p) = 2"
   ]
  },
  {
   "cell_type": "code",
   "execution_count": null,
   "metadata": {},
   "outputs": [],
   "source": [
    "Horse betting\n",
    "Odds of winning are 3:2\n",
    "Odds of winning a match 5:7\n",
    "    \n",
    "odds = 1\n",
    "odds = 2\n",
    "team1: 0.67 (p)\n",
    "team2: 0.33 (1 - 0.67)\n",
    "\n",
    "Pr(Y == 1) = p\n",
    "Pr(Y == 0) = 1-p"
   ]
  },
  {
   "attachments": {
    "image.png": {
     "image/png": "[encoded data removed]"
    }
   },
   "cell_type": "markdown",
   "metadata": {
    "slideshow": {
     "slide_type": "subslide"
    }
   },
   "source": [
    "<img src=\"../images/Technical-Stuff.png\" alt=\"Technical-Stuff\" style=\"width: 100px;float:left; margin-right:15px\"/>\n",
    "<br />\n",
    "\n",
    "## What is the odds ratio?\n",
    "***\n",
    "We will answer this question with the help of an example. \n",
    "- Let the probability of success of an event is $p (0 <= p <= 1)$. \n",
    "- So, the probability of event failure is 1 - p. The ratio of the probability of success to the probability of failure is called the odds ratio. \n",
    "- Mathematically, it is equivalent to $\\frac{p}{1-p} $.  \n",
    "If some event has odds of 4, then it means that the chances of success are 4 times more likely than those of failure.\n",
    "\n",
    "An interesting property of odds is that it is a monotonically increasing function. Odds increase as the probability increases or vice versa.\n",
    "\n",
    "![image.png](attachment:image.png)\n",
    "\n"
   ]
  },
  {
   "cell_type": "code",
   "execution_count": null,
   "metadata": {},
   "outputs": [],
   "source": [
    "p: probability, range: 0-1\n",
    "OR = p/(1-p)\n",
    "\n",
    "p = 0, OR: 0\n",
    "p = 1, OR: +inifnity  \n",
    "0 - +inifnity  "
   ]
  },
  {
   "attachments": {
    "image.png": {
     "image/png": "[encoded data removed]"
    }
   },
   "cell_type": "markdown",
   "metadata": {
    "slideshow": {
     "slide_type": "subslide"
    }
   },
   "source": [
    "<img src=\"../images/Technical-Stuff.png\" alt=\"Technical-Stuff\" style=\"width: 100px;float:left; margin-right:15px\"/>\n",
    "<br />\n",
    "\n",
    "## Log odds\n",
    "***\n",
    "The transformation from odds to log of odds is the log transformation. This is also a monotonic transformation i.e. greater the odds, greater the log of odds and vice versa.\n",
    "\n",
    "![image.png](attachment:image.png)"
   ]
  },
  {
   "cell_type": "markdown",
   "metadata": {},
   "source": [
    "$$ z = \\theta_0 + \\theta_1\\cdot X_1 + \\theta_2\\cdot X_2 $$\n",
    "  \n",
    "$$ h_\\theta(x) = g(z)$$  \n",
    "  \n",
    "$$ g(z) = \\frac{1}{1 + e^{-z}} $$\n",
    "  \n",
    "where,  \n",
    "$\\theta_0, \\theta_1,  \\theta_2$ = Parameters of hyperplane  \n",
    "$X_1, X_2$ = Independent Features"
   ]
  },
  {
   "cell_type": "code",
   "execution_count": null,
   "metadata": {},
   "outputs": [],
   "source": [
    "log(p/1-p)\n",
    "p = 0; log: -inf\n",
    "p = 1; log: +inf"
   ]
  },
  {
   "cell_type": "code",
   "execution_count": null,
   "metadata": {},
   "outputs": [],
   "source": [
    "what is the range of z? -inf to +inf\n",
    "what is the range of g(z)? 0 to 1\n",
    "what is the range of 1 - g(z) ? 0 to 1\n",
    "what is the range of OR = g(z)/(1 - g(z)) ? 0 to inf\n",
    "what is the range of log(OR) = log[g(z)/(1 - g(z))] ? -inf to inf"
   ]
  },
  {
   "cell_type": "code",
   "execution_count": null,
   "metadata": {},
   "outputs": [],
   "source": [
    "LR\n",
    "y = b0 + b1*X1\n"
   ]
  },
  {
   "cell_type": "markdown",
   "metadata": {
    "slideshow": {
     "slide_type": "subslide"
    }
   },
   "source": [
    "<img src=\"../images/Technical-Stuff.png\" alt=\"Technical-Stuff\" style=\"width: 100px;float:left; margin-right:15px\"/>\n",
    "<br />\n",
    "\n",
    "## Why take log odds?\n",
    "***\n",
    "It's difficult to model a variable with probability since it has a restricted range between 0 and 1. The log of the odds also called logit transformation is an attempt to get around the restricted range problem. It maps probability ranging between 0 and 1 to log-odds ranging from negative infinity to positive infinity.\n",
    "\n",
    "A logistic regression model allows us to establish a relationship between a binary outcome variable and a group of predictor variables. It models the logit-transformed probability as a linear relationship with the predictor variables. Mathematically,\n",
    "\n",
    "$$\\text{logit(p)} = log(\\frac{p}{1-p}) = \\theta_0 + \\theta_1x_1 + \\theta_2x_2 + …. + \\theta_nx_n$$\n",
    "\n",
    "\n",
    "Observe how the right-hand side of the equation looks similar to the linear regression counterpart.\n",
    "\n",
    "$$p = \\frac{e^{\\theta_0 + \\theta_1x_1 + \\theta_2x_2 + …. + \\theta_nx_n}}{1 + e^{\\theta_0 + \\theta_1x_1 + \\theta_2x_2 + …. + \\theta_nx_n}}$$\n",
    "\n",
    "$$p = \\frac{1}{1 + e^-({\\theta_0 + \\theta_1x_1 + \\theta_2x_2 + …. + \\theta_nx_n})}$$\n",
    " \n",
    "which is the sigmoid function."
   ]
  },
  {
   "cell_type": "code",
   "execution_count": null,
   "metadata": {},
   "outputs": [],
   "source": [
    "Eqn of LR\n",
    "Eqn of Logistic Regression"
   ]
  },
  {
   "cell_type": "markdown",
   "metadata": {
    "slideshow": {
     "slide_type": "subslide"
    }
   },
   "source": [
    "<img src=\"../images/Technical-Stuff.png\" alt=\"Technical-Stuff\" style=\"width: 100px;float:left; margin-right:15px\"/>\n",
    "<br />\n",
    "\n",
    "## Decision Boundary Intuition with Examples\n",
    "***\n",
    "\n",
    "We can see that g(z) >= 0.5 when z >= 0\n",
    "\n",
    "Thus $h_θ(x)$ = g(θ*X)) >= 0.5 whenever θ x $X$ >= 0\n",
    "\n",
    "<center><img src=../images/sigmoid.png alt=\"Oh Chris\" style=\"width: 275px;\"/></center>"
   ]
  },
  {
   "cell_type": "markdown",
   "metadata": {
    "slideshow": {
     "slide_type": "subslide"
    }
   },
   "source": [
    " - Consider: hθ(x) = g(θ0 + θ1x1 + θ2x2)\n",
    "\n",
    " - The graph below shows y - values (0 when \"O\" & 1 when \"X\") given values of x1 & x2\n",
    "***\n",
    "<center><img src=../images/Image[4].png alt=\"Math\" style=\"width: 275px;\"/></center>"
   ]
  },
  {
   "cell_type": "markdown",
   "metadata": {
    "slideshow": {
     "slide_type": "subslide"
    }
   },
   "source": [
    "So, for example  $θ_0 = -3, θ_1 = 1, θ_2 = 1$\n",
    "     \n",
    "So our parameter vector is a column vector with the above values\n",
    "   - So, θT  = [-3,1,1]\n",
    "   \n",
    "Thus the z here becomes θ x $X$\n"
   ]
  },
  {
   "cell_type": "markdown",
   "metadata": {
    "slideshow": {
     "slide_type": "subslide"
    }
   },
   "source": [
    "<img src=\"../images/Technical-Stuff.png\" alt=\"Technical-Stuff\" style=\"width: 100px;float:left; margin-right:15px\"/>\n",
    "<br />\n",
    "\n",
    "## Diving Deeper\n",
    "***\n",
    "We predict \"y = 1\" if\n",
    "  - -3x0 + 1x1 + 1x2 >= 0\n",
    "  - -3 + x1 + x2 >= 0\n",
    "  \n",
    "We can also re-write this as\n",
    " - If (x1 + x2 >= 3) then we predict y = 1\n",
    " - If we plot x1 + x2 = 3 we graphically plot our decision boundary (See next slide)"
   ]
  },
  {
   "cell_type": "markdown",
   "metadata": {
    "slideshow": {
     "slide_type": "subslide"
    }
   },
   "source": [
    "<img src=\"../images/Technical-Stuff.png\" alt=\"Technical-Stuff\" style=\"width: 100px;float:left; margin-right:15px\"/>\n",
    "<br />\n",
    "\n",
    "## Diving Deeper\n",
    "***\n",
    "<center><img src=../images/Image[5].png alt=\"Math\" style=\"width: 275px;\"/></center>"
   ]
  },
  {
   "cell_type": "markdown",
   "metadata": {
    "slideshow": {
     "slide_type": "subslide"
    }
   },
   "source": [
    "<img src=\"../images/Technical-Stuff.png\" alt=\"Technical-Stuff\" style=\"width: 100px;float:left; margin-right:15px\"/>\n",
    "<br />\n",
    "\n",
    "## Diving Deeper\n",
    "***\n",
    "We have two regions on the graph\n",
    " - Blue = false\n",
    " - Magenta = true\n",
    "\n",
    "**Line = Decision Boundary**\n",
    "\n",
    " - The straight line is the set of points where hθ(x) = 0.5 exactly\n",
    " - The decision boundary is a property of the hypothesis\n",
    " - Means we can create the boundary with the hypothesis and parameters without any data\n",
    "\n",
    "Later, we use the data to determine the parameter values\n",
    "\n",
    "i.e. y = 1 if\n",
    "\n",
    "5 - x1 > 0\n",
    "\n",
    "5 > x1"
   ]
  },
  {
   "cell_type": "markdown",
   "metadata": {
    "slideshow": {
     "slide_type": "subslide"
    }
   },
   "source": [
    "<img src=\"../images/Technical-Stuff.png\" alt=\"Technical-Stuff\" style=\"width: 100px;float:left; margin-right:15px\"/>\n",
    "<br />\n",
    "\n",
    "## Non - Linear Decision Boundaries\n",
    "***\n",
    "We can also use Logistic Regression to fit a complex non-linear data set\n",
    "\n",
    " - Like polynomial regression: add higher order terms\n",
    "\n",
    "So say we have\n",
    " - $hθ(x) = g(θ_0 + θ_1x_1+ θ_2x_2 + θ_3x_1^2 + θ_4x_2^2)$\n",
    " \n",
    " - We take the transpose of the θ vector times the input vector \n",
    "\n",
    "Say θ was [-1,0,0,1,1] then we say;\n",
    " - Predict that \"y = 1\" if\n",
    " - $-1 + x_1^2 + x_2^2 >= 0$ or\n",
    " - $x_1^2 + x_2^2 >= 1$\n",
    " \n",
    "If we plot  \n",
    "$$x_1^2 + x_2^2 = 1$$\n",
    " \n",
    " - This gives us a circle with a radius of 1 around 0 (see next slide)"
   ]
  },
  {
   "cell_type": "markdown",
   "metadata": {
    "slideshow": {
     "slide_type": "subslide"
    }
   },
   "source": [
    "<img src=\"../images/Technical-Stuff.png\" alt=\"Technical-Stuff\" style=\"width: 100px;float:left; margin-right:15px\"/>\n",
    "<br />\n",
    "\n",
    "## Non - Linear Decision Boundaries\n",
    "***\n",
    "<center><img src=../images/Image[6].png alt=\"Math\" style=\"width: 275px;\"/></center>"
   ]
  },
  {
   "cell_type": "code",
   "execution_count": null,
   "metadata": {},
   "outputs": [],
   "source": [
    "NonLinear Model - SVM"
   ]
  },
  {
   "cell_type": "markdown",
   "metadata": {
    "slideshow": {
     "slide_type": "subslide"
    }
   },
   "source": [
    "## Non - Linear Decision Boundaries\n",
    "***\n",
    " -  We can build more complex decision boundaries by fitting complex parameters to this (relatively) simple hypothesis\n",
    " - More complex decision boundaries?\n",
    "      - By using higher order polynomial terms, we can get even more complex decision boundaries\n",
    "***      \n",
    " <center><img src=../images/Image[7].png alt=\"Math\" style=\"width: 200px;\"/></center>"
   ]
  },
  {
   "cell_type": "code",
   "execution_count": null,
   "metadata": {},
   "outputs": [],
   "source": [
    "y = [0, 1, 0, ]"
   ]
  },
  {
   "cell_type": "code",
   "execution_count": 52,
   "metadata": {
    "slideshow": {
     "slide_type": "subslide"
    }
   },
   "outputs": [
    {
     "data": {
      "text/plain": [
       "LogisticRegression(C=1.0, class_weight=None, dual=False, fit_intercept=True,\n",
       "                   intercept_scaling=1, l1_ratio=None, max_iter=100,\n",
       "                   multi_class='auto', n_jobs=None, penalty='l2',\n",
       "                   random_state=None, solver='lbfgs', tol=0.0001, verbose=0,\n",
       "                   warm_start=False)"
      ]
     },
     "execution_count": 52,
     "metadata": {},
     "output_type": "execute_result"
    }
   ],
   "source": [
    "from sklearn.linear_model import LogisticRegression\n",
    "clf = LogisticRegression()\n",
    "\n",
    "X, y = make_classification(n_samples=10, n_features=1, n_informative=1, n_redundant=0 , \n",
    "                           n_clusters_per_class=1, flip_y=0, random_state=7)\n",
    "\n",
    "clf = LogisticRegression()\n",
    "clf.fit(X, y)"
   ]
  },
  {
   "cell_type": "code",
   "execution_count": 54,
   "metadata": {},
   "outputs": [
    {
     "data": {
      "text/plain": [
       "array([0, 1, 0, 1, 1, 0, 1, 0, 1, 0])"
      ]
     },
     "execution_count": 54,
     "metadata": {},
     "output_type": "execute_result"
    }
   ],
   "source": [
    "y"
   ]
  },
  {
   "cell_type": "code",
   "execution_count": 30,
   "metadata": {
    "scrolled": false,
    "slideshow": {
     "slide_type": "subslide"
    }
   },
   "outputs": [
    {
     "data": {
      "image/png": "[encoded data removed]",
      "text/plain": [
       "<Figure size 720x288 with 1 Axes>"
      ]
     },
     "metadata": {},
     "output_type": "display_data"
    }
   ],
   "source": [
    "plt.figure(figsize=(10,4));\n",
    "plt.scatter(X, y, c='r', marker='x', linewidth = 3)\n",
    "xt = np.linspace(-3, 3, 1000).reshape(1000,1);\n",
    "yt = clf.predict(xt);\n",
    "plt.plot(xt, yt);\n",
    "plt.xlabel('Feature');\n",
    "plt.ylabel('Target');"
   ]
  },
  {
   "cell_type": "markdown",
   "metadata": {
    "slideshow": {
     "slide_type": "subslide"
    }
   },
   "source": [
    "* In the case with no outliers Logistic Regression does a good job in seperating the classes\n",
    "* We'll add an outlier and check if it still manages to do the same"
   ]
  },
  {
   "cell_type": "code",
   "execution_count": 33,
   "metadata": {
    "slideshow": {
     "slide_type": "subslide"
    }
   },
   "outputs": [
    {
     "data": {
      "text/plain": [
       "LogisticRegression(C=1.0, class_weight=None, dual=False, fit_intercept=True,\n",
       "                   intercept_scaling=1, l1_ratio=None, max_iter=100,\n",
       "                   multi_class='auto', n_jobs=None, penalty='l2',\n",
       "                   random_state=None, solver='lbfgs', tol=0.0001, verbose=0,\n",
       "                   warm_start=False)"
      ]
     },
     "execution_count": 33,
     "metadata": {},
     "output_type": "execute_result"
    }
   ],
   "source": [
    "new_obs = 20\n",
    "X = np.vstack([X, new_obs])\n",
    "y = np.append(y, 1)\n",
    "\n",
    "# fit the Logistics Regression model\n",
    "clf.fit(X, y)"
   ]
  },
  {
   "cell_type": "code",
   "execution_count": 37,
   "metadata": {
    "slideshow": {
     "slide_type": "subslide"
    }
   },
   "outputs": [
    {
     "data": {
      "image/png": "[encoded data removed]",
      "text/plain": [
       "<Figure size 720x288 with 1 Axes>"
      ]
     },
     "metadata": {},
     "output_type": "display_data"
    }
   ],
   "source": [
    "plt.figure(figsize=(10,4));\n",
    "plt.scatter(X, y, c='r', marker='x', linewidth = 3);\n",
    "xt = np.linspace(-5, 25, 1000).reshape(1000,1);\n",
    "yt = clf.predict(xt);\n",
    "plt.plot(xt, yt);\n",
    "plt.xlabel('Feature');\n",
    "plt.ylabel('Target');"
   ]
  },
  {
   "cell_type": "markdown",
   "metadata": {
    "slideshow": {
     "slide_type": "subslide"
    }
   },
   "source": [
    "* Even after adding outliers LR seperates the classes well.\n",
    "* Thus its much more suitable for classification.\n"
   ]
  },
  {
   "cell_type": "markdown",
   "metadata": {
    "slideshow": {
     "slide_type": "subslide"
    }
   },
   "source": [
    "## John's Approach\n",
    "***\n",
    "- After learning this, John wanted to check how his data set could use the same techniques\n",
    "- He wanted further insight to what his data set looks like and how he would go about implementing this \n",
    "- He thought it would be smart if he split his data set into a *Training Set* and *Test Set* \n",
    "\n",
    "    - I'll leave it to you to figure out why he thought this would be appropriate"
   ]
  },
  {
   "cell_type": "code",
   "execution_count": 40,
   "metadata": {
    "slideshow": {
     "slide_type": "subslide"
    }
   },
   "outputs": [],
   "source": [
    "from sklearn.linear_model import LogisticRegression\n",
    "from sklearn.model_selection import train_test_split\n",
    "from sklearn.metrics import accuracy_score\n",
    "from sklearn.preprocessing import PolynomialFeatures\n",
    "from sklearn.pipeline import Pipeline"
   ]
  },
  {
   "cell_type": "code",
   "execution_count": 47,
   "metadata": {
    "scrolled": false,
    "slideshow": {
     "slide_type": "subslide"
    }
   },
   "outputs": [
    {
     "data": {
      "text/html": [
       "<div>\n",
       "<style scoped>\n",
       "    .dataframe tbody tr th:only-of-type {\n",
       "        vertical-align: middle;\n",
       "    }\n",
       "\n",
       "    .dataframe tbody tr th {\n",
       "        vertical-align: top;\n",
       "    }\n",
       "\n",
       "    .dataframe thead th {\n",
       "        text-align: right;\n",
       "    }\n",
       "</style>\n",
       "<table border=\"1\" class=\"dataframe\">\n",
       "  <thead>\n",
       "    <tr style=\"text-align: right;\">\n",
       "      <th></th>\n",
       "      <th>ApplicantIncome</th>\n",
       "      <th>CoapplicantIncome</th>\n",
       "      <th>LoanAmount</th>\n",
       "      <th>Loan_Amount_Term</th>\n",
       "      <th>Credit_History</th>\n",
       "      <th>Loan_Status</th>\n",
       "    </tr>\n",
       "  </thead>\n",
       "  <tbody>\n",
       "    <tr>\n",
       "      <td>0</td>\n",
       "      <td>5849</td>\n",
       "      <td>0.0</td>\n",
       "      <td>0.0</td>\n",
       "      <td>360.0</td>\n",
       "      <td>1.0</td>\n",
       "      <td>1</td>\n",
       "    </tr>\n",
       "    <tr>\n",
       "      <td>1</td>\n",
       "      <td>4583</td>\n",
       "      <td>1508.0</td>\n",
       "      <td>128.0</td>\n",
       "      <td>360.0</td>\n",
       "      <td>1.0</td>\n",
       "      <td>0</td>\n",
       "    </tr>\n",
       "    <tr>\n",
       "      <td>2</td>\n",
       "      <td>3000</td>\n",
       "      <td>0.0</td>\n",
       "      <td>66.0</td>\n",
       "      <td>360.0</td>\n",
       "      <td>1.0</td>\n",
       "      <td>1</td>\n",
       "    </tr>\n",
       "    <tr>\n",
       "      <td>3</td>\n",
       "      <td>2583</td>\n",
       "      <td>2358.0</td>\n",
       "      <td>120.0</td>\n",
       "      <td>360.0</td>\n",
       "      <td>1.0</td>\n",
       "      <td>1</td>\n",
       "    </tr>\n",
       "    <tr>\n",
       "      <td>4</td>\n",
       "      <td>6000</td>\n",
       "      <td>0.0</td>\n",
       "      <td>141.0</td>\n",
       "      <td>360.0</td>\n",
       "      <td>1.0</td>\n",
       "      <td>1</td>\n",
       "    </tr>\n",
       "  </tbody>\n",
       "</table>\n",
       "</div>"
      ],
      "text/plain": [
       "   ApplicantIncome  CoapplicantIncome  LoanAmount  Loan_Amount_Term  \\\n",
       "0  5849             0.0                0.0         360.0              \n",
       "1  4583             1508.0             128.0       360.0              \n",
       "2  3000             0.0                66.0        360.0              \n",
       "3  2583             2358.0             120.0       360.0              \n",
       "4  6000             0.0                141.0       360.0              \n",
       "\n",
       "   Credit_History  Loan_Status  \n",
       "0  1.0             1            \n",
       "1  1.0             0            \n",
       "2  1.0             1            \n",
       "3  1.0             1            \n",
       "4  1.0             1            "
      ]
     },
     "execution_count": 47,
     "metadata": {},
     "output_type": "execute_result"
    }
   ],
   "source": [
    "dataframe = pd.read_csv('../data/loan_prediction.csv')\n",
    "dataframe.head()\n",
    "X = dataframe.iloc[:,:-1]\n",
    "y = dataframe.iloc[:,-1]"
   ]
  },
  {
   "cell_type": "code",
   "execution_count": null,
   "metadata": {},
   "outputs": [],
   "source": [
    "Benchmarks?"
   ]
  },
  {
   "cell_type": "code",
   "execution_count": 56,
   "metadata": {},
   "outputs": [
    {
     "data": {
      "text/plain": [
       "1    0.687296\n",
       "0    0.312704\n",
       "Name: Loan_Status, dtype: float64"
      ]
     },
     "execution_count": 56,
     "metadata": {},
     "output_type": "execute_result"
    }
   ],
   "source": [
    "dataframe.Loan_Status.value_counts(normalize = True)"
   ]
  },
  {
   "cell_type": "code",
   "execution_count": null,
   "metadata": {},
   "outputs": [],
   "source": [
    "YES/NO\n",
    "TRUE/FALSE\n",
    "APRROVED/NON-APPROVED\n",
    "\n",
    "----> Encoding ----> Label Encoding"
   ]
  },
  {
   "cell_type": "code",
   "execution_count": 50,
   "metadata": {},
   "outputs": [],
   "source": [
    "X_train,X_test,y_train,y_test = train_test_split(X, y, test_size = 0.3)\n",
    "logistic_regressor = LogisticRegression()\n",
    "pipeline = Pipeline(steps=[('add_poly_features', PolynomialFeatures()),\n",
    "                           ('logistic_regression', logistic_regressor)])"
   ]
  },
  {
   "cell_type": "code",
   "execution_count": 51,
   "metadata": {
    "scrolled": true,
    "slideshow": {
     "slide_type": "subslide"
    }
   },
   "outputs": [
    {
     "data": {
      "text/plain": [
       "Pipeline(memory=None,\n",
       "         steps=[('add_poly_features',\n",
       "                 PolynomialFeatures(degree=2, include_bias=True,\n",
       "                                    interaction_only=False, order='C')),\n",
       "                ('logistic_regression',\n",
       "                 LogisticRegression(C=1.0, class_weight=None, dual=False,\n",
       "                                    fit_intercept=True, intercept_scaling=1,\n",
       "                                    l1_ratio=None, max_iter=100,\n",
       "                                    multi_class='auto', n_jobs=None,\n",
       "                                    penalty='l2', random_state=None,\n",
       "                                    solver='lbfgs', tol=0.0001, verbose=0,\n",
       "                                    warm_start=False))],\n",
       "         verbose=False)"
      ]
     },
     "execution_count": 51,
     "metadata": {},
     "output_type": "execute_result"
    },
    {
     "name": "stdout",
     "output_type": "stream",
     "text": [
      "0.7135135135135136\n"
     ]
    }
   ],
   "source": [
    "# Fit & Predict the model\n",
    "pipeline.fit(X_train, y_train)\n",
    "y_pred = pipeline.predict(X_test)\n",
    "print (accuracy_score(y_test, y_pred))"
   ]
  },
  {
   "cell_type": "code",
   "execution_count": 55,
   "metadata": {
    "scrolled": false
   },
   "outputs": [
    {
     "data": {
      "text/plain": [
       "array([1, 1, 1, 1, 1, 1, 1, 1, 1, 0, 1, 1, 0, 1, 1, 1, 1, 1, 1, 1, 1, 1,\n",
       "       1, 1, 1, 1, 1, 1, 1, 1, 1, 1, 1, 1, 1, 1, 1, 1, 1, 0, 1, 1, 1, 1,\n",
       "       1, 1, 1, 1, 1, 1, 1, 1, 1, 1, 1, 1, 1, 1, 1, 1, 1, 1, 1, 1, 1, 1,\n",
       "       1, 1, 1, 1, 1, 1, 1, 1, 1, 1, 1, 1, 1, 1, 1, 1, 1, 1, 1, 1, 1, 1,\n",
       "       1, 0, 1, 1, 1, 1, 1, 1, 1, 1, 1, 1, 1, 1, 1, 1, 1, 1, 1, 1, 1, 1,\n",
       "       1, 1, 1, 1, 1, 1, 1, 1, 1, 1, 1, 1, 1, 1, 1, 1, 1, 1, 1, 1, 1, 1,\n",
       "       1, 1, 1, 1, 1, 1, 1, 1, 1, 1, 1, 1, 0, 1, 1, 1, 1, 1, 1, 1, 1, 1,\n",
       "       1, 1, 1, 1, 1, 1, 1, 1, 1, 1, 1, 1, 1, 1, 1, 1, 1, 1, 1, 1, 1, 0,\n",
       "       1, 1, 0, 1, 0, 1, 1, 1, 1])"
      ]
     },
     "execution_count": 55,
     "metadata": {},
     "output_type": "execute_result"
    }
   ],
   "source": [
    "y_pred"
   ]
  },
  {
   "cell_type": "code",
   "execution_count": null,
   "metadata": {},
   "outputs": [],
   "source": [
    "Actual: 1, 0, 1, 0\n",
    "Pred: 1, 1, 1, 0\n",
    "\n",
    "How many correct: 3\n",
    "How many total samples = 4\n",
    "Accuracy = Correct/Total = 3/4 = 0.75"
   ]
  },
  {
   "cell_type": "code",
   "execution_count": null,
   "metadata": {},
   "outputs": [],
   "source": [
    "Internally\n",
    "logit(p) = f()\n",
    "1. Get probabiliy\n",
    "2. Convert to discrete (default threshold = 0.5)"
   ]
  },
  {
   "cell_type": "code",
   "execution_count": 60,
   "metadata": {},
   "outputs": [
    {
     "data": {
      "text/plain": [
       "1.0"
      ]
     },
     "execution_count": 60,
     "metadata": {},
     "output_type": "execute_result"
    }
   ],
   "source": [
    "0.46523733 + 0.53476267"
   ]
  },
  {
   "cell_type": "code",
   "execution_count": 59,
   "metadata": {},
   "outputs": [
    {
     "data": {
      "text/plain": [
       "array([[0.46523733, 0.53476267],\n",
       "       [0.45023043, 0.54976957],\n",
       "       [0.42990566, 0.57009434],\n",
       "       [0.48366984, 0.51633016],\n",
       "       [0.44236988, 0.55763012],\n",
       "       [0.29427534, 0.70572466],\n",
       "       [0.43143979, 0.56856021],\n",
       "       [0.21294332, 0.78705668],\n",
       "       [0.28281508, 0.71718492],\n",
       "       [0.8264763 , 0.1735237 ],\n",
       "       [0.24650682, 0.75349318],\n",
       "       [0.31398685, 0.68601315],\n",
       "       [0.59016506, 0.40983494],\n",
       "       [0.18807382, 0.81192618],\n",
       "       [0.45006223, 0.54993777],\n",
       "       [0.28243324, 0.71756676],\n",
       "       [0.43221751, 0.56778249],\n",
       "       [0.30889533, 0.69110467],\n",
       "       [0.3490234 , 0.6509766 ],\n",
       "       [0.42114564, 0.57885436],\n",
       "       [0.3421362 , 0.6578638 ],\n",
       "       [0.2866854 , 0.7133146 ],\n",
       "       [0.12916645, 0.87083355],\n",
       "       [0.40564261, 0.59435739],\n",
       "       [0.31316142, 0.68683858],\n",
       "       [0.31313198, 0.68686802],\n",
       "       [0.28230709, 0.71769291],\n",
       "       [0.39467229, 0.60532771],\n",
       "       [0.29842988, 0.70157012],\n",
       "       [0.29753992, 0.70246008],\n",
       "       [0.28579811, 0.71420189],\n",
       "       [0.30430951, 0.69569049],\n",
       "       [0.29147563, 0.70852437],\n",
       "       [0.42307771, 0.57692229],\n",
       "       [0.30556823, 0.69443177],\n",
       "       [0.28145424, 0.71854576],\n",
       "       [0.39683834, 0.60316166],\n",
       "       [0.35336046, 0.64663954],\n",
       "       [0.48949263, 0.51050737],\n",
       "       [0.76373911, 0.23626089],\n",
       "       [0.44917216, 0.55082784],\n",
       "       [0.18365436, 0.81634564],\n",
       "       [0.4235951 , 0.5764049 ],\n",
       "       [0.37837228, 0.62162772],\n",
       "       [0.20528158, 0.79471842],\n",
       "       [0.28968505, 0.71031495],\n",
       "       [0.35053108, 0.64946892],\n",
       "       [0.44002109, 0.55997891],\n",
       "       [0.42726818, 0.57273182],\n",
       "       [0.37418715, 0.62581285],\n",
       "       [0.47839693, 0.52160307],\n",
       "       [0.46713105, 0.53286895],\n",
       "       [0.33739475, 0.66260525],\n",
       "       [0.32435458, 0.67564542],\n",
       "       [0.40567198, 0.59432802],\n",
       "       [0.25467845, 0.74532155],\n",
       "       [0.30233111, 0.69766889],\n",
       "       [0.34095756, 0.65904244],\n",
       "       [0.40784676, 0.59215324],\n",
       "       [0.17476822, 0.82523178],\n",
       "       [0.40010609, 0.59989391],\n",
       "       [0.2976133 , 0.7023867 ],\n",
       "       [0.25949291, 0.74050709],\n",
       "       [0.38227531, 0.61772469],\n",
       "       [0.172085  , 0.827915  ],\n",
       "       [0.26479076, 0.73520924],\n",
       "       [0.31873288, 0.68126712],\n",
       "       [0.30193331, 0.69806669],\n",
       "       [0.32917971, 0.67082029],\n",
       "       [0.45801078, 0.54198922],\n",
       "       [0.49573518, 0.50426482],\n",
       "       [0.305978  , 0.694022  ],\n",
       "       [0.4336312 , 0.5663688 ],\n",
       "       [0.21536464, 0.78463536],\n",
       "       [0.18238168, 0.81761832],\n",
       "       [0.29571   , 0.70429   ],\n",
       "       [0.25752946, 0.74247054],\n",
       "       [0.45650726, 0.54349274],\n",
       "       [0.41178374, 0.58821626],\n",
       "       [0.26146905, 0.73853095],\n",
       "       [0.44434532, 0.55565468],\n",
       "       [0.46599362, 0.53400638],\n",
       "       [0.43535536, 0.56464464],\n",
       "       [0.30702125, 0.69297875],\n",
       "       [0.39648036, 0.60351964],\n",
       "       [0.36039807, 0.63960193],\n",
       "       [0.44732652, 0.55267348],\n",
       "       [0.39428311, 0.60571689],\n",
       "       [0.41185665, 0.58814335],\n",
       "       [0.55389527, 0.44610473],\n",
       "       [0.47467526, 0.52532474],\n",
       "       [0.29026761, 0.70973239],\n",
       "       [0.2941832 , 0.7058168 ],\n",
       "       [0.4438552 , 0.5561448 ],\n",
       "       [0.32848377, 0.67151623],\n",
       "       [0.47500305, 0.52499695],\n",
       "       [0.2927818 , 0.7072182 ],\n",
       "       [0.22727641, 0.77272359],\n",
       "       [0.28589721, 0.71410279],\n",
       "       [0.43908404, 0.56091596],\n",
       "       [0.31105255, 0.68894745],\n",
       "       [0.44031733, 0.55968267],\n",
       "       [0.40937881, 0.59062119],\n",
       "       [0.364458  , 0.635542  ],\n",
       "       [0.4358866 , 0.5641134 ],\n",
       "       [0.40740395, 0.59259605],\n",
       "       [0.16365701, 0.83634299],\n",
       "       [0.26005466, 0.73994534],\n",
       "       [0.33160695, 0.66839305],\n",
       "       [0.45250712, 0.54749288],\n",
       "       [0.3530068 , 0.6469932 ],\n",
       "       [0.49444768, 0.50555232],\n",
       "       [0.42939198, 0.57060802],\n",
       "       [0.4047291 , 0.5952709 ],\n",
       "       [0.34764249, 0.65235751],\n",
       "       [0.36228978, 0.63771022],\n",
       "       [0.28093675, 0.71906325],\n",
       "       [0.45526829, 0.54473171],\n",
       "       [0.25160849, 0.74839151],\n",
       "       [0.44744191, 0.55255809],\n",
       "       [0.45134575, 0.54865425],\n",
       "       [0.3552258 , 0.6447742 ],\n",
       "       [0.37342687, 0.62657313],\n",
       "       [0.43737574, 0.56262426],\n",
       "       [0.42401402, 0.57598598],\n",
       "       [0.33532407, 0.66467593],\n",
       "       [0.32950304, 0.67049696],\n",
       "       [0.39246056, 0.60753944],\n",
       "       [0.42605038, 0.57394962],\n",
       "       [0.33021284, 0.66978716],\n",
       "       [0.33814   , 0.66186   ],\n",
       "       [0.26630208, 0.73369792],\n",
       "       [0.43248236, 0.56751764],\n",
       "       [0.45023162, 0.54976838],\n",
       "       [0.4245527 , 0.5754473 ],\n",
       "       [0.4695971 , 0.5304029 ],\n",
       "       [0.34461918, 0.65538082],\n",
       "       [0.30343277, 0.69656723],\n",
       "       [0.42853291, 0.57146709],\n",
       "       [0.39244951, 0.60755049],\n",
       "       [0.40009392, 0.59990608],\n",
       "       [0.44381323, 0.55618677],\n",
       "       [0.44337539, 0.55662461],\n",
       "       [0.42848767, 0.57151233],\n",
       "       [0.58452449, 0.41547551],\n",
       "       [0.43316585, 0.56683415],\n",
       "       [0.26957502, 0.73042498],\n",
       "       [0.26883969, 0.73116031],\n",
       "       [0.32358839, 0.67641161],\n",
       "       [0.38791741, 0.61208259],\n",
       "       [0.23102392, 0.76897608],\n",
       "       [0.31180762, 0.68819238],\n",
       "       [0.41953857, 0.58046143],\n",
       "       [0.28646827, 0.71353173],\n",
       "       [0.29983816, 0.70016184],\n",
       "       [0.29271938, 0.70728062],\n",
       "       [0.43604673, 0.56395327],\n",
       "       [0.32980294, 0.67019706],\n",
       "       [0.44507983, 0.55492017],\n",
       "       [0.34087445, 0.65912555],\n",
       "       [0.28552789, 0.71447211],\n",
       "       [0.25775538, 0.74224462],\n",
       "       [0.45479918, 0.54520082],\n",
       "       [0.25421601, 0.74578399],\n",
       "       [0.37402968, 0.62597032],\n",
       "       [0.26776351, 0.73223649],\n",
       "       [0.46503642, 0.53496358],\n",
       "       [0.3548743 , 0.6451257 ],\n",
       "       [0.26032049, 0.73967951],\n",
       "       [0.30646148, 0.69353852],\n",
       "       [0.32485045, 0.67514955],\n",
       "       [0.26704894, 0.73295106],\n",
       "       [0.40870331, 0.59129669],\n",
       "       [0.31704833, 0.68295167],\n",
       "       [0.28071743, 0.71928257],\n",
       "       [0.79961418, 0.20038582],\n",
       "       [0.34349871, 0.65650129],\n",
       "       [0.28617521, 0.71382479],\n",
       "       [0.61058685, 0.38941315],\n",
       "       [0.40322242, 0.59677758],\n",
       "       [0.72768341, 0.27231659],\n",
       "       [0.3073838 , 0.6926162 ],\n",
       "       [0.33269692, 0.66730308],\n",
       "       [0.30814284, 0.69185716],\n",
       "       [0.40464745, 0.59535255]])"
      ]
     },
     "execution_count": 59,
     "metadata": {},
     "output_type": "execute_result"
    }
   ],
   "source": [
    "pipeline.predict_proba(X_test)"
   ]
  },
  {
   "cell_type": "markdown",
   "metadata": {
    "slideshow": {
     "slide_type": "slide"
    }
   },
   "source": [
    "## Hyperparameter Tuning\n",
    "***\n",
    "* We saw while discussing regularization that by changing the value of 𝛂, we can control the bias-variance trade-off.<br>\n",
    "\n",
    "* Similarly there are many such parameters, by controlling and changing whom we can fine tune performance of a model.\n",
    "\n",
    "* Such parameters are called hyperparameters and the act of controlling and changing them to fine tune the performance of a model is called hyperparameter tuning.\n",
    "\n",
    "*  *Hyperparameters are parameters whose values are set prior to the commencement of the learning process.*"
   ]
  },
  {
   "cell_type": "markdown",
   "metadata": {
    "slideshow": {
     "slide_type": "subslide"
    }
   },
   "source": [
    "## Hyperparameter Tuning\n",
    "***\n",
    "* By contrast, the value of other parameters is derived via training.\n",
    "\n",
    "\n",
    "* Hyperparameter optimization or model selection is the problem of choosing a set of optimal hyperparameters for a learning algorithm, usually with the goal of optimizing a measure of the algorithm's performance on an independent data set."
   ]
  },
  {
   "cell_type": "markdown",
   "metadata": {
    "slideshow": {
     "slide_type": "subslide"
    }
   },
   "source": [
    "## Hyperparameter Tuning\n",
    "***\n",
    "So, to summarize Hyperparameters: \n",
    "\n",
    "* Define higher level concepts about the model such as complexity, or capacity to learn.\n",
    "* Cannot be learned directly from the data in the standard model training process and need to be predefined.\n",
    "* Can be decided by setting different values, training different models, and choosing the values that test better.\n"
   ]
  },
  {
   "cell_type": "markdown",
   "metadata": {
    "slideshow": {
     "slide_type": "subslide"
    }
   },
   "source": [
    "## Hyperparameter Tuning\n",
    "***\n",
    "Some examples of hyperparameters: \n",
    "\n",
    "\n",
    "* Number of leaves or depth of a tree.\n",
    "* Number of latent factors in a matrix factorization.\n",
    "* Learning rate (in many models).\n",
    "* Number of hidden layers in a deep neural network.\n",
    "* Number of clusters in a k-means clustering."
   ]
  },
  {
   "cell_type": "markdown",
   "metadata": {
    "slideshow": {
     "slide_type": "subslide"
    }
   },
   "source": [
    "## Overview of Methods of Hyperparamter Tuning\n",
    "***\n",
    "* Grid Search\n",
    "* Random Search"
   ]
  },
  {
   "cell_type": "markdown",
   "metadata": {
    "slideshow": {
     "slide_type": "slide"
    }
   },
   "source": [
    "## Grid Search\n",
    "***\n",
    "* Grid search is an approach to parameter tuning that will methodically build and evaluate a model for each combination of algorithm parameters specified in a grid.\n",
    "\n",
    "The grid is generally provided as a parameter.\n",
    "\n"
   ]
  },
  {
   "cell_type": "markdown",
   "metadata": {
    "slideshow": {
     "slide_type": "subslide"
    }
   },
   "source": [
    "## Grid Search\n",
    "***\n",
    "* Let's see how we can perform the gridsearch using sklearn.\n",
    "* Here, first we decide which parameters we check using grid search, and also decide the values at which we want to carry out the search."
   ]
  },
  {
   "cell_type": "markdown",
   "metadata": {
    "slideshow": {
     "slide_type": "subslide"
    }
   },
   "source": [
    "## Defining the parameters in `sklearn`\n",
    "***\n",
    "* We can specify the parameters for a particular element in the pipeline by concatenating the parameter name with element name using a double underscore (\"__\")\n",
    "* For a single element, just specify parameter and values\n",
    "* See an example below"
   ]
  },
  {
   "cell_type": "code",
   "execution_count": null,
   "metadata": {
    "slideshow": {
     "slide_type": "subslide"
    }
   },
   "outputs": [],
   "source": [
    "from sklearn.linear_model import Ridge\n",
    "from sklearn.model_selection import GridSearchCV,cross_val_score\n",
    "from sklearn.metrics import classification_report\n",
    "\n",
    "## For a single object\n",
    "ridge = Ridge()\n",
    "params = {\"alpha\": [1, 2, 5, 10],\n",
    "          \"fit_intercept\": [True, False]}"
   ]
  },
  {
   "cell_type": "code",
   "execution_count": null,
   "metadata": {
    "slideshow": {
     "slide_type": "subslide"
    }
   },
   "outputs": [],
   "source": [
    "## For a pipeline object\n",
    "pipeline = Pipeline(steps=[('add_poly_features', PolynomialFeatures()),\n",
    "                           ('logistic_regression', logistic_regressor)])\n",
    "\n",
    "## Defining the parametrs grid\n",
    "params = {'add_poly_features__degree':[2,3,4,5],\n",
    "          'logistic_regression__penalty':['l1','l2']}"
   ]
  },
  {
   "cell_type": "markdown",
   "metadata": {
    "slideshow": {
     "slide_type": "subslide"
    }
   },
   "source": [
    "## Using `gridsearch` in `sklearn`\n",
    "***\n",
    "* After defining the object and the parameters grid, pass them in the  `GridSearchCV` and let sklearn take over!"
   ]
  },
  {
   "cell_type": "code",
   "execution_count": null,
   "metadata": {
    "slideshow": {
     "slide_type": "subslide"
    }
   },
   "outputs": [],
   "source": [
    "grid_search = GridSearchCV(estimator=pipeline, param_grid=params)\n",
    "grid_search.fit(X_train,y_train)\n",
    "y_prediction = grid_search.predict(X_test)\n",
    "\n",
    "cross_val_score(grid_search.best_estimator_,X_train,y_train)"
   ]
  },
  {
   "cell_type": "markdown",
   "metadata": {
    "slideshow": {
     "slide_type": "slide"
    }
   },
   "source": [
    "## Random Search\n",
    "***\n",
    "* Random search is an approach to parameter tuning that will sample algorithm parameters from a random distribution (i.e. uniform) for a fixed number of iterations.\n",
    "* A model is constructed and evaluated for each combination of parameters chosen.\n"
   ]
  },
  {
   "cell_type": "markdown",
   "metadata": {
    "slideshow": {
     "slide_type": "subslide"
    }
   },
   "source": [
    "## Using Random Search in `sklearn` \n",
    "***"
   ]
  },
  {
   "cell_type": "code",
   "execution_count": null,
   "metadata": {
    "slideshow": {
     "slide_type": "subslide"
    }
   },
   "outputs": [],
   "source": [
    "from sklearn.model_selection import RandomizedSearchCV\n",
    "params = {'add_poly_features__degree': range(0,4),\n",
    "          'logistic_regression__penalty':['l1','l2']}\n",
    "\n",
    "rand_search = RandomizedSearchCV(estimator = pipeline,param_distributions = params, n_iter=5)\n",
    "rand_search.fit(X_train,y_train)\n",
    "y_prediction = rand_search.predict(X_test)\n",
    "\n",
    "cross_val_score(rand_search.best_estimator_,X_train,y_train)"
   ]
  },
  {
   "cell_type": "markdown",
   "metadata": {
    "slideshow": {
     "slide_type": "slide"
    }
   },
   "source": [
    "## Changing Tracks for a bit\n",
    "***\n",
    "- Now that we're getting a better idea of Logistic Regression, we need to understand what is happening behind the scenes! \n",
    "\n",
    "- How are we getting correct predictions with the help of the sigmoid function? \n",
    "\n",
    "- As you might have guessed, like Linear Regression, this has a lot to do with our Paramters (thetas) AND how we get those optimal parameters (computationally)\n",
    "\n",
    "- Getting those optimal parameters is directly related to the Cost Function!! Let's get straight to it! "
   ]
  },
  {
   "cell_type": "markdown",
   "metadata": {
    "slideshow": {
     "slide_type": "slide"
    }
   },
   "source": [
    "## Logistic Regression - Cost Function and Gradient Descent\n",
    "***\n",
    "- Till now we studied the intuition behind the Sigmoid Function\n",
    "\n",
    "- We also studied how Logistic Regression works to get outputs in the range of [0,1]\n",
    "\n",
    "- We discussed the interpretation of the output too! \n",
    "\n",
    "<div class=\"alert alert-block alert-info\"> Now, like Linear Regression let's delve deeper into the intuition behind the Cost Function and how we apply Gradient Descent to make things work in Logistic Regression. It's actually quite clever!\n",
    "</div>"
   ]
  },
  {
   "cell_type": "markdown",
   "metadata": {
    "slideshow": {
     "slide_type": "slide"
    }
   },
   "source": [
    "## Cost Function \n",
    "***\n",
    " - Fit θ parameters\n",
    " - Define the optimization object for the cost function we use the fit the parameters\n",
    "     - Training set consists of **\"m\"** training examples\n",
    "         - Each example has is **n+1** length column vector\n",
    "***      \n",
    " <center><img src=../images/Image[8].png alt=\"Math\" style=\"width: 350px;\"/></center> "
   ]
  },
  {
   "cell_type": "code",
   "execution_count": null,
   "metadata": {},
   "outputs": [],
   "source": [
    "Linear combination of input features"
   ]
  },
  {
   "cell_type": "markdown",
   "metadata": {
    "slideshow": {
     "slide_type": "subslide"
    }
   },
   "source": [
    "## Cost Function\n",
    "***\n",
    "* This is the situation: \n",
    "  - Set of m training examples\n",
    "  - Each example is a feature vector which is n+1 dimensional\n",
    "  - x0 = 1\n",
    "  - y ∈ {0,1}\n",
    "  - Hypothesis is based on parameters (θ)\n",
    "      - **Given the training set how to we chose/fit θ?**\n"
   ]
  },
  {
   "cell_type": "markdown",
   "metadata": {
    "slideshow": {
     "slide_type": "subslide"
    }
   },
   "source": [
    "## Cost Function\n",
    "***\n",
    " - For Linear Regression we use the following Cost Function to determine optimal θ's\n",
    " ***      \n",
    " <center><img src=../images/Image[9].png alt=\"Math\" style=\"width: 250px;\"/></center> "
   ]
  },
  {
   "cell_type": "code",
   "execution_count": null,
   "metadata": {},
   "outputs": [],
   "source": [
    "h_theta = Ypred = B0 + B1*X1 + B2*X2...\n",
    "Jtheta = (Ypred - Ytrue)^2\n",
    "Least Squares Cost function\n",
    "\n",
    "1. Derivative of cost function wrt each individual parameter = 0\n",
    "Gradient descent update rule"
   ]
  },
  {
   "cell_type": "markdown",
   "metadata": {
    "slideshow": {
     "slide_type": "subslide"
    }
   },
   "source": [
    "## Cost Function\n",
    "***\n",
    "- Instead of writing the squared error term, we can write; if we define \"cost()\", \n",
    "Which evaluates to the cost for an individual example using the same measure as used in linear regression\n",
    "\n",
    " - We can redefine J(θ) as\n",
    "\n",
    "***      \n",
    " <center><img src=../images/Image[10].png alt=\"Math\" style=\"width: 250px;\"/></center> "
   ]
  },
  {
   "cell_type": "code",
   "execution_count": null,
   "metadata": {},
   "outputs": [],
   "source": [
    "h_theta = Ypred = B0 + B1*X1 + B2*X2...\n",
    "\n",
    "logistic Regression:\n",
    "h_theta = g(B0 + B1*X1 + B2*X2...)\n",
    "Sigmoid transformation\n",
    "\n",
    "Non-Convex \n",
    "Convex function ---> friends\n",
    "Well behaved functions\n",
    "\n",
    "Local minima\n",
    "MSE"
   ]
  },
  {
   "cell_type": "markdown",
   "metadata": {
    "slideshow": {
     "slide_type": "subslide"
    }
   },
   "source": [
    "<img src=\"../images/Maths-Insight.png\" alt=\"Maths-Insight\" style=\"width: 100px;float:left; margin-right:15px\"/>\n",
    "<br />\n",
    "\n",
    "## Cost Function\n",
    "***\n",
    " - What does this actually mean?\n",
    "   - This is the cost you want the learning algorithm to pay if the **outcome is hθ(x)** and the *actual outcome is y*\n",
    "   \n",
    " - What else do we need to consider?\n",
    "   - We would like a **convex function** so if you run gradient descent you converge to a **global minimum**\n",
    "   \n",
    " - Why? \n",
    "   - If we just use the Sigmoid function as is in the cost function on the previous slide, it's a **NON-CONVEX** function \n",
    " \n",
    " - What do you mean by Non-Convex? \n",
    "   - Our hypothesis function has a non-linearity (sigmoid function of hθ(x) )\n",
    "   - This is a non-linear function\n",
    "   "
   ]
  },
  {
   "cell_type": "markdown",
   "metadata": {
    "slideshow": {
     "slide_type": "subslide"
    }
   },
   "source": [
    "<img src=\"../images/Maths-Insight.png\" alt=\"Maths-Insight\" style=\"width: 100px;float:left; margin-right:15px\"/>\n",
    "<br />\n",
    "\n",
    "## Cost Function - Local Optima vs Global Optima\n",
    "***\n",
    "Since it's non-convex:\n",
    "\n",
    " - If you take hθ(x) and plug it into the Cost() function, and them plug the Cost() function into J(θ) and plot J(θ) we find many **local optimum** -> non convex function\n",
    " \n",
    " - Why is this a problem?\n",
    "     - Lots of **local minima** mean gradient descent may not find the **global optimum** - may get stuck in a global minimum\n",
    "     - We would like a convex function so if you run gradient descent you converge to a global minimum\n",
    "***      \n",
    " <center><img src=../images/local-optima.png alt=\"Math\" style=\"width: 500px;\"/></center> "
   ]
  },
  {
   "cell_type": "code",
   "execution_count": null,
   "metadata": {},
   "outputs": [],
   "source": [
    "minima and maxima\n",
    "function ---> double derivative > 0 ---> convex"
   ]
  },
  {
   "cell_type": "code",
   "execution_count": null,
   "metadata": {},
   "outputs": [],
   "source": [
    "Regression\n",
    "xgboost, random forest ---> ROXX\n",
    "Neural Nets --"
   ]
  },
  {
   "cell_type": "markdown",
   "metadata": {
    "slideshow": {
     "slide_type": "subslide"
    }
   },
   "source": [
    "<img src=\"../images/Maths-Insight.png\" alt=\"Maths-Insight\" style=\"width: 100px;float:left; margin-right:15px\"/>\n",
    "<br />\n",
    "\n",
    "## A Convex Cost Function \n",
    "***\n",
    " - To get around this we need a different, convex Cost() function which means we can apply gradient descent\n",
    " - This is our Logistic Regression Cost Function: \n",
    " ***\n",
    " <center><img src=\"../images/Images[12].jpg\" alt=\"Math\" style=\"width: 500px;\"/></center>"
   ]
  },
  {
   "cell_type": "code",
   "execution_count": null,
   "metadata": {},
   "outputs": [],
   "source": [
    "Logloss error\n",
    "Cross entropy \n",
    "Binary cross entropy function"
   ]
  },
  {
   "cell_type": "code",
   "execution_count": null,
   "metadata": {},
   "outputs": [],
   "source": [
    "J_theta = log(h_theta)\n",
    "= 0"
   ]
  },
  {
   "cell_type": "markdown",
   "metadata": {
    "slideshow": {
     "slide_type": "subslide"
    }
   },
   "source": [
    " - Let's consider y = 1 and plot the fucntion\n",
    "  ***  \n",
    " <center><img src=../images/Image[13].png alt=\"Math\" style=\"width: 250px;\"/></center>"
   ]
  },
  {
   "cell_type": "markdown",
   "metadata": {
    "slideshow": {
     "slide_type": "subslide"
    }
   },
   "source": [
    "## Intuition - Convex Cost Function\n",
    "***\n",
    " - X axis is what we predict\n",
    " \n",
    " - **Y axis is the cost associated with that prediction**\n",
    " \n",
    "So when we're right, i.e when the predicted and actual y = 1 \n",
    " - cost function is 0\n",
    " \n",
    "Else it slowly increases cost function as we become \"more\" wrong\n",
    "\n",
    "This cost functions has some interesting properties:\n",
    "\n",
    " - If y = 1 and hθ(x) = 1\n",
    "If hypothesis predicts exactly 1 and thats exactly correct then that corresponds to 0 (exactly, not nearly 0)\n",
    "\n",
    "As hθ(x) goes to 0\n",
    " - Cost goes to infinity\n",
    "\n",
    "This captures the intuition that if hθ(x) = 0 (predict P (y=1|x; θ) = 0) but y = 1 this will penalize the learning algorithm with a **massive cost**"
   ]
  },
  {
   "cell_type": "markdown",
   "metadata": {
    "slideshow": {
     "slide_type": "subslide"
    }
   },
   "source": [
    "## Intuition - Convex Cost Function\n",
    "***\n",
    "Let's plot the cost function when y = 0\n",
    "***\n",
    " <center><img src=../images/Image[14].png alt=\"Math\" style=\"width: 250px;\"/></center>"
   ]
  },
  {
   "cell_type": "markdown",
   "metadata": {
    "slideshow": {
     "slide_type": "subslide"
    }
   },
   "source": [
    "<img src=\"../images/Maths-Insight.png\" alt=\"Maths-Insight\" style=\"width: 100px;float:left; margin-right:15px\"/>\n",
    "<br />\n",
    "\n",
    "## Intuition - Convex Cost Function\n",
    "***\n",
    " - When y = 0, we know that the cost is  -log(1- hθ( x ))\n",
    " \n",
    " \n",
    " - In essence, it's the inverese of the cost when y = 1. We can see that graphically [previous slide]\n",
    " \n",
    " \n",
    " - Now it goes to **plus infinity as hθ(x) goes to 1**\n",
    " \n",
    " \n",
    " - With our particular cost functions J(θ) is going to be **convex** and avoid local minimum"
   ]
  },
  {
   "cell_type": "markdown",
   "metadata": {
    "slideshow": {
     "slide_type": "subslide"
    }
   },
   "source": [
    "## This is true..\n",
    "\n",
    "***\n",
    " <center><img src=../images/meme_orlando.png alt=\"OB\" style=\"width: 400px;\"/></center>"
   ]
  },
  {
   "cell_type": "markdown",
   "metadata": {
    "slideshow": {
     "slide_type": "slide"
    }
   },
   "source": [
    "<img src=\"../images/Maths-Insight.png\" alt=\"Maths-Insight\" style=\"width: 100px;float:left; margin-right:15px\"/>\n",
    "<br />\n",
    "\n",
    "## Enter : Simplified Cost Function \n",
    "***\n",
    "An easier way to write the cost function is when we combine the 2: \n",
    "\n",
    " - cost(hθ, (x),y) = -ylog( hθ(x) ) - (1-y)log( 1- hθ(x) ) \n",
    " \n"
   ]
  },
  {
   "cell_type": "markdown",
   "metadata": {
    "slideshow": {
     "slide_type": "slide"
    }
   },
   "source": [
    "## Simplified Cost Function \n",
    "***\n",
    "When y = 1\n",
    " - Then our equation simplifies to:\n",
    "    - -log(hθ(x)) - (0)log(1 - hθ(x))\n",
    "    - = -log(hθ(x))\n",
    "\n",
    " - **Which is what we had before when y = 1**\n",
    " "
   ]
  },
  {
   "cell_type": "markdown",
   "metadata": {
    "slideshow": {
     "slide_type": "subslide"
    }
   },
   "source": [
    "## Simplified Cost Function \n",
    "***\n",
    "When y = 0\n",
    "\n",
    " - Then our equation simplifies to:\n",
    "     - -(0)log(hθ(x)) - (1)log(1 - hθ(x))\n",
    "     - = -log(1- hθ(x))\n",
    " - **Which is what we had before when y = 0**\n",
    " \n",
    "Clever!"
   ]
  },
  {
   "cell_type": "markdown",
   "metadata": {
    "slideshow": {
     "slide_type": "subslide"
    }
   },
   "source": [
    "<img src=\"../images/Maths-Insight.png\" alt=\"Maths-Insight\" style=\"width: 100px;float:left; margin-right:15px\"/>\n",
    "<br />\n",
    "\n",
    "## Simplified Cost Function\n",
    "***\n",
    "To sum it up, our cost function for \"m\" training examples is: \n",
    "***\n",
    " <img src=../images/Image[16].png alt=\"Math\" style=\"width: 400px;\"/>"
   ]
  },
  {
   "cell_type": "code",
   "execution_count": null,
   "metadata": {},
   "outputs": [],
   "source": [
    "B0 = 5\n",
    "B1 = 9\n",
    "B2 = 10\n",
    "\n",
    "z = B0 + B1*X1 + B2*X2\n",
    "h(x) = g(z)"
   ]
  },
  {
   "cell_type": "markdown",
   "metadata": {
    "slideshow": {
     "slide_type": "subslide"
    }
   },
   "source": [
    "## Utilizing Gradient Descent\n",
    "***\n",
    " - Now to get minimum θ : Repeat: \n",
    "***\n",
    " <center><img src=../images/image31.png alt=\"OB\" style=\"width: 250px;\"/></center>\n",
    "***\n",
    " - We need to Minimize J(θ)"
   ]
  },
  {
   "cell_type": "markdown",
   "metadata": {
    "slideshow": {
     "slide_type": "subslide"
    }
   },
   "source": [
    "<img src=\"../images/Maths-Insight.png\" alt=\"Maths-Insight\" style=\"width: 100px;float:left; margin-right:15px\"/>\n",
    "<br />\n",
    "\n",
    "## Utilizing Gradient Descent\n",
    "***\n",
    " - After doing some mathematical derivations and re-arranging, we get an Algorithm that's similar to the one we encountered in Linear Regression:\n",
    "***\n",
    " <center><img src=../images/image34.png alt=\"OB\" style=\"width: 200px;\"/></center>\n",
    "***\n",
    "and this is how we simultaneously update \"θ\" for all \"j\".  Also:\n",
    "***\n",
    " <center><img src=../images/Image[17].png alt=\"OB\" style=\"width: 200px;\"/></center>"
   ]
  },
  {
   "cell_type": "markdown",
   "metadata": {
    "slideshow": {
     "slide_type": "subslide"
    }
   },
   "source": [
    "<img src=\"../images/Maths-Insight.png\" alt=\"Maths-Insight\" style=\"width: 100px;float:left; margin-right:15px\"/>\n",
    "<br />\n",
    "\n",
    "## Simply Put\n",
    "***\n",
    " <center><img src=../images/Image[18].png alt=\"OB\" style=\"width: 350px;\"/></center>"
   ]
  },
  {
   "cell_type": "markdown",
   "metadata": {
    "slideshow": {
     "slide_type": "subslide"
    }
   },
   "source": [
    "## Back to John's Problem\n",
    "***\n",
    "John wants apply this model to his loan prediction dataset, but he will have to wait till you solve your project!\n"
   ]
  },
  {
   "cell_type": "markdown",
   "metadata": {
    "slideshow": {
     "slide_type": "slide"
    }
   },
   "source": [
    "## Ways to Evaluate \n",
    "***\n",
    " - We can tell that if we sit to cross-check each and every prediction, it can take days to find out how well our model did\n",
    " \n",
    " - This calls for a better method to evaluate our model. Methods such as Confusion Matrix, accuracy, F1-score, etc are all very handy mechanisms and are very easy to build due to the advanced libraries available to us! \n",
    " \n",
    " - Let's check these out! "
   ]
  },
  {
   "cell_type": "markdown",
   "metadata": {
    "slideshow": {
     "slide_type": "slide"
    }
   },
   "source": [
    "## Evalution Metrics for Logistic Regression\n",
    "***\n",
    "* As we already know, we use different metrics for regression and classification\n",
    "* We know that we can use `MSE` for regression problems and `Accuracy` for classification problems\n",
    "* However, these might not be the best metrics in every situation<br><br>"
   ]
  },
  {
   "cell_type": "markdown",
   "metadata": {
    "slideshow": {
     "slide_type": "subslide"
    }
   },
   "source": [
    "## Evalution Metrics for Logistic Regression\n",
    "***\n",
    "**Example**<br><br>\n",
    "We are trying to detect credit card fraud.\n",
    "Occurrence rate of fraud is 3 in 1000.\n",
    "Let's say our model predicted as in the table : \n",
    "\n",
    "\n",
    "| Value | Fraud  | Not Fraud |\n",
    "|---|---|---|\n",
    "| Predicted Fraud | 1 | 1 |\n",
    "| Predicted Not Fraud | 2 | 996 |\n",
    "\n",
    "\n",
    "* Following are the types of Classification Metrics :\n",
    "    * Confusion Matrix\n",
    "    * Classification Matrix\n",
    "    * F1 Score\n",
    "    * Area under ROC curve\n",
    "    * Classification Report\n",
    "    * Logarithmic Loss"
   ]
  },
  {
   "cell_type": "markdown",
   "metadata": {
    "slideshow": {
     "slide_type": "subslide"
    }
   },
   "source": [
    "### Confusion Matrix\n",
    "***\n",
    "- The confusion matrix is a handy presentation of the accuracy of a model with two or more classes. Below is an example of a Confusion Matrix \n",
    "<br><br>\n",
    "\n",
    "\n",
    "| Value | Fraud  | Not Fraud |\n",
    "|---|---|---|\n",
    "| Predicted Fraud | 1 | 1 |\n",
    "| Predicted Not Fraud | 2 | 996 |\n",
    "\n",
    "\n",
    "    True Positives (TP): These are predicted yes and actually yes (Top Left)\n",
    "    True Negatives (TN): We predicted no, and actually no (Top Right) \n",
    "    False Positives (FP): We predicted yes, but actually no. (AKA \"Type I error.\") (Top Right) \n",
    "    False Negatives (FN): We predicted no, but yes. (AKA\"Type II error.\") (Bottom Left)\n"
   ]
  },
  {
   "cell_type": "markdown",
   "metadata": {
    "slideshow": {
     "slide_type": "subslide"
    }
   },
   "source": [
    "### Confusion Matrix\n",
    "***\n",
    "* Classification accuracy is the number of correct predictions **(TN + TP)** made as a ratio of all predictions made. **(TN + TP +FN + FP)**<br><br>\n",
    "It is suitable when :\n",
    "* There are an equal number of observations in each class\n",
    "* That all predictions and prediction errors are equally important,which is often not the case."
   ]
  },
  {
   "cell_type": "markdown",
   "metadata": {
    "slideshow": {
     "slide_type": "subslide"
    }
   },
   "source": [
    "## John's Confusion Matrix\n",
    "***\n",
    " - John now considers viewing the confusion matrix to see how well his model performed\n",
    " \n",
    " - Let's see how he did this in Python"
   ]
  },
  {
   "cell_type": "code",
   "execution_count": null,
   "metadata": {
    "slideshow": {
     "slide_type": "subslide"
    }
   },
   "outputs": [],
   "source": [
    "# Applying confusion matrix on above data\n",
    "from sklearn.metrics import confusion_matrix\n",
    "confusion_matrix(y_test,y_pred)"
   ]
  },
  {
   "cell_type": "markdown",
   "metadata": {
    "slideshow": {
     "slide_type": "subslide"
    }
   },
   "source": [
    "## Precision and Recall \n",
    "***\n",
    "So we have \n",
    "\n",
    "\n",
    "| Value | Actual Class 1  | Actual Class 0 |\n",
    "|---|---|---|\n",
    "| Predicted Class 1| True +ve  | False +ve |\n",
    "| Predicted Class 0 | False -ve | True -ve  |\n",
    "\n",
    "\n",
    "Consider this: Let's say *y=1* in presence of Cancer in a patient\n",
    "\n",
    " - Now, of all patients where we predicted y = 1, what fraction actually has cancer? Think about this given the table above! "
   ]
  },
  {
   "cell_type": "markdown",
   "metadata": {
    "slideshow": {
     "slide_type": "subslide"
    }
   },
   "source": [
    "## Precision and Recall \n",
    "***\n",
    "It turns out that what we're trying to calculate is nothing but the **Precision** of the model\n",
    "\n",
    "Here, \n",
    "\n",
    "\n",
    "$$Precision = \\frac {(True +ves)} {(True +ves  +  False +ves)}$$\n",
    "\n",
    "Doesn't this make sense? This is the fraction that **ACTUALLY** has Cancer"
   ]
  },
  {
   "cell_type": "markdown",
   "metadata": {
    "slideshow": {
     "slide_type": "subslide"
    }
   },
   "source": [
    "## Precision and Recall \n",
    "***\n",
    " - Now, of **all patients that actually have cancer**, what fraction did we **CORRECTLY** detect as having cancer? \n",
    " \n",
    " - This is nothing but the recall! \n",
    " \n",
    " - Here \n",
    "\n",
    "$$Recall = \\frac {(True +ves)} {(True +ves  +  False -ves)}$$"
   ]
  },
  {
   "cell_type": "markdown",
   "metadata": {
    "slideshow": {
     "slide_type": "subslide"
    }
   },
   "source": [
    "<center><img src=../images/image99.png alt=\"precision and recall\" style=\"width: 400px;\"/></center>"
   ]
  },
  {
   "cell_type": "markdown",
   "metadata": {
    "slideshow": {
     "slide_type": "subslide"
    }
   },
   "source": [
    "## Trade - Off: Precision Vs. Recall \n",
    "***\n",
    "- This is more of a in-class activity! \n",
    "- Think about this: What happens if we get an increased value of Precision? Do you think that would lower Recall? And vice-versa? \n",
    "\n",
    "- Think of an example! And use easy numerical calculations too. You can just use a pencil and paper, no need for code! \n",
    "\n",
    "- [**Hint**: There is a trade-off!] "
   ]
  },
  {
   "cell_type": "markdown",
   "metadata": {
    "slideshow": {
     "slide_type": "subslide"
    }
   },
   "source": [
    "### F1 Score\n",
    "***\n",
    " - To deal with this Trade-off we calculate something known as the F-1 Score: F1 score is a good approach to minimize a bias towards either the Precision or the Recall\n",
    "\n",
    " $$F1 Score = \\frac {2PR} {P + R} $$"
   ]
  },
  {
   "cell_type": "markdown",
   "metadata": {
    "slideshow": {
     "slide_type": "subslide"
    }
   },
   "source": [
    "## F-1 Score \n",
    "***\n",
    "F1 Score is defined as \n",
    "\n",
    "![](../images/image41.png)<br><br>\n",
    "\n",
    "\n",
    "* tp = true positive\n",
    "* tn = true negative\n",
    "* fp = false positive\n",
    "* fn = false negative"
   ]
  },
  {
   "cell_type": "markdown",
   "metadata": {
    "slideshow": {
     "slide_type": "subslide"
    }
   },
   "source": [
    "## John's F1 - score \n",
    "***\n",
    "- Using this intuition, John wanted to calculate the F-1 Score to better understand the evaluation of his model\n",
    "\n",
    "- Let's see how he implemented this in Python! "
   ]
  },
  {
   "cell_type": "code",
   "execution_count": null,
   "metadata": {
    "slideshow": {
     "slide_type": "subslide"
    }
   },
   "outputs": [],
   "source": [
    "## code for John's f-1 score\n",
    "\n",
    "from sklearn.metrics import f1_score\n",
    "f1_score(y_test,y_pred)"
   ]
  },
  {
   "cell_type": "markdown",
   "metadata": {
    "slideshow": {
     "slide_type": "subslide"
    }
   },
   "source": [
    "## Area under ROC Curve\n",
    "***\n",
    "Area under ROC Curve (or AUC for short) is a performance metric for binary classification problems.\n",
    "\n",
    "- The AUC represents a model’s ability to discriminate between positive and negative classes.\n",
    " - An area of 1.0 represents a model that made all predictions perfectly. An area of 0.5 represents a model as good as random.<br>\n",
    "**Brain Teaser**: What does area < 0.5 signify?"
   ]
  },
  {
   "cell_type": "markdown",
   "metadata": {
    "slideshow": {
     "slide_type": "subslide"
    }
   },
   "source": [
    "## John's ROC Curve\n",
    "***\n",
    "- After learning this, John wanted to plot his very own ROC curve! \n",
    "- Let's see how he went about implementing this in Python"
   ]
  },
  {
   "cell_type": "code",
   "execution_count": null,
   "metadata": {
    "slideshow": {
     "slide_type": "subslide"
    }
   },
   "outputs": [],
   "source": [
    "\n",
    "from sklearn import metrics\n",
    "fpr, tpr, thresholds = metrics.roc_curve(y_test, y_pred, pos_label=1)\n",
    "metrics.auc(fpr, tpr)"
   ]
  },
  {
   "cell_type": "markdown",
   "metadata": {
    "slideshow": {
     "slide_type": "subslide"
    }
   },
   "source": [
    "## Logarithmic Loss\n",
    "***\n",
    "Logarithmic loss (or logloss) is a performance metric for evaluating the predictions of probabilities of membership to a given class\n",
    "\n",
    "\n",
    "Where,\n",
    "* N is the number of samples or instances,\n",
    "* M is the number of possible labels,\n",
    "* y<sub>ij</sub> is a binary indicator of whether or not label j is the correct classification for instance i,\n",
    "* p<sub>ij</sub> is the model probability of assigning label j to instance i.\n",
    "\n",
    "![](../images/image49.png)"
   ]
  },
  {
   "cell_type": "markdown",
   "metadata": {
    "slideshow": {
     "slide_type": "subslide"
    }
   },
   "source": [
    "## Logarithmic Loss\n",
    "***\n",
    "* The scalar probability between 0 and 1 can be seen as a measure of confidence for a prediction by an algorithm.<br>\n",
    "* Predictions that are correct or incorrect are rewarded or punished proportionally to the confidence of the prediction.<br>\n",
    "* logloss nearer to 0 is better, with 0 representing a perfect logloss. "
   ]
  },
  {
   "cell_type": "markdown",
   "metadata": {
    "slideshow": {
     "slide_type": "subslide"
    }
   },
   "source": [
    "## John's Log Loss\n",
    "***\n",
    " - John wanted to check this too! \n",
    " \n",
    " - Let's check how he implemented this in Python, it's fairly easy thanks to sci-kit learn! "
   ]
  },
  {
   "cell_type": "code",
   "execution_count": null,
   "metadata": {
    "slideshow": {
     "slide_type": "subslide"
    }
   },
   "outputs": [],
   "source": [
    "from sklearn.metrics import log_loss\n",
    "log_loss(y_test,y_pred)"
   ]
  },
  {
   "cell_type": "markdown",
   "metadata": {
    "collapsed": true,
    "slideshow": {
     "slide_type": "subslide"
    }
   },
   "source": [
    "## Help John find out his status on loan approval\n",
    "***\n",
    "Now that you are equipped with the new weapon to handle classification problems and ways to evaluate the performances, as the next step, help John find out if he would get a loan or not!"
   ]
  },
  {
   "cell_type": "markdown",
   "metadata": {},
   "source": [
    "# In Class Activity"
   ]
  },
  {
   "cell_type": "markdown",
   "metadata": {},
   "source": [
    "## Census Income Dataset\n",
    "\n",
    "## Problem Statement :\n",
    "The dataset given below contains the census information about the attributes of individuals as the features and their income as the target. The task is to predict whether a person makes over $50K a year or not.\n",
    "\n",
    "## About the dataset:\n",
    "This data was extracted from the 1994 Census bureau database by Ronny Kohavi and Barry Becker (Data Mining and Visualization, Silicon Graphics).  \n",
    "\n",
    "The data has 1032 instances and 15 features. For your information the target variable `Income` has already been label encoded.\n",
    "1 indicates the income is greater than or equal to 50K. 0 indicates the income is less than 50K. Below is a brief about the features in the dataset.\n",
    "\n",
    "|Features|Description|\n",
    "|-----|-----|\n",
    "|age|Age of the person|\n",
    "|Workclass|Categorical variable having 8 categories each denoting the type of employment|\n",
    "|fnlwgt|final weight. |\n",
    "|education|Categorical variable with 16 categories each denoting the qualification of the person.|\n",
    "|education-num|number of years of education|\n",
    "|marital-status|Categorical variable with 7 categories|\n",
    "|occupation|Categorical variable with 14 categories each denoting the type of occupation of the individual|\n",
    "|relationship|Categorical variable with 6 categories.|\n",
    "|race|Categorical variable with 5 categories each denoting the ethnicity of the individual|\n",
    "|sex|Gender of the person|\n",
    "|capital-gain|Continuous| \n",
    "|capital-loss|Continuous|\n",
    "|hours-per-week|Working hours per week|\n",
    "|native-country|Categorical|\n",
    "|Income|Target variable. 1 indicates >=50k. 0 indicates <50K|\n"
   ]
  },
  {
   "cell_type": "markdown",
   "metadata": {},
   "source": [
    "### Reading the data using pandas module."
   ]
  },
  {
   "cell_type": "code",
   "execution_count": null,
   "metadata": {},
   "outputs": [],
   "source": [
    "\n",
    "import pandas as pd\n",
    "import numpy as np\n",
    "from scipy.stats import skew\n",
    "from sklearn.preprocessing import LabelEncoder\n",
    "from sklearn.preprocessing import StandardScaler\n",
    "from sklearn.model_selection import train_test_split,KFold\n",
    "from sklearn.linear_model import LogisticRegression\n",
    "from sklearn.metrics import accuracy_score,classification_report,f1_score,confusion_matrix\n",
    "from sklearn.model_selection import GridSearchCV\n",
    "import warnings\n",
    "warnings.filterwarnings('ignore')"
   ]
  },
  {
   "cell_type": "code",
   "execution_count": null,
   "metadata": {},
   "outputs": [],
   "source": [
    "dataframe = pd.read_csv('../data/adult_preprocessed.csv',index_col=0)\n",
    "dataframe.head()"
   ]
  },
  {
   "cell_type": "markdown",
   "metadata": {},
   "source": [
    "### Check for null values and get a summary of all the columns in the dataset"
   ]
  },
  {
   "cell_type": "code",
   "execution_count": null,
   "metadata": {},
   "outputs": [],
   "source": [
    "# Check for null values\n",
    "dataframe.info()"
   ]
  },
  {
   "cell_type": "code",
   "execution_count": null,
   "metadata": {},
   "outputs": [],
   "source": [
    "# Get a summary of the columns in the dataset\n",
    "dataframe.describe()"
   ]
  },
  {
   "cell_type": "markdown",
   "metadata": {},
   "source": [
    "It can be seen that there are no null values in any of the columns. So it is a pretty clean dataset.<br/>\n",
    "The minimum, 25th percentile, median, 75th percentile values for the columns `capital-gain` and `capital-loss` are 0."
   ]
  },
  {
   "cell_type": "markdown",
   "metadata": {},
   "source": [
    "### For further analysis split to bring all the continuous variables together and categorical variables together."
   ]
  },
  {
   "cell_type": "code",
   "execution_count": null,
   "metadata": {},
   "outputs": [],
   "source": [
    "# Seperate continuous variables and categorical variables\n",
    "\n",
    "# Your code here\n",
    "\n",
    "dataframe_con = dataframe.select_dtypes(include=np.number)\n",
    "dataframe_cat = dataframe.select_dtypes(exclude=np.number)"
   ]
  },
  {
   "cell_type": "markdown",
   "metadata": {},
   "source": [
    "###  Plotting a stacked bar chart, have an estimate of the number of people with income above and below 50K with respect to each of the categorical features"
   ]
  },
  {
   "cell_type": "code",
   "execution_count": null,
   "metadata": {},
   "outputs": [],
   "source": [
    "# Your code here\n",
    "\n",
    "for i in dataframe_cat:\n",
    "    dataframe.groupby(i)['Income'].value_counts().unstack().plot(kind='bar',stacked=True,figsize=(10,5))\n"
   ]
  },
  {
   "cell_type": "markdown",
   "metadata": {},
   "source": [
    "### What can you infer from the above visualisations ?"
   ]
  },
  {
   "cell_type": "markdown",
   "metadata": {},
   "source": [
    "### Plot a histogram for all the continuous variables to check for skewness"
   ]
  },
  {
   "cell_type": "code",
   "execution_count": null,
   "metadata": {},
   "outputs": [],
   "source": [
    "# Your code here\n",
    "\n",
    "for i in dataframe_con:\n",
    "    plt.title(i)\n",
    "    plt.hist(dataframe_con[i])\n",
    "    plt.show()"
   ]
  },
  {
   "cell_type": "markdown",
   "metadata": {},
   "source": [
    "### Majority of values in capital-gain and capital-loss are zeros. So remove the columns"
   ]
  },
  {
   "cell_type": "code",
   "execution_count": null,
   "metadata": {},
   "outputs": [],
   "source": [
    "# Your code here\n",
    "\n",
    "dataframe_con.drop(['capital-gain','capital-loss'],1,inplace=True)"
   ]
  },
  {
   "cell_type": "markdown",
   "metadata": {},
   "source": [
    "### Check for skewness in the continuous data"
   ]
  },
  {
   "cell_type": "code",
   "execution_count": null,
   "metadata": {},
   "outputs": [],
   "source": [
    "# Your code here\n",
    "\n",
    "skewness = pd.DataFrame(data={'name':list(dataframe_con),'skew':skew(dataframe_con)})\n",
    "skewness"
   ]
  },
  {
   "cell_type": "markdown",
   "metadata": {},
   "source": [
    "### The column `fnlwgt` is a highly right skewed column. Remove the skewness using a log transform and then check if the skewness has been removed by plotting its histogram"
   ]
  },
  {
   "cell_type": "code",
   "execution_count": null,
   "metadata": {},
   "outputs": [],
   "source": [
    "# Your code here\n",
    "\n",
    "dataframe_con['fnlwgt'] = np.log1p(dataframe_con['fnlwgt'])\n",
    "\n",
    "plt.hist(dataframe_con['fnlwgt']);\n",
    "\n"
   ]
  },
  {
   "cell_type": "markdown",
   "metadata": {},
   "source": [
    "### Check for the pearson correlation between the continuous variables by plotting a heatmap"
   ]
  },
  {
   "cell_type": "code",
   "execution_count": null,
   "metadata": {},
   "outputs": [],
   "source": [
    "import seaborn as sns\n",
    "\n",
    "# Check for correlation between continuous variables\n",
    "\n",
    "# Your code here\n",
    "\n",
    "sns.heatmap(dataframe_con.corr(),cmap='viridis',annot=True)\n"
   ]
  },
  {
   "cell_type": "markdown",
   "metadata": {},
   "source": [
    "### Label Encode all the categorical variables"
   ]
  },
  {
   "cell_type": "code",
   "execution_count": null,
   "metadata": {},
   "outputs": [],
   "source": [
    "# Label Encode Categorical variables\n",
    "\n",
    "# Your code here\n",
    "\n",
    "le = LabelEncoder()\n",
    "for col in dataframe_cat:\n",
    "    dataframe_cat[col] = le.fit_transform(dataframe_cat[col])\n",
    "     \n",
    "\n",
    "dataframe_cat.head()"
   ]
  },
  {
   "cell_type": "markdown",
   "metadata": {},
   "source": [
    "### Concatenate both the continuous and categorical dataframes"
   ]
  },
  {
   "cell_type": "code",
   "execution_count": null,
   "metadata": {},
   "outputs": [],
   "source": [
    "# Your code here\n",
    "\n",
    "new_dataframe = pd.concat([dataframe_con,dataframe_cat],axis=1,ignore_index=True)\n",
    "\n",
    "new_dataframe.columns = ['age','fnlwgt','education-num','hours-per-week','Income','Workclass','education','marital-status','occupation','relationship','race','sex','native-country']\n",
    "\n",
    "new_dataframe.head()\n",
    "\n",
    "columns = list(new_dataframe)\n",
    "columns[4],columns[-1] = 'native-country','Income'\n",
    "\n",
    "new_dataframe = new_dataframe[columns]\n",
    "\n",
    "new_dataframe.head()"
   ]
  },
  {
   "cell_type": "markdown",
   "metadata": {},
   "source": [
    "### Split into features and target"
   ]
  },
  {
   "cell_type": "code",
   "execution_count": null,
   "metadata": {},
   "outputs": [],
   "source": [
    "X = new_dataframe.iloc[:,:-1]\n",
    "y = new_dataframe.iloc[:,-1]"
   ]
  },
  {
   "cell_type": "markdown",
   "metadata": {},
   "source": [
    "### Fit a StandardScaler on the features"
   ]
  },
  {
   "cell_type": "code",
   "execution_count": null,
   "metadata": {},
   "outputs": [],
   "source": [
    "# Fitting a Standard Scaler \n",
    "\n",
    "# Your code here\n",
    "\n",
    "ss = StandardScaler()\n",
    "X = ss.fit_transform(X)"
   ]
  },
  {
   "cell_type": "markdown",
   "metadata": {},
   "source": [
    "### Convert array to a dataframe"
   ]
  },
  {
   "cell_type": "code",
   "execution_count": null,
   "metadata": {},
   "outputs": [],
   "source": [
    "# Your code here\n",
    "\n",
    "X = pd.DataFrame(X,columns=columns[:-1])\n",
    "\n",
    "X.head()"
   ]
  },
  {
   "cell_type": "markdown",
   "metadata": {},
   "source": [
    "### Split into train and validation data"
   ]
  },
  {
   "cell_type": "code",
   "execution_count": null,
   "metadata": {},
   "outputs": [],
   "source": [
    "X_train,X_valid,y_train,y_valid = train_test_split(X,y,random_state=42,test_size=0.2)"
   ]
  },
  {
   "cell_type": "markdown",
   "metadata": {},
   "source": [
    "### Fit a logistic regression model"
   ]
  },
  {
   "cell_type": "code",
   "execution_count": null,
   "metadata": {},
   "outputs": [],
   "source": [
    "# Your code here\n",
    "\n",
    "logreg = LogisticRegression()\n",
    "logreg.fit(X_train,y_train)\n",
    "\n",
    "y_pred = logreg.predict(X_valid)"
   ]
  },
  {
   "cell_type": "markdown",
   "metadata": {},
   "source": [
    "### Checking the accuracy, f1_score, confusion matrix"
   ]
  },
  {
   "cell_type": "code",
   "execution_count": null,
   "metadata": {},
   "outputs": [],
   "source": [
    "# Your code here\n",
    "\n",
    "print('Accuracy is {}'.format(accuracy_score(y_valid,y_pred)))\n",
    "print('F1-score is {}'.format(f1_score(y_valid,y_pred)))\n",
    "print('Confusion Matrix is')\n",
    "print()\n",
    "print((confusion_matrix(y_valid,y_pred)))"
   ]
  },
  {
   "cell_type": "markdown",
   "metadata": {},
   "source": [
    "### Perform hyperparameter tuning using GridSearch"
   ]
  },
  {
   "cell_type": "code",
   "execution_count": null,
   "metadata": {},
   "outputs": [],
   "source": [
    "# Your code here\n",
    "\n",
    "params = {'penalty':['l1','l2'],'C':[0.001,0.01,0.1,1,10,100]}\n",
    "grid_search = GridSearchCV(estimator=logreg, param_grid=params,scoring='f1',cv=10)\n",
    "grid_search.fit(X_train,y_train)\n",
    "y_pred_grid_search = grid_search.predict(X_valid)"
   ]
  },
  {
   "cell_type": "markdown",
   "metadata": {},
   "source": [
    "### Find the best parameters and the metrics after grid search"
   ]
  },
  {
   "cell_type": "code",
   "execution_count": null,
   "metadata": {},
   "outputs": [],
   "source": [
    "# Your code here\n",
    "\n",
    "grid_search.best_params_\n",
    "\n",
    "print('Accuracy after grid search is {}'.format(accuracy_score(y_valid,y_pred_grid_search)))\n",
    "print('F1-score after grid search is {}'.format(f1_score(y_valid,y_pred_grid_search)))\n",
    "print('Confusion Matrix is')\n",
    "print()\n",
    "print((confusion_matrix(y_valid,y_pred_grid_search)))"
   ]
  },
  {
   "cell_type": "markdown",
   "metadata": {
    "slideshow": {
     "slide_type": "slide"
    }
   },
   "source": [
    "# Thank You\n",
    "***\n",
    "### Next Session: Improving your model with Feature Selection\n",
    "\n",
    "- Feature Selection Importance\n",
    "- Different types of Feature Selection Methods\n",
    "- PCA\n",
    "\n"
   ]
  },
  {
   "cell_type": "code",
   "execution_count": null,
   "metadata": {},
   "outputs": [],
   "source": []
  }
 ],
 "metadata": {
  "anaconda-cloud": {},
  "celltoolbar": "Slideshow",
  "kernelspec": {
   "display_name": "Python 3",
   "language": "python",
   "name": "python3"
  },
  "language_info": {
   "codemirror_mode": {
    "name": "ipython",
    "version": 3
   },
   "file_extension": ".py",
   "mimetype": "text/x-python",
   "name": "python",
   "nbconvert_exporter": "python",
   "pygments_lexer": "ipython3",
   "version": "3.7.0"
  },
  "widgets": {
   "state": {},
   "version": "1.1.2"
  }
 },
 "nbformat": 4,
 "nbformat_minor": 2
}
