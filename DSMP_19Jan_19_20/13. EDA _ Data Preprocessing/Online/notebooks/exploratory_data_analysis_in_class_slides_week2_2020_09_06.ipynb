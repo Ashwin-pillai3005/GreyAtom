{
 "cells": [
  {
   "cell_type": "markdown",
   "metadata": {
    "colab_type": "text",
    "id": "uNJJ8Db8oLFx"
   },
   "source": [
    "# Exploratory Data Analysis\n",
    "![EDA_open](../images/eda_open.jpg)"
   ]
  },
  {
   "cell_type": "markdown",
   "metadata": {
    "colab_type": "text",
    "id": "TqsazPqDoLFy"
   },
   "source": [
    "# Program so far \n",
    "***\n",
    "* Python Data Science Tool box\n",
    "* Introduction to machine learning\n",
    "* Summarizing the Data\n",
    "* Art of Statistical Inference\n",
    "* Linear Regression\n",
    "* Regularisation, CrossValidation, Bias Variance tradeoff"
   ]
  },
  {
   "cell_type": "markdown",
   "metadata": {
    "colab_type": "text",
    "id": "7QKEzBnqoLFy"
   },
   "source": [
    "# What are we going to learn today?\n",
    "***\n",
    "- Initial Exploration\n",
    "- Introduction to Seaborn\n",
    "- Univariate Analysis\n",
    "- Multi-variate Analysis\n",
    "- Scaling, Centering, Skewness \n",
    "- Basic data cleaning and Preprocessing\n",
    "- Feature extraction and Feature engineering"
   ]
  },
  {
   "cell_type": "markdown",
   "metadata": {
    "colab_type": "text",
    "id": "m8xCLyFeoLFz"
   },
   "source": [
    "Until now all the data that we have seen so far has been clean or pre-cleaned. In real-life we rarely get such clean datasets."
   ]
  },
  {
   "cell_type": "markdown",
   "metadata": {},
   "source": [
    "Trial and Error\n",
    "Exploration\n",
    "\n",
    "60-70% of your project time\n",
    "10-20% model tuning\n",
    "deployment and measuring feedback/analysisng your results\n",
    "Stakeholder management/ineraction with PM\n",
    "\n",
    "Data Scientist\n",
    "1. 100hrs - cleaning data\n",
    "2. >1hr - build model  \n",
    "\n",
    "Computer Vision\n",
    "1. 1hr - cleaning data\n",
    "2. 100hr - tuning, building complex models ---> DL \n",
    "\n",
    "28*28 pixels = 784 pixels\n",
    "256th column --> \n",
    "\n",
    "\n",
    "\"IT DEPENDS\""
   ]
  },
  {
   "cell_type": "markdown",
   "metadata": {
    "colab_type": "text",
    "id": "SfvEPNDVoLFz"
   },
   "source": [
    "## John's Concerns\n",
    "***\n",
    "After dealing with outliers, John realised the significance of a clean data set. So he decided to learn more about data cleaning and data manipulation.\n",
    "\n",
    "He used the data he had collected so far.\n",
    "\n",
    "Let's see how John proceeds!"
   ]
  },
  {
   "cell_type": "code",
   "execution_count": 1,
   "metadata": {
    "colab": {},
    "colab_type": "code",
    "id": "pdIgJo8woLF0"
   },
   "outputs": [],
   "source": [
    "# To print multiple outputs together\n",
    "from IPython.core.interactiveshell import InteractiveShell\n",
    "InteractiveShell.ast_node_interactivity = \"all\"\n",
    "\n",
    "import numpy as np \n",
    "import pandas as pd\n",
    "%matplotlib inline\n",
    "import matplotlib.pyplot as plt  \n",
    "import seaborn as sns\n",
    "from scipy import stats\n",
    "\n",
    "#For some Statistics\n",
    "from scipy.stats import norm, skew\n",
    "from sklearn.impute import SimpleImputer"
   ]
  },
  {
   "cell_type": "code",
   "execution_count": null,
   "metadata": {
    "colab": {},
    "colab_type": "code",
    "id": "Mb0-HX3YoLF3"
   },
   "outputs": [],
   "source": [
    "# Let's import the set\n",
    "df = pd.read_csv('../data/train.csv',index_col=0)"
   ]
  },
  {
   "cell_type": "markdown",
   "metadata": {
    "colab_type": "text",
    "id": "-CXhVc1NoLF5"
   },
   "source": [
    "It’s always a good idea to take a closer look at the data itself. \n",
    "\n",
    "With the help of the `head()` and `tail()` functions of the Pandas library, he easily checked out the first few and last few lines of the DataFrame, respectively."
   ]
  },
  {
   "cell_type": "code",
   "execution_count": null,
   "metadata": {
    "colab": {},
    "colab_type": "code",
    "id": "HWsyNkthoLF6",
    "outputId": "bfdb7716-6a5c-4554-9145-2d8734f4e437"
   },
   "outputs": [],
   "source": [
    "# Code starts here\n",
    "df.head(5) #- top5\n",
    "#df.tail(5) #- bottom 5"
   ]
  },
  {
   "cell_type": "code",
   "execution_count": null,
   "metadata": {
    "colab": {},
    "colab_type": "code",
    "id": "J_RdOQ2RoLF9",
    "outputId": "0c05bad3-87b7-4dff-80df-cf137501c48e"
   },
   "outputs": [],
   "source": [
    "# Code starts here\n",
    "df.tail(5)"
   ]
  },
  {
   "cell_type": "markdown",
   "metadata": {
    "colab_type": "text",
    "id": "jswF-ZdooLF_"
   },
   "source": [
    "It is also a good practice to know the columns and their corresponsding data types, along with finding whether they contain null value or not. "
   ]
  },
  {
   "cell_type": "code",
   "execution_count": null,
   "metadata": {
    "colab": {},
    "colab_type": "code",
    "id": "9-dr_-gaoLGA",
    "outputId": "00bde114-e251-40ac-cbf5-331aa43be1c1",
    "scrolled": true
   },
   "outputs": [],
   "source": [
    "# Code starts here\n",
    "df.info()"
   ]
  },
  {
   "cell_type": "markdown",
   "metadata": {
    "colab_type": "text",
    "id": "BWDW8nWQoLGC"
   },
   "source": [
    "The `describe()` function helped him to get various summary statistics that exclude NaN values.\n",
    "\n",
    "This function returns the **count, mean, standard deviation, minimum and maximum** values and the quantiles of the data."
   ]
  },
  {
   "cell_type": "code",
   "execution_count": null,
   "metadata": {
    "colab": {},
    "colab_type": "code",
    "id": "yrMS0O5ooLGD",
    "outputId": "4cd28513-7382-4cce-fb56-d76bea306683"
   },
   "outputs": [],
   "source": [
    "# Code starts here\n",
    "df.describe(percentiles=[0.20, 0.25, 0.5, 0.75, 0.99])"
   ]
  },
  {
   "cell_type": "markdown",
   "metadata": {
    "colab_type": "text",
    "id": "HUtStIWvoLGH"
   },
   "source": [
    "He also found out the total number of rows and columns in the dataset using the Syntax below:-"
   ]
  },
  {
   "cell_type": "code",
   "execution_count": null,
   "metadata": {
    "colab": {},
    "colab_type": "code",
    "id": "uoy1BS_VoLGH",
    "outputId": "9b6bf753-b0d3-45e1-8dab-f4fe4540bed2"
   },
   "outputs": [],
   "source": [
    "# Code starts here\n",
    "df.shape"
   ]
  },
  {
   "cell_type": "markdown",
   "metadata": {},
   "source": [
    "Dataset\n",
    "1. Numeric\n",
    "2. Categorical\n",
    "\n",
    "Analyse each feature\n",
    "1. Univariate (Numeric, Categorical)\n",
    "2. Multivariate ((Numeric-Num, Num-Cat, Cat-Cat))"
   ]
  },
  {
   "cell_type": "markdown",
   "metadata": {
    "colab_type": "text",
    "id": "mS_jCkYVoLGJ"
   },
   "source": [
    "## How to find the Numerical Features of our Dataset?\n",
    "***\n",
    "Now, let's see how John found out and listed the number of Numerical Features in our dataset."
   ]
  },
  {
   "cell_type": "code",
   "execution_count": null,
   "metadata": {
    "colab": {},
    "colab_type": "code",
    "id": "58dQ3op3oLGK",
    "outputId": "7645da8a-a2e3-43cc-f56a-e8951a2ea51c"
   },
   "outputs": [],
   "source": [
    "# Code starts here\n",
    "numerical_feature_columns = list(df._get_numeric_data().columns)\n",
    "numerical_feature_columns"
   ]
  },
  {
   "cell_type": "markdown",
   "metadata": {
    "colab_type": "text",
    "id": "-eA8EM98oLGM"
   },
   "source": [
    "## How to find the Categorical Features in our Dataset?\n",
    "***\n",
    "As in the case of Numerical Features, let's find out the number of Categorical Features in our dataset."
   ]
  },
  {
   "cell_type": "code",
   "execution_count": null,
   "metadata": {
    "colab": {},
    "colab_type": "code",
    "id": "lWrgkKtFoLGM",
    "outputId": "bdba3886-945e-4655-9a10-0d934b6900d9",
    "scrolled": true
   },
   "outputs": [],
   "source": [
    "# Code starts here\n",
    "categorical_feature_columns = list(set(df.columns) - set(df._get_numeric_data().columns))\n",
    "categorical_feature_columns"
   ]
  },
  {
   "cell_type": "markdown",
   "metadata": {
    "colab_type": "text",
    "id": "ON-Zyq9XoLGO"
   },
   "source": [
    "<img src=\"../images/Concept-Alert.png\" alt=\"Concept-Alert\" style=\"width: 100px;float:left; margin-right:15px\"/>\n",
    "<br />   \n",
    "\n",
    "# John's Introduction to Seaborn  \n",
    "***\n",
    "John got a good a glimpse of his data. But that's the thing with Data Science the more you get involved the harder is it for you to stop exploring.\n",
    "\n",
    "Now, John wanted to **analyze** his data in order to extract some insights. And after a lot of consultation and google search, John learned about Seaborn.\n",
    "\n",
    "John used Seaborn to do both **Univariate and Multivariate analysis**. How? we will see soon."
   ]
  },
  {
   "cell_type": "markdown",
   "metadata": {
    "colab_type": "text",
    "id": "0Kfcwp0yoLGQ"
   },
   "source": [
    "## So what is Seaborn? (1/2)\n",
    "***\n",
    "Seaborn is a Python visualization library based on matplotlib. \n",
    "\n",
    "It provides a high-level interface for drawing attractive statistical graphics.\n",
    "\n",
    "Some of the features that seaborn offers are : \n",
    "\n",
    "* Several built-in themes for styling matplotlib graphics\n",
    "* Tools for choosing color palettes to make beautiful plots that reveal patterns in your data\n",
    "* Functions for visualizing univariate and bivariate distributions or for comparing them between subsets of data"
   ]
  },
  {
   "cell_type": "markdown",
   "metadata": {
    "colab_type": "text",
    "id": "DQNiTrF8oLGQ"
   },
   "source": [
    "## So what is Seaborn? (2/2)\n",
    "***\n",
    "* Tools that fit and visualize linear regression models for different kinds of independent and dependent variables\n",
    "* Functions that visualize matrices of data and use clustering algorithms to discover structure in those matrices\n",
    "* A function to plot statistical timeseries data with flexible estimation and representation of uncertainty around the estimate\n",
    "* High-level abstractions for structuring grids of plots that let you easily build complex visualizations\n",
    "\n",
    "\n",
    "<div class=\"alert alert-block alert-success\">**You can import Seaborn as below :**</div>"
   ]
  },
  {
   "cell_type": "markdown",
   "metadata": {
    "colab_type": "text",
    "id": "uPe1Wc-KoLGT"
   },
   "source": [
    "<img src=\"../images/Concept-Alert.png\" alt=\"Concept-Alert\" style=\"width: 100px;float:left; margin-right:15px\"/>\n",
    "<br />   \n",
    "\n",
    "## What is Univariate Analysis and how did John use it?  \n",
    "***\n",
    "**What is Univariate Analysis?**\n",
    "\n",
    "* Univariate analysis is the simplest form of analyzing data.\n",
    "\n",
    "* “Uni” means “one”, so in other words your data has only one variable. \n",
    "\n",
    "* It doesn’t deal with causes or relationships (unlike regression) and it’s major purpose is to describe; it takes data, summarizes that data and finds patterns in the data.\n",
    "\n",
    "Univariate Analysis can be done either on **Numerical or Categorical** features."
   ]
  },
  {
   "cell_type": "markdown",
   "metadata": {
    "colab_type": "text",
    "id": "PEcK0if3oLGT"
   },
   "source": [
    "##  Numerical Features in Univariate Variables"
   ]
  },
  {
   "cell_type": "markdown",
   "metadata": {
    "colab_type": "text",
    "id": "fB_Ld_Y_oLGU"
   },
   "source": [
    "<img src=\"../images/Concept-Alert.png\" alt=\"Concept-Alert\" style=\"width: 100px;float:left; margin-right:15px\"/>\n",
    "<br />   \n",
    "\n",
    "### Histogram  \n",
    "***\n",
    "When dealing with a set of data, often the first thing we want to do is get a sense for how the variables are distributed. \n",
    "\n",
    "John started by identifying a few variables of interest and checking their distribution. \n",
    "\n",
    "A histogram represents the distribution of data by forming bins along the range of the data and then drawing bars to show the number of observations that fall in each bin.\n",
    "\n",
    "The bin can be of any size.\n",
    "\n",
    "Let's plot a histogram : "
   ]
  },
  {
   "cell_type": "code",
   "execution_count": null,
   "metadata": {
    "colab": {},
    "colab_type": "code",
    "id": "OeLHqiYXoLGU",
    "outputId": "54c64b86-4ff1-4619-be85-f5c7a38674a3"
   },
   "outputs": [],
   "source": [
    "plt.figure(figsize = (10, 4))\n",
    "x = np.random.normal(size=100)\n",
    "sns.distplot(x, kde=True, fit=norm);\n",
    "#Kernel Density Estimation"
   ]
  },
  {
   "cell_type": "markdown",
   "metadata": {
    "colab_type": "text",
    "id": "Q7miXPFMoLGW"
   },
   "source": [
    "In order to make any prediction John needed to fit a linear regression model, so he made sure the distribution of the variables is almost linear. \n",
    "\n",
    "Now to check the linearity of the variables he checked for any skewness in the distribution and the outliers in the data.\n",
    "\n",
    "The variables he checked for were **'OverallQual', 'YearBuilt', 'TotalBsmtSF', 'GrLivArea', 'Neighborhood'** and the target variable 'SalePrice'."
   ]
  },
  {
   "cell_type": "code",
   "execution_count": null,
   "metadata": {},
   "outputs": [],
   "source": [
    "# Histograms\n",
    "num_cols = ['YearBuilt', 'TotalBsmtSF', 'GrLivArea', 'SalePrice']"
   ]
  },
  {
   "cell_type": "code",
   "execution_count": null,
   "metadata": {
    "colab": {},
    "colab_type": "code",
    "id": "jrOPz4MJoLGX",
    "outputId": "d1764278-5a4b-4b78-e2fd-7a51b8d4d005"
   },
   "outputs": [],
   "source": [
    "for i in range(0,len(num_cols),2):\n",
    "    if len(num_cols) > i+1:\n",
    "        plt.figure(figsize=(10,4));\n",
    "        plt.subplot(121);\n",
    "        sns.distplot(df[num_cols[i]], kde=False);\n",
    "        plt.subplot(122);    \n",
    "        sns.distplot(df[num_cols[i+1]], kde=False);\n",
    "        plt.tight_layout();\n",
    "    else:\n",
    "        sns.distplot(df[num_cols[i]], kde=False);"
   ]
  },
  {
   "cell_type": "markdown",
   "metadata": {
    "colab_type": "text",
    "id": "KjnNDAEmoLGZ"
   },
   "source": [
    "<img src=\"../images/Concept-Alert.png\" alt=\"Concept-Alert\" style=\"width: 100px;float:left; margin-right:15px\"/>\n",
    "<br />  \n",
    "\n",
    "### The Kernel Density Estimation  \n",
    "***\n",
    "The kernel density estimate may be less familiar, but it can be a useful tool for plotting the shape of a distribution.\n",
    "\n",
    "Like the histogram, the KDE plots encodes the density of observations on one axis with height along the other axis:"
   ]
  },
  {
   "cell_type": "code",
   "execution_count": null,
   "metadata": {
    "colab": {},
    "colab_type": "code",
    "id": "qo2aqynDoLGa",
    "outputId": "25f3ee83-182e-4d8b-9000-3b7c490bcbdc"
   },
   "outputs": [],
   "source": [
    "# Histograms\n",
    "\n",
    "num_cols = ['YearBuilt', 'TotalBsmtSF', 'GrLivArea', 'SalePrice']\n",
    "for i in range(0,len(num_cols),2):\n",
    "    if len(num_cols) > i+1:\n",
    "        plt.figure(figsize=(10,4))\n",
    "        plt.subplot(121)\n",
    "        sns.distplot(df[num_cols[i]], hist=True, kde=True)\n",
    "        plt.subplot(122)            \n",
    "        sns.distplot(df[num_cols[i+1]], hist=True, kde=True)\n",
    "        plt.tight_layout()\n",
    "        plt.show()\n",
    "\n",
    "    else:\n",
    "        sns.distplot(df[num_cols[i]], hist=True, kde=True)"
   ]
  },
  {
   "cell_type": "code",
   "execution_count": null,
   "metadata": {},
   "outputs": [],
   "source": [
    "Regression Analysis by Example - https://www.amazon.com/Regression-Analysis-Example-Probability-Statistics-ebook/dp/B00D4NBWXE"
   ]
  },
  {
   "cell_type": "markdown",
   "metadata": {
    "colab_type": "text",
    "id": "IyVP2IpFoLGc"
   },
   "source": [
    "(Delete)  \n",
    "John observed that all of the histograms are left or right skewed, hence a transformation is required to make them linear.  \n",
    "\n",
    "Residual Plot analysis:\n",
    "1. Build a model, observe errors (), in Linear Regression, errors should be _normally distributed_____.  \n",
    "2. Errors should randomly distributed versus fitted values\n",
    "3. Errors should randomly distributed for each feature\n",
    "4. pvalues\n",
    "\n",
    "**To fix the anomaly, either transform dependent or independent feature**"
   ]
  },
  {
   "cell_type": "code",
   "execution_count": null,
   "metadata": {},
   "outputs": [],
   "source": [
    "It is mandatory, or important for your column to be normally distributed\n",
    "- DV and IV : these can be of any distribution"
   ]
  },
  {
   "cell_type": "code",
   "execution_count": null,
   "metadata": {},
   "outputs": [],
   "source": [
    "Build a model\n",
    "1. Without transformation --> measre the accuracy\n",
    "2. Start towards transformations\n",
    "    1. Standardisations/Normalisations (Centering and Scaling) (Required)\n",
    "    2. Algebraic Transformation - Log, sqrt, power trans (box cox tranf) (transforming) (may or may not)"
   ]
  },
  {
   "cell_type": "markdown",
   "metadata": {
    "colab_type": "text",
    "id": "DLTuP40AoLGc"
   },
   "source": [
    "<img src=\"../images/Concept-Alert.png\" alt=\"Concept-Alert\" style=\"width: 100px;float:left; margin-right:15px\"/>\n",
    "<br /> \n",
    "\n",
    "### Boxplots\n",
    "***\n",
    "A box plot (or box-and-whisker plot) shows the distribution of quantitative data in a way that facilitates comparisons between variables or across levels of a categorical variable. \n",
    "\n",
    "The box shows the quartiles of the dataset while the whiskers extend to show the rest of the distribution.\n",
    "\n",
    "Using this John could find the features which could be removed."
   ]
  },
  {
   "cell_type": "code",
   "execution_count": null,
   "metadata": {
    "colab": {},
    "colab_type": "code",
    "id": "d_Zv6QR0oLGd",
    "outputId": "e13c474e-aebe-4b1e-f67c-4cd4a7cfb4e2",
    "scrolled": false
   },
   "outputs": [],
   "source": [
    "plt.figure(figsize = (10, 4));\n",
    "sns.set_style(\"darkgrid\");\n",
    "tips = sns.load_dataset(\"tips\");\n",
    "sns.boxplot(x=tips[\"total_bill\"]);"
   ]
  },
  {
   "cell_type": "code",
   "execution_count": null,
   "metadata": {},
   "outputs": [],
   "source": [
    "sns.distplot(tips[\"total_bill\"], hist=True, kde=True)"
   ]
  },
  {
   "cell_type": "markdown",
   "metadata": {
    "colab_type": "text",
    "id": "IV9qolPGoLGf"
   },
   "source": [
    "<img src=\"../images/Concept-Alert.png\" alt=\"Concept-Alert\" style=\"width: 100px;float:left; margin-right:15px\"/>\n",
    "<br /> \n",
    "\n",
    "### More About Boxplots (1/2)  \n",
    "***\n",
    "The box plot (a.k.a. box and whisker diagram) is a standardized way of displaying the distribution of data based on the five number summary: \n",
    "* Minimum\n",
    "* First quartile\n",
    "* Median\n",
    "* Third quartile\n",
    "* Maximum. \n",
    "\n",
    "In the simplest box plot the central rectangle spans the first quartile to the third quartile (the interquartile range or IQR). \n",
    "\n",
    "A segment inside the rectangle shows the median and \"whiskers\" above and below the box show the locations of the minimum and maximum."
   ]
  },
  {
   "cell_type": "markdown",
   "metadata": {
    "colab_type": "text",
    "id": "GCv6MNDKoLGg"
   },
   "source": [
    "<img src=\"../images/Concept-Alert.png\" alt=\"Concept-Alert\" style=\"width: 100px;float:left; margin-right:15px\"/>\n",
    "<br /> \n",
    "\n",
    "### More About Boxplots (2/2)\n",
    "***\n",
    "\n",
    "![](./images/boxplot.png)\n",
    "\n",
    "**Outliers** are either 3×IQR or more above the third quartile or 3×IQR or more below the first quartile.\n",
    "\n",
    "**Suspected outliers** are are slightly more central versions of outliers: either 1.5×IQR or more above the third quartile or 1.5×IQR or more below the first quartile."
   ]
  },
  {
   "cell_type": "code",
   "execution_count": null,
   "metadata": {
    "colab": {},
    "colab_type": "code",
    "id": "Q2dmCDLJoLGg",
    "outputId": "c16952ec-6cbb-46e3-eb36-53a001e0a9e7"
   },
   "outputs": [],
   "source": [
    "# BoxPlots\n",
    "num_cols = ['YearBuilt', 'TotalBsmtSF', 'GrLivArea', 'SalePrice']\n",
    "facet = None\n",
    "for i in range(0,len(num_cols),2):\n",
    "    if len(num_cols) > i+1:\n",
    "        plt.figure(figsize=(10,4))\n",
    "        plt.subplot(121)\n",
    "        sns.boxplot(facet, num_cols[i],data = df)\n",
    "        plt.subplot(122)            \n",
    "        sns.boxplot(facet, num_cols[i+1],data = df)\n",
    "        plt.tight_layout()\n",
    "        plt.show()\n",
    "\n",
    "    else:\n",
    "        sns.boxplot(facet, num_cols[i],data = df)"
   ]
  },
  {
   "cell_type": "markdown",
   "metadata": {
    "colab_type": "text",
    "id": "z25T4kAZoLGi"
   },
   "source": [
    "## Categorical Features in Univariate Variables"
   ]
  },
  {
   "cell_type": "markdown",
   "metadata": {
    "colab_type": "text",
    "id": "WKP6tjCEoLGi"
   },
   "source": [
    "<img src=\"../images/Concept-Alert.png\" alt=\"Concept-Alert\" style=\"width: 100px;float:left; margin-right:15px\"/>\n",
    "<br /> \n",
    "\n",
    "### Countplots\n",
    "***\n",
    "Most of the buildings are built post 1960 and most houses have an area in the range 1-2k sq feet. There are quite a few outliers in the sale price and living area and these might be correlated. John wanted to check the distribution of the categorical columns.\n",
    "\n",
    "He used Countplots for this which does nothing but shows the counts of observations in each categorical bin using bars.\n",
    "\n",
    "A count plot can be thought of as a histogram across a categorical, instead of quantitative, variable. \n",
    "\n",
    "He chose the following columns from the above categorical_features_columns :\n",
    "* Neighborhood\n",
    "* SaleCondition\n",
    "* BldgType"
   ]
  },
  {
   "cell_type": "code",
   "execution_count": null,
   "metadata": {},
   "outputs": [],
   "source": [
    "df.SaleCondition.value_counts(normalize=True)"
   ]
  },
  {
   "cell_type": "code",
   "execution_count": null,
   "metadata": {
    "colab": {},
    "colab_type": "code",
    "id": "01qQgo-voLGj",
    "outputId": "8f075479-e3c6-4813-a96f-e6daefdd6936",
    "scrolled": false
   },
   "outputs": [],
   "source": [
    "plt.figure(figsize = (10, 4))\n",
    "sns.countplot('SaleCondition', data=df)"
   ]
  },
  {
   "cell_type": "code",
   "execution_count": null,
   "metadata": {
    "colab": {},
    "colab_type": "code",
    "id": "YVs8Pm7-oLGl",
    "outputId": "51d6a8d3-6eb7-4438-b301-59a2e01d1624"
   },
   "outputs": [],
   "source": [
    "plt.figure(figsize=(12,6))\n",
    "sns.countplot(y='Neighborhood', data=df, order = df['Neighborhood'].value_counts().index)"
   ]
  },
  {
   "cell_type": "markdown",
   "metadata": {
    "colab_type": "text",
    "id": "uNLDfyXeoLGn"
   },
   "source": [
    "<img src=\"../images/Concept-Alert.png\" alt=\"Concept-Alert\" style=\"width: 100px;float:left; margin-right:15px\"/>\n",
    "<br /> \n",
    "\n",
    "## What is Multivariate Analysis?\n",
    "***\n",
    "John starts to wonder, what if two or more variables are related? This would surely help derive further insight on the houses! \n",
    "\n",
    "In Multivariate analysis John tries to find the relations between multiple variables. Obviously, in real life problems variables can be any combination of numeric or categorical variables.\n",
    "The combinations are:\n",
    "* Numeric vs Numeric\n",
    "* Numeric vs Categorical\n",
    "* Categorical vs Categorical\n",
    "\n",
    "Another aspect of variable combination we look at is:\n",
    "* Feature vs Feature\n",
    "* Feature vs Target"
   ]
  },
  {
   "cell_type": "code",
   "execution_count": null,
   "metadata": {},
   "outputs": [],
   "source": [
    "Numeric vs Numeric: correlation, scatter plot\n",
    "    "
   ]
  },
  {
   "cell_type": "markdown",
   "metadata": {
    "colab_type": "text",
    "id": "WXAtce-IoLGn"
   },
   "source": [
    "## Numeric vs Numeric"
   ]
  },
  {
   "cell_type": "markdown",
   "metadata": {
    "colab_type": "text",
    "id": "B__kvl3ZoLGo"
   },
   "source": [
    "For these kind of plots John uses a scatterplot of the two variables. Although one can use a variety of plots in seaborn to do a quick and dirty EDA to some sophisticated plots. lmplot is one of the plots to do a scatterplot in seaborn, it'll by default fit a regression line on top which you can control using 'fit_reg' argument.\n",
    " \n",
    "In these plot you will also see him plotting some important feature against our target."
   ]
  },
  {
   "cell_type": "code",
   "execution_count": null,
   "metadata": {},
   "outputs": [],
   "source": [
    "SalePrice = B0 + B1*GrLivArea"
   ]
  },
  {
   "cell_type": "code",
   "execution_count": null,
   "metadata": {
    "colab": {},
    "colab_type": "code",
    "id": "6tAK5xGwoLGo",
    "outputId": "dd5cfa44-0bb4-4765-ae6b-96fc7b06a064",
    "scrolled": false
   },
   "outputs": [],
   "source": [
    "sns.lmplot('GrLivArea', 'SalePrice', data=df, fit_reg=True)"
   ]
  },
  {
   "cell_type": "code",
   "execution_count": null,
   "metadata": {},
   "outputs": [],
   "source": [
    "lot area = 300sq ft\n",
    "3BHK"
   ]
  },
  {
   "cell_type": "code",
   "execution_count": null,
   "metadata": {},
   "outputs": [],
   "source": [
    "Do not hurry to conclude your data points as outliers\n",
    "- A mistake/noisy (20000000)\n",
    "- Actually a true value"
   ]
  },
  {
   "cell_type": "code",
   "execution_count": null,
   "metadata": {},
   "outputs": [],
   "source": [
    "GrLivArea: Above grade (ground) living area square feet"
   ]
  },
  {
   "cell_type": "markdown",
   "metadata": {
    "colab_type": "text",
    "id": "o4DGUmxjoLGq"
   },
   "source": [
    "* Using a scatterplot John can also detect *Multivariate outliers*, in this case there are two houses which have an area above ~4500 and they don't follow the trend. Removing these would give a better fit."
   ]
  },
  {
   "cell_type": "markdown",
   "metadata": {
    "colab_type": "text",
    "id": "JKDjfu6yoLGq"
   },
   "source": [
    "Another plot that John could use is a jointplot which gives a plethora of information in a single plot. It has:\n",
    "* Scatter Plot\n",
    "* Regression line fit to the data.\n",
    "* Histogram and kde of individual variables.\n",
    "* Pearson correlation and p value - deprecated"
   ]
  },
  {
   "cell_type": "code",
   "execution_count": null,
   "metadata": {
    "colab": {},
    "colab_type": "code",
    "id": "M3ljXb5CoLGr",
    "outputId": "6250918f-3fff-451f-9005-aae5c59c3ace"
   },
   "outputs": [],
   "source": [
    "sns.jointplot('TotalBsmtSF', 'SalePrice', data=df, kind='reg')"
   ]
  },
  {
   "cell_type": "markdown",
   "metadata": {
    "colab_type": "text",
    "id": "VZEWrb43oLGt"
   },
   "source": [
    "<div class=\"alert alert-block alert-success\">**Another plot one can use is a hexplot which plots two numeric variables. Darker colors signify more points.**</div>"
   ]
  },
  {
   "cell_type": "code",
   "execution_count": null,
   "metadata": {
    "colab": {},
    "colab_type": "code",
    "id": "K6yS3-qyoLGt",
    "outputId": "df1e860c-3698-4f6c-969a-0128fc9e2041",
    "scrolled": false
   },
   "outputs": [],
   "source": [
    "sns.jointplot('YearBuilt', 'SalePrice', data=df, kind='hex')"
   ]
  },
  {
   "cell_type": "markdown",
   "metadata": {
    "colab_type": "text",
    "id": "jyc4ywPJoLGv"
   },
   "source": [
    "Since John is going to use linear regression for modelling, its necessary to remove correlated variables to improve our model. He must find correlations using pandas 'corr' function and can visualize the correlation matrix using a heatmap in seaborn."
   ]
  },
  {
   "cell_type": "code",
   "execution_count": null,
   "metadata": {
    "scrolled": true
   },
   "outputs": [],
   "source": [
    "df.corr()"
   ]
  },
  {
   "cell_type": "code",
   "execution_count": null,
   "metadata": {
    "colab": {},
    "colab_type": "code",
    "id": "Z_I9KYgboLGw",
    "outputId": "1ec1e1ba-1695-4f7b-b587-b417a3c5f36a",
    "scrolled": false
   },
   "outputs": [],
   "source": [
    "plt.figure(figsize=(12,8))\n",
    "sns.heatmap(df.corr(), cmap='inferno')"
   ]
  },
  {
   "cell_type": "markdown",
   "metadata": {
    "colab_type": "text",
    "id": "PW32tIZeoLGy"
   },
   "source": [
    "John saw the following inferences from above -\n",
    "- A lot of variables are correlated to SalePrice which is good. \n",
    "- GrLivArea is highly correlated with TotRmsAbvGrd.\n",
    "- Also Year the garage was built(GarageYrBlt) is correlated with the year the building was built(YearBuilt). \n",
    "\n",
    "**It's a good idea to remove such correlated variables during feature selection.**"
   ]
  },
  {
   "cell_type": "markdown",
   "metadata": {
    "colab_type": "text",
    "id": "jFcOkPuSoLGy"
   },
   "source": [
    "<div class=\"alert alert-block alert-success\">**Now John plots some top variables to see the relations between them. He starts by filtering top 10 variables which are highly correlated with SalePrice.**</div>"
   ]
  },
  {
   "cell_type": "code",
   "execution_count": null,
   "metadata": {
    "colab": {},
    "colab_type": "code",
    "id": "XjBaj1lJoLGy",
    "outputId": "5d87c5dc-4eb5-42b2-9b58-0f56d7b7a58e",
    "scrolled": false
   },
   "outputs": [],
   "source": [
    "#saleprice correlation matrix\n",
    "k = 10 #number of variables for heatmap\n",
    "cols = df.corr().nlargest(k, 'SalePrice')['SalePrice'].index\n",
    "cm = df[cols].corr()\n",
    "plt.figure(figsize=(10,6))\n",
    "sns.heatmap(cm, annot=True, cmap = 'viridis')"
   ]
  },
  {
   "cell_type": "markdown",
   "metadata": {
    "colab_type": "text",
    "id": "XIAcRL3joLG0"
   },
   "source": [
    "- 'OverallQual', 'GrLivArea' and 'TotalBsmtSF' are strongly correlated with 'SalePrice'.\n",
    "- 'GarageCars' and 'GarageArea' are also correlated variables. However no of cars that can fit into a garage is dependent on the garage area and one can remove one of these. Check the correlation between them\n",
    "- TotalBsmtSF and 1stFlrSF are also highy correlated. We can drop one of these.\n",
    "- As pointed out above Yearbuilt and TotRmsAbvGrd are highly correlated, we'll discard TotRmsAbvGrd."
   ]
  },
  {
   "cell_type": "code",
   "execution_count": null,
   "metadata": {},
   "outputs": [],
   "source": [
    "X, Y, Z\n",
    "1, 100\n",
    "2, 300\n",
    "3, 900"
   ]
  },
  {
   "cell_type": "code",
   "execution_count": null,
   "metadata": {},
   "outputs": [],
   "source": [
    "VIF - Variation Inflation Factor\n",
    "IV = IV1 + 0.8*IV2 + -0.9*IV3 (Linear Combination of features)\n",
    "IV, VIF\n",
    "F1, 10,\n",
    "F2, 5\n",
    "F3, 2\n",
    "\n",
    "# (XtX)-1 XtY (rank <  no of columns)\n",
    "# F1 = F2 + 3F3"
   ]
  },
  {
   "cell_type": "markdown",
   "metadata": {
    "colab_type": "text",
    "id": "R5VOrBGKoLG0"
   },
   "source": [
    "<div class=\"alert alert-block alert-success\">**An easy way to plot all possible interactions is between a set of numeric variables is using pairplot function in seaborn.**</div>"
   ]
  },
  {
   "cell_type": "code",
   "execution_count": null,
   "metadata": {
    "colab": {},
    "colab_type": "code",
    "id": "5wgQioLzoLG1",
    "outputId": "f21c41d3-efcf-4eef-ccf2-7058d5be5175"
   },
   "outputs": [],
   "source": [
    "# Visualizing relations between all major variables\n",
    "cols = ['SalePrice', 'OverallQual', 'GrLivArea', 'GarageCars', 'TotalBsmtSF', 'FullBath', 'YearBuilt']\n",
    "sns.pairplot(df[cols])"
   ]
  },
  {
   "cell_type": "markdown",
   "metadata": {
    "colab_type": "text",
    "id": "u-DzFaqBoLG3"
   },
   "source": [
    "John notices a few interesting things here, in the scatter plot of TotalBsmtSF and GrLivArea, there is a line below which most TotalBsmtSF values fall in which makes sense as the area of Basement usually is lesser than living area. Also there is an exponential increase in SalePrice vs Yearbuilt in the recent past."
   ]
  },
  {
   "cell_type": "markdown",
   "metadata": {
    "colab_type": "text",
    "id": "la81bYkwoLG3"
   },
   "source": [
    "## Numeric vs Categorical"
   ]
  },
  {
   "cell_type": "markdown",
   "metadata": {
    "colab_type": "text",
    "id": "Oy__7766oLG3"
   },
   "source": [
    "To plot these relations we can use boxplots and swarmplots. John created these using boxplot function in seaborn. John is creating a boxplot for numerical variables grouped by categories in categorical variable."
   ]
  },
  {
   "cell_type": "code",
   "execution_count": null,
   "metadata": {
    "colab": {},
    "colab_type": "code",
    "id": "KavzF4rEoLG4",
    "outputId": "d568aab6-133c-4a80-fd86-1369ef01fad7"
   },
   "outputs": [],
   "source": [
    "plt.figure(figsize=(15,8))\n",
    "plt.xticks(rotation = 45)\n",
    "sns.boxplot('Neighborhood', 'SalePrice', data=df)"
   ]
  },
  {
   "cell_type": "markdown",
   "metadata": {
    "colab_type": "text",
    "id": "Plg08NiAoLG6"
   },
   "source": [
    "* John concluded that the distribution of SalePrice changes with the individual neighborhoods and can be a good predictor for it.\n",
    "* Next he takes a look at swarmplots which are similar to boxplots, but they also show no of points at each value of numerical variable. A denser plot signifies more observations in it."
   ]
  },
  {
   "cell_type": "code",
   "execution_count": null,
   "metadata": {
    "colab": {},
    "colab_type": "code",
    "id": "Zz8VAR0foLG7",
    "outputId": "9a593cf8-530c-498e-95c6-0174ecfc46de"
   },
   "outputs": [],
   "source": [
    "plt.figure(figsize=(12,6))\n",
    "sns.swarmplot('OverallQual', 'SalePrice', data=df)"
   ]
  },
  {
   "cell_type": "markdown",
   "metadata": {
    "colab_type": "text",
    "id": "gKJ92K0IoLG8"
   },
   "source": [
    "<div class=\"alert alert-block alert-success\">Here John can see that there's a marked increase in saleprice as the overall quality increases. So using this variable is a good idea to predict SalePrice.</div>"
   ]
  },
  {
   "cell_type": "markdown",
   "metadata": {
    "colab_type": "text",
    "id": "QBND0-ezoLG9"
   },
   "source": [
    "## Categorical vs Categorical"
   ]
  },
  {
   "cell_type": "markdown",
   "metadata": {
    "colab_type": "text",
    "id": "sFAM0SFYoLG9"
   },
   "source": [
    "This can be done using using crosstab or graphically using a stacked barplot. John here considers two variables 'Neighborhood' and 'OverallQual' and checks the relation between them using both of these."
   ]
  },
  {
   "cell_type": "code",
   "execution_count": null,
   "metadata": {},
   "outputs": [],
   "source": [
    "Logistic Regression\n",
    "Target: Categorical\n",
    "Should be given loan or not (YEs, No)"
   ]
  },
  {
   "cell_type": "code",
   "execution_count": null,
   "metadata": {
    "colab": {},
    "colab_type": "code",
    "id": "bkelKFYcoLG9",
    "outputId": "8fbb7d40-e35d-4c2e-f655-f1a4c9081495",
    "scrolled": false
   },
   "outputs": [],
   "source": [
    "crosstab = pd.crosstab(index=df[\"Neighborhood\"], columns=df[\"OverallQual\"])\n",
    "crosstab"
   ]
  },
  {
   "cell_type": "code",
   "execution_count": null,
   "metadata": {
    "colab": {},
    "colab_type": "code",
    "id": "lP701-mjoLHB",
    "outputId": "006ca220-d0c4-477a-fafa-785e3b79a445",
    "scrolled": true
   },
   "outputs": [],
   "source": [
    "crosstab.plot(kind=\"bar\", figsize=(12,8), stacked=False, colormap='Paired')"
   ]
  },
  {
   "cell_type": "code",
   "execution_count": null,
   "metadata": {},
   "outputs": [],
   "source": [
    "how to check correlation between two categorical columns?"
   ]
  },
  {
   "cell_type": "markdown",
   "metadata": {
    "colab_type": "text",
    "id": "aVNAdatmoLHE"
   },
   "source": [
    "John considered some of the initial entries and realised the data :-\n",
    "- Had missing values\n",
    "- Had outliers\n",
    "- Was sub-optimally represented "
   ]
  },
  {
   "cell_type": "markdown",
   "metadata": {
    "colab_type": "text",
    "id": "RQE1j7-6oLHE"
   },
   "source": [
    "## Treatment of Data\n",
    "***\n",
    "John had already applied linear regression on the house pricing dataset.And it didn't seem to be very helpful.\n",
    "\n",
    "He knows that he cannot apply a ML model on this raw data currently.\n",
    "\n",
    "Stuck with this, he consults his friend Jane for help. Jane suggested him to treat the data and creating new relevant features using the following techniques:\n",
    "- Data Cleaning and Pre-processing\n",
    "- Feature Extraction\n",
    "- Feature Engineering\n",
    "\n",
    "Let’s see how these techniques helped John:"
   ]
  },
  {
   "cell_type": "markdown",
   "metadata": {
    "colab_type": "text",
    "id": "rsyi_XyDoLHE"
   },
   "source": [
    "## Data Cleaning and Pre-processing\n",
    "***\n",
    "Data cleaning and preprocessing involves following techniques\n",
    "- Handling outliers\n",
    "- Handling missing values\n",
    "- Handling skewness\n"
   ]
  },
  {
   "cell_type": "markdown",
   "metadata": {
    "colab_type": "text",
    "id": "LidaGQidoLHF"
   },
   "source": [
    "### Handling Outilers\n",
    "***\n",
    "\n",
    "**Why Outlier Treatment?**\n",
    "***\n",
    "Jane asked John to starts plotting few graphs of numerical features in order to study their behaviour\n",
    "\n",
    "Let's see how John plots *GrLivArea vs SalePrice*.  "
   ]
  },
  {
   "cell_type": "code",
   "execution_count": null,
   "metadata": {
    "colab": {},
    "colab_type": "code",
    "id": "MuxkMCFhoLHF",
    "outputId": "549edace-383f-493d-9ade-3ce74140fee5"
   },
   "outputs": [],
   "source": [
    "#Scatter plot GrLivArea vs SalePrice\n",
    "\n",
    "# Code starts here\n",
    "data = pd.concat([df['SalePrice'], df['GrLivArea']], axis=1)\n",
    "data.plot.scatter(x='GrLivArea', y='SalePrice', ylim=(0,800000));"
   ]
  },
  {
   "cell_type": "markdown",
   "metadata": {
    "colab_type": "text",
    "id": "sgX8jLQ6oLHI"
   },
   "source": [
    "## So what did John observe?\n",
    "***\n",
    "* The _SalePrice_ and _GrLivArea_ are in a linear relationship.\n",
    "\n",
    "* At the bottom right there are two points with extremely large GrLivArea that are of a low price. These values are huge oultliers.\n",
    "\n",
    "He decides, to plot a few more graphs."
   ]
  },
  {
   "cell_type": "code",
   "execution_count": null,
   "metadata": {
    "colab": {},
    "colab_type": "code",
    "id": "PEtEs5V4oLHI",
    "outputId": "2504c415-d9a8-48e4-9584-faab6b5760a6"
   },
   "outputs": [],
   "source": [
    "#Scatter plot TotalBsmtSF vs SalePrice\n",
    "\n",
    "# Code starts here\n",
    "data = pd.concat([df['SalePrice'], df['TotalBsmtSF']], axis=1)\n",
    "data.plot.scatter(x='TotalBsmtSF', y='SalePrice', ylim=(0, 800000));\n"
   ]
  },
  {
   "cell_type": "markdown",
   "metadata": {
    "colab_type": "text",
    "id": "kW5mQpiVoLHK"
   },
   "source": [
    "It seems that **'TotalBsmtSF'** is also linearly dependent on **'SalePrice'**.\n",
    "\n",
    "At the bottom right of the plot John can noticed that, there is one outlier which has a high Basement area at relatively quite cheap Sale Price.\n",
    "\n",
    "There are quite a few outliers in the data. John considered this to be one of the reasons the Linear Regression model performed poorly."
   ]
  },
  {
   "cell_type": "markdown",
   "metadata": {},
   "source": [
    "John was through with analyzing the numerical features in the data.\n",
    "\n",
    "Intuitively, John started thinking about the change in behaviour for the categorical features.\n",
    "\n",
    "He decided to go with his intuition and began analysing the categorical features.\n",
    "\n",
    "Wondering how to start, Jane suggested to use boxplots.\n",
    "\n",
    "John plotted a boxplot for the OverallQual and SalePrice to analyze them.\n"
   ]
  },
  {
   "cell_type": "code",
   "execution_count": null,
   "metadata": {
    "colab": {},
    "colab_type": "code",
    "id": "fT6R17hToLHL",
    "outputId": "1011ab81-b1ee-4599-a7b6-372842600196"
   },
   "outputs": [],
   "source": [
    "# Box plot of OverallQual vs SalePrice\n",
    "\n",
    "# Code starts here\n",
    "data = pd.concat([df['SalePrice'], df['OverallQual']], axis=1)\n",
    "f, ax = plt.subplots(figsize=(8, 6))\n",
    "fig = sns.boxplot(x='OverallQual', y=\"SalePrice\", data=data)\n",
    "fig.axis(ymin=0, ymax=800000);"
   ]
  },
  {
   "cell_type": "markdown",
   "metadata": {
    "colab_type": "text",
    "id": "M1YKv3EYoLHO"
   },
   "source": [
    "- Treating outliers is important because\n",
    "Outliers can skew and mislead the training process of machine learning algorithms resulting in longer training times, less accurate models and ultimately poorer results.\n",
    "Many machine learning algorithms are sensitive to the range and distribution of attribute values in the input data.\n",
    "\n",
    "- Surely John knows this, let's see how he removes them"
   ]
  },
  {
   "cell_type": "code",
   "execution_count": null,
   "metadata": {},
   "outputs": [],
   "source": [
    "Intuitive\n",
    "Age - 80, 18 \n",
    "105 ---> 80\n",
    "8, 800 ---> 18, 80\n",
    "\n",
    "1000\n",
    "20-50 records"
   ]
  },
  {
   "cell_type": "markdown",
   "metadata": {
    "colab_type": "text",
    "id": "5GuP4lbooLHO"
   },
   "source": [
    "## John's Approach 1: Univariate Methods\n",
    "***\n",
    "John selects a threshold value for the Numerical features and removes all the rows beyond that threshold value.\n",
    "\n",
    "In short :\n",
    "- Visualize the data using scatterplots, histograms and box and whisker plots and look for extreme values.\n",
    "- Assume a distribution (Gaussian) and look for values 1.5 times from the first or third quartile\n",
    "- Filter out outliers candidate from training dataset and assess the model’s performance.\n",
    "\n",
    "Let's see how John treat the ouliers:-"
   ]
  },
  {
   "cell_type": "code",
   "execution_count": null,
   "metadata": {
    "colab": {},
    "colab_type": "code",
    "id": "AlJ0BlfdoLHO",
    "outputId": "558a8bf5-8713-4417-95dd-decf8c518266"
   },
   "outputs": [],
   "source": [
    "#Deleting outliers\n",
    "df = df.drop(df[(df['GrLivArea']>3000) & (df['GrLivArea']<6000)].index)\n",
    "\n",
    "#Check the graph again\n",
    "fig, ax = plt.subplots()\n",
    "ax.scatter(df['GrLivArea'], df['SalePrice'])\n",
    "plt.ylabel('SalePrice', fontsize=13)\n",
    "plt.xlabel('GrLivArea', fontsize=13)\n",
    "plt.show()"
   ]
  },
  {
   "cell_type": "markdown",
   "metadata": {
    "colab_type": "text",
    "id": "9Fohks89oLHS"
   },
   "source": [
    "## What changed?\n",
    "***\n",
    "Let's draw the original plot and the plot after removing the outliers."
   ]
  },
  {
   "cell_type": "code",
   "execution_count": null,
   "metadata": {},
   "outputs": [],
   "source": [
    "sns.lmplot('GrLivArea', 'SalePrice', data=data, fit_reg=True)"
   ]
  },
  {
   "cell_type": "code",
   "execution_count": null,
   "metadata": {
    "scrolled": true
   },
   "outputs": [],
   "source": [
    "#sns.lmplot(df['GrLivArea'], df['SalePrice'])\n",
    "sns.lmplot('GrLivArea', 'SalePrice', data=df, fit_reg=True)"
   ]
  },
  {
   "cell_type": "code",
   "execution_count": null,
   "metadata": {
    "colab": {},
    "colab_type": "code",
    "id": "G5RFybD-oLHS",
    "outputId": "d4482287-2fc6-41e7-fc99-f733ba5f0982"
   },
   "outputs": [],
   "source": [
    "f, (ax1, ax2) = plt.subplots(1, 2, sharex='col', sharey='row', figsize=(10, 7))\n",
    "\n",
    "data = pd.read_csv('../data/train.csv',index_col=0)\n",
    "\n",
    "# Code starts here \n",
    "\n",
    "# Scatter plot for data\n",
    "ax1.scatter(data['GrLivArea'], data['SalePrice']);\n",
    "ax1.set_ylabel('SalePrice', fontsize=13)\n",
    "ax1.set_xlabel('GrLivArea', fontsize=13)\n",
    "\n",
    "# Scatter plot for df\n",
    "ax2.scatter(df['GrLivArea'], df['SalePrice'])\n",
    "ax2.set_ylabel('SalePrice', fontsize=13)\n",
    "ax2.set_xlabel('GrLivArea', fontsize=13)\n",
    "\n",
    "plt.show()"
   ]
  },
  {
   "cell_type": "markdown",
   "metadata": {
    "colab_type": "text",
    "id": "9PRAmXVDoLHV"
   },
   "source": [
    "John had a requirement of a house with living area round 3000sq. The houses with greater Ground Living Area were outliers for him.\n",
    "\n",
    "As, we can easily note from the above plots, that the outliers have been removed.\n",
    "\n",
    "John had heard of few other approaches, that he could have tried to remove the outliers. They are : "
   ]
  },
  {
   "cell_type": "code",
   "execution_count": null,
   "metadata": {},
   "outputs": [],
   "source": [
    "Univariate\n",
    "1. Z-Score\n",
    "GrLivArea - respective zscores\n",
    "above 3 or below -3 ---> drop the values, winsoriazation (windowing, clipping, censoring)\n",
    "\n",
    "1%, 5%, ... 95, 99%, 100%\n",
    "<5% ----> 5%\n",
    "95> ---> 95th"
   ]
  },
  {
   "cell_type": "markdown",
   "metadata": {
    "colab_type": "text",
    "id": "jeLXG90zoLHW"
   },
   "source": [
    "#### Approach 2: Multivariate Methods\n",
    "\n",
    "- Use clustering methods to identify the natural clusters in the data, identify the points which far away from the cluster centroids\n",
    "- Use dimensionality reduction techniques\n",
    "\n",
    "**Note: ** We will study about these techniques in _Unsupervised Learning_."
   ]
  },
  {
   "cell_type": "markdown",
   "metadata": {
    "colab_type": "text",
    "id": "0EGV-qS9oLHX"
   },
   "source": [
    "#### Approach 3: Algorithmic Methods\n",
    "\n",
    "- Ensemble methods like random forests and gradient boosting provide relatively robust results with data with outliers.\n",
    "\n",
    "**Note:** We will study about these techniques in _Unsupervised Learning_."
   ]
  },
  {
   "cell_type": "code",
   "execution_count": null,
   "metadata": {},
   "outputs": [],
   "source": [
    "Date, Sales, Primeday/BigBillionDays (Categorical)\n",
    "2020-08-19, 1L, YES\n",
    "2020-06-19, 1L, NO"
   ]
  },
  {
   "cell_type": "code",
   "execution_count": null,
   "metadata": {},
   "outputs": [],
   "source": [
    "Influential Datapoints"
   ]
  },
  {
   "cell_type": "code",
   "execution_count": null,
   "metadata": {},
   "outputs": [],
   "source": [
    "Test Data distribution is different from train data"
   ]
  },
  {
   "cell_type": "code",
   "execution_count": null,
   "metadata": {},
   "outputs": [],
   "source": [
    "Transformation --> changing the domain the data\n",
    "Imputation - filling the missing values (Bias in the data)\n",
    "\n",
    "Take these steps with pinch of salt ----> if possible avoid"
   ]
  },
  {
   "cell_type": "code",
   "execution_count": null,
   "metadata": {},
   "outputs": [],
   "source": [
    "FeatEngg = Transformation, creation of KPIs"
   ]
  },
  {
   "cell_type": "markdown",
   "metadata": {
    "colab_type": "text",
    "id": "_E-J83vzoLHY"
   },
   "source": [
    "## Handling Missing Values\n",
    "***\n",
    "\n",
    "John was happy that the outliers had been removed. \n",
    "\n",
    "He was casually skimming through the data when he realised that a lot of the data had missing values.\n",
    "\n",
    "Intuitively, he decided to check out few entries in the data, which had most values as null.\n",
    "\n",
    "For each house entry, he observed the number of features which were missing and arrange them in an ascending order.\n"
   ]
  },
  {
   "cell_type": "code",
   "execution_count": null,
   "metadata": {},
   "outputs": [],
   "source": [
    "df.head()\n",
    "df.shape"
   ]
  },
  {
   "cell_type": "code",
   "execution_count": null,
   "metadata": {},
   "outputs": [],
   "source": [
    "df[df.index == 534]\n",
    "15/80"
   ]
  },
  {
   "cell_type": "code",
   "execution_count": null,
   "metadata": {
    "colab": {},
    "colab_type": "code",
    "id": "Dk8-7lx2oLHY",
    "outputId": "48625be9-64b0-476a-f1dc-903525e0af0e",
    "scrolled": true
   },
   "outputs": [],
   "source": [
    "# missing data\n",
    "total = df.isnull().sum(axis=1).sort_values(ascending=False)\n",
    "percent = (df.isnull().sum(axis=1)/df.isnull().count(axis=1)).sort_values(ascending=False)\n",
    "missing_data = pd.concat([total, percent], axis=1, keys=['Total_missing_values_per_row', 'Percent'])\n",
    "missing_data.head(20)"
   ]
  },
  {
   "cell_type": "code",
   "execution_count": null,
   "metadata": {},
   "outputs": [],
   "source": [
    "missing_data[missing_data.Total_missing_values_per_row < 5]"
   ]
  },
  {
   "cell_type": "markdown",
   "metadata": {
    "colab_type": "text",
    "id": "fRqknk_coLHb"
   },
   "source": [
    "The house entry number 40 had values of 15 features missing. So, did the houses number 1219, 1012, 534 and so on.\n",
    "John realised that there were too many of them\n",
    "\n",
    "Worried, John consulted Jane again on this. Jane explained a few methods to treat missing values.\n",
    "\n",
    "Data can have missing values. It's very normal to have some missing values.\n",
    "\n",
    "**Reasons for Missing Values**\n",
    "\n",
    "- These are values for attributes where a measurement could not be taken or is corrupt for some reason.\n",
    "- Missing that depends on unobserved predictors\n",
    "\n",
    "**Why Missing Value Treatment?**\n",
    "- Missing data in the training data set can reduce the power / fit of a model.\n",
    "- Missing values can lead to a biased model because we have not analyzed the behavior and relationship with other variables correctly\n",
    "- This is useful because some algorithms are unable to work with or exploit missing data.\n",
    "\n",
    "Therefore, it is important to identify and mark this missing data. Once marked, replacement values can be prepared."
   ]
  },
  {
   "cell_type": "code",
   "execution_count": null,
   "metadata": {
    "colab": {},
    "colab_type": "code",
    "id": "w0NlOTKKoLHb",
    "outputId": "ce2a23a0-50f0-427c-a428-79cf9ad3cb87"
   },
   "outputs": [],
   "source": [
    "missing_data[missing_data.Total_missing_values_per_row == 0]"
   ]
  },
  {
   "cell_type": "markdown",
   "metadata": {
    "colab_type": "text",
    "id": "7JVvg0_joLHd"
   },
   "source": [
    "## John's Approach 1: Remove records (rows) that contain a missing value\n",
    "***\n",
    "John had so many houses with missing features.\n",
    "He wondered, what would he do?\n",
    "\n",
    "He found it easy to remove all those rows which contained null values.\n",
    "Neat and Simple, he thought.\n",
    "\n",
    "So, let's drop all those houses which had any feature as 0.\n",
    "If all the features, for a house were available, only then it would be retained. "
   ]
  },
  {
   "cell_type": "code",
   "execution_count": null,
   "metadata": {
    "colab": {},
    "colab_type": "code",
    "id": "iRm053K7oLHe",
    "outputId": "7bf49141-c289-4c81-e7f0-0f65a99d8006"
   },
   "outputs": [],
   "source": [
    "df_copy = df.copy().dropna(how='any')\n",
    "df_copy.shape"
   ]
  },
  {
   "cell_type": "code",
   "execution_count": null,
   "metadata": {},
   "outputs": [],
   "source": [
    "5% of what?\n",
    "5% of 100 \n",
    "5% of 100Mn"
   ]
  },
  {
   "cell_type": "markdown",
   "metadata": {
    "colab_type": "text",
    "id": "QMJaMNUIoLHg"
   },
   "source": [
    "Unfortunately, none of the observations had values for all the features i.e. non-empty rows\n",
    "John would surely lose out all his data in such this case.\n",
    "\n",
    "Hence he could not remove houses (rows) that contain missing value as it will lead to loss of significant information because the missing value is spread all over dataset. \n",
    "\n",
    "In a nutshell :\n",
    "- This approach would work fine if the amount of missing values is very small (up to ~2% of entire data)\n",
    "\n",
    "- But with large amount of scattered missing values, we would lose out on some valuable information.\n",
    "\n",
    "\n",
    "**Note:**\n",
    "\n",
    "A slightly better approach would be to drop only those rows, which had all the values as null.\n",
    "This would surely work better then the previous approach, thought Jon.\n",
    "\n",
    "Let's check the number of houses, with at least some data. "
   ]
  },
  {
   "cell_type": "code",
   "execution_count": null,
   "metadata": {
    "colab": {},
    "colab_type": "code",
    "id": "FqPWX71NoLHg",
    "outputId": "3707fa54-0772-4340-fa83-44939b7d59ba"
   },
   "outputs": [],
   "source": [
    "df_copy = df.copy().dropna(how='all')\n",
    "df.shape"
   ]
  },
  {
   "cell_type": "markdown",
   "metadata": {
    "colab_type": "text",
    "id": "5NXqHHewoLHj"
   },
   "source": [
    "## Jon's Approach 2: Remove features (columns) that contain missing values.\n",
    "***\n",
    "John thought of now exploring the features rather than the individual houses.\n",
    "\n",
    "For each feature(column) in the data, John counted the number of houses(rows) with null values."
   ]
  },
  {
   "cell_type": "code",
   "execution_count": null,
   "metadata": {
    "scrolled": true
   },
   "outputs": [],
   "source": [
    "df.info()"
   ]
  },
  {
   "cell_type": "code",
   "execution_count": null,
   "metadata": {
    "colab": {},
    "colab_type": "code",
    "id": "FtZX_CnkoLHj"
   },
   "outputs": [],
   "source": [
    "#missing data observing in columns\n",
    "total = df.isnull().sum(axis=0).sort_values(ascending=False)\n",
    "percent = ((df.isnull().sum(axis=0)/df.isnull().count(axis=0))*100).sort_values(ascending=False)"
   ]
  },
  {
   "cell_type": "code",
   "execution_count": null,
   "metadata": {
    "colab": {},
    "colab_type": "code",
    "id": "419qLauBoLHl",
    "outputId": "3c984293-0253-4e5a-fa07-0b03bd2aa702",
    "scrolled": true
   },
   "outputs": [],
   "source": [
    "# count the number of null values in the column and their perecentage of the total data\n",
    "missing_data_columns = pd.concat([total, percent], axis=1, keys=['Total', 'Percent'])\n",
    "missing_data_columns.head(20)"
   ]
  },
  {
   "cell_type": "code",
   "execution_count": null,
   "metadata": {},
   "outputs": [],
   "source": [
    "> 5-10% ---> imputation, adding bias in your dataset"
   ]
  },
  {
   "cell_type": "markdown",
   "metadata": {
    "colab_type": "text",
    "id": "S3FjxRXvoLHn"
   },
   "source": [
    "Jon observed from the above information that features such as **PoolQC, MiscFeature, Alley, Fence** are having most of the values labeled as missing. Hence, they don't seem to be very important and will not have a significant effect.\n",
    "\n",
    "We can surely drop those columns.\n",
    "So, let's drop these columns with high missing values & check the remaining columns. "
   ]
  },
  {
   "cell_type": "code",
   "execution_count": null,
   "metadata": {
    "colab": {},
    "colab_type": "code",
    "id": "s-FFL_1foLHo"
   },
   "outputs": [],
   "source": [
    "# droping columns containing high missing values \n",
    "df1=df.copy()\n",
    "\n",
    "# Code starts here\n",
    "df1.drop([\"PoolQC\", \"MiscFeature\",\"Alley\",\"Fence\"], axis = 1, inplace = True)"
   ]
  },
  {
   "cell_type": "code",
   "execution_count": null,
   "metadata": {
    "colab": {},
    "colab_type": "code",
    "id": "v64ZKyYEoLHp",
    "outputId": "6339d1c8-6569-4c43-c14f-d878951f546e",
    "scrolled": true
   },
   "outputs": [],
   "source": [
    "# display the columns left after droping the above features\n",
    "\n",
    "# Code starts here\n",
    "list(df1.columns.values)[:20]"
   ]
  },
  {
   "cell_type": "code",
   "execution_count": null,
   "metadata": {},
   "outputs": [],
   "source": [
    "Age = [1, 1, 1, 1, 1, 1, 1, 1, 1, 1, 4,]\n",
    "Variation in your data --> "
   ]
  },
  {
   "cell_type": "markdown",
   "metadata": {
    "colab_type": "text",
    "id": "4hEcqCXKoLHr"
   },
   "source": [
    "## Jon's Approach 3: Missing values Imputation\n",
    "***\n",
    "None of the above techniques worked for John. He dropped a few columns, however he observed that there still were other features with high number of missing values.\n",
    "\n",
    "The *FireplaceQu* column has around 700 missing values whereas *LotFrontage* has around 300 missing values.\n",
    "He was in a dilemma, whether to retain them or drop them.\n",
    "\n",
    "After a long time, he decided to retain them. But, what should he do with the missing values?\n",
    "\n",
    "Let's check out a few columns from the data.\n",
    "\n"
   ]
  },
  {
   "cell_type": "code",
   "execution_count": null,
   "metadata": {
    "colab": {},
    "colab_type": "code",
    "id": "npnxhIkgoLHs",
    "outputId": "e01f6b16-f9a7-4281-b7a8-49edea98b09e",
    "scrolled": true
   },
   "outputs": [],
   "source": [
    "print(df[[\"PoolQC\",\"MiscFeature\",\"GarageYrBlt\",\"GarageArea\",\"GarageCars\"]])"
   ]
  },
  {
   "cell_type": "code",
   "execution_count": null,
   "metadata": {},
   "outputs": [],
   "source": [
    "Domain analysis --> 0\n"
   ]
  },
  {
   "cell_type": "markdown",
   "metadata": {
    "colab_type": "text",
    "id": "Na0yJpPNoLHv"
   },
   "source": [
    "What he did was that he imputed the missing values with a representative constant value that has meaning within the domain, such as 0 or None, distinct from all other values.\n",
    "\n",
    "He imputed them by proceeding sequentially through features with missing values.\n",
    "\n",
    "- PoolQC : data description says NA means \"No Pool\". That makes sense, given the huge ratio of missing value (+99%) and majority of houses have no Pool at all in general.\n",
    "\n",
    "- MiscFeature : data description says NA means \"no misc feature\"\n",
    "- GarageYrBlt, GarageArea and GarageCars : Replacing missing data with 0 (Since No garage = no cars in such garage.)\n",
    "\n",
    "John consider 'NA',  'no misc features' and 'Nan' to be equivalent to null values and need to be imputed.\n",
    "\n",
    "Let's impute the missing values as per the following :\n",
    "- Categorical Features : None\n",
    "- Numerical Features : 0"
   ]
  },
  {
   "cell_type": "code",
   "execution_count": null,
   "metadata": {
    "colab": {},
    "colab_type": "code",
    "id": "KPzr8VH2oLHv",
    "outputId": "48ca966a-293f-4aaa-cb25-f7335c9e4c9b"
   },
   "outputs": [],
   "source": [
    "df2=df.copy()\n",
    "df2[\"PoolQC\"] = df2[\"PoolQC\"].fillna(\"None\")\n",
    "df2[\"MiscFeature\"] = df2[\"MiscFeature\"].fillna(\"None\")\n",
    "\n",
    "for col in ('GarageYrBlt', 'GarageArea', 'GarageCars'):\n",
    "    df2[col] = df2[col].fillna(0)\n",
    "print(df2[[\"PoolQC\",\"MiscFeature\",\"GarageYrBlt\",\"GarageArea\",\"GarageCars\"]])"
   ]
  },
  {
   "cell_type": "markdown",
   "metadata": {
    "colab_type": "text",
    "id": "jowTck45oLHx"
   },
   "source": [
    "## Jon's approach 5: Impute missing values with a mean, median or mode value for the column.\n",
    "***\n",
    "Imputing values with a default value, is a good option.\n",
    "But, we can still perform better, right?\n",
    "\n",
    "John, thought of imputing the missing values with more relevant data rather than a default value.\n",
    "Indeed, a great idea!!\n",
    "\n",
    "John applied this idea on a few features in our data.\n",
    "\n",
    "_Numerical Feature :_ \n",
    "- Since the area of each street connected to the house property most likely have a similar area to other houses in its neighborhood , he filled in missing values by the median LotFrontage of the neighborhood.\n",
    "\n",
    "\n",
    "_Categorical Feature :_\n",
    "- However, for categorical feature one cannot calculate **mean** or **median**.\n",
    "- 'RL' is by far the most common value. So he filled in missing values with 'RL'."
   ]
  },
  {
   "cell_type": "code",
   "execution_count": null,
   "metadata": {
    "colab": {},
    "colab_type": "code",
    "id": "NZCTdQc7oLHx",
    "outputId": "f16409ac-002f-4451-d300-3e5b9656a7a6"
   },
   "outputs": [],
   "source": [
    "# Imputation Using Imputer\n",
    "imp_mean = SimpleImputer(missing_values = np.nan, strategy='mean')\n",
    "imp_mean.fit(df2[['LotFrontage']])\n",
    "df2['LotFrontage'] = imp_mean.transform(df[['LotFrontage']])\n",
    "print(df2[\"LotFrontage\"])"
   ]
  },
  {
   "cell_type": "code",
   "execution_count": null,
   "metadata": {
    "colab": {},
    "colab_type": "code",
    "id": "Z0J0bleWoLH1",
    "outputId": "78e91d85-f5a8-494e-b33b-b6136b9949c3"
   },
   "outputs": [],
   "source": [
    "#Mode value imputation\n",
    "df2['MSZoning'] = df2['MSZoning'].fillna(df2['MSZoning'].mode()[0])\n",
    "print(df2['MSZoning'])"
   ]
  },
  {
   "cell_type": "markdown",
   "metadata": {
    "colab_type": "text",
    "id": "ZI_SoVGHoLH3"
   },
   "source": [
    "**Other Methods to Handle Missing Values : **\n",
    "\n",
    "#### Approach 6: Impute missing values with a value estimated by another predictive model\n",
    "\n",
    "We will study these techniques while we learn _Unsupervised Learning_\n",
    "\n",
    "#### Approach 7 : Use algorithms that Support Missing Values\n",
    "\n",
    "Not all algorithms fail when there is missing data.\n",
    "\n",
    "There are certain algorithms that work well even with missing values.\n",
    "For such algorithms, we need not worry about the missing values.\n",
    "\n",
    "Few such algorithms are : \n",
    "- Random Forest\n",
    "- Classification and Regression Trees\n",
    "- KNN"
   ]
  },
  {
   "cell_type": "code",
   "execution_count": null,
   "metadata": {},
   "outputs": [],
   "source": [
    "Surrogate models"
   ]
  },
  {
   "cell_type": "markdown",
   "metadata": {
    "colab_type": "text",
    "id": "nwuxn_WUoLH3"
   },
   "source": [
    "# Handling Skewness\n",
    "***\n",
    "\n",
    "So far John has really made some good progress.\n",
    "\n",
    "However, John knows that the Linear Regression has following assumptions:\n",
    "- Linear relationship\n",
    "- **Multivariate normality**\n",
    "\n",
    "**Multivariate normality means that regression requires the residuals to be normal. \n",
    "By having skewed data one might violate the assumption of normality.**\n",
    "\n",
    "So, he is far from applying a Linear Regression yet and needs to check the skewness of the data.\n",
    "Let's explore a bit more about Skewness.\n",
    "\n",
    "**What is Skewness?**\n",
    "\n",
    "- Skewness is a measure of asymmetry of distribution.\n",
    "- Skewness is a measure of symmetry, or more precisely, the lack of symmetry. \n",
    "\n",
    "**Why handle Skewness?**\n",
    "- Symmetric distribution is preferred over skewed distribution as it is easier to interpret and generate inferences. \n",
    "\n",
    "Let's look at some plots.\n",
    "Here, we check the skewness of `GrLivArea` and plot it."
   ]
  },
  {
   "cell_type": "code",
   "execution_count": null,
   "metadata": {
    "colab": {},
    "colab_type": "code",
    "id": "QWlq6mrWoLH4",
    "outputId": "473d0306-62b7-4b73-a069-399198b32560"
   },
   "outputs": [],
   "source": [
    "#histogram and normal probability plot\n",
    "sns.distplot(df['GrLivArea'], fit=norm);\n",
    "fig = plt.figure(figsize = (10, 4))\n",
    "res = stats.probplot(df['GrLivArea'], plot=plt)"
   ]
  },
  {
   "cell_type": "markdown",
   "metadata": {
    "colab_type": "text",
    "id": "wXdLdPK_oLH6"
   },
   "source": [
    "Now, lets numerically calculate the skewness for the _GrLivArea_ feature."
   ]
  },
  {
   "cell_type": "code",
   "execution_count": null,
   "metadata": {
    "colab": {},
    "colab_type": "code",
    "id": "BU8GqH7qoLH6",
    "outputId": "5442c90b-68d8-4369-8158-3f9c2b58a856"
   },
   "outputs": [],
   "source": [
    "skewed_grLiv = skew(df['GrLivArea'])\n",
    "print(skewed_grLiv)"
   ]
  },
  {
   "cell_type": "markdown",
   "metadata": {
    "colab_type": "text",
    "id": "ae3CWrHgoLH8"
   },
   "source": [
    "For normally distributed data, the skewness should be about 0. A skewness value > 0 means that there is more weight in the left tail of the distribution.\n",
    "\n",
    "As evident from the histogram plot, the *GrLivArea* is *Right skewed*.\n",
    "\n",
    "Hmm... let's try removing skewness from our data."
   ]
  },
  {
   "cell_type": "code",
   "execution_count": null,
   "metadata": {},
   "outputs": [],
   "source": [
    "log(10) (base10) - 1\n",
    "log(100) (base10) - 2"
   ]
  },
  {
   "cell_type": "markdown",
   "metadata": {
    "colab_type": "text",
    "id": "geIK_G4coLH8"
   },
   "source": [
    "## John's Approach 1: Replacing the data with the log, square root, or inverse transformed data may help to remove the skewness.\n",
    "***\n",
    "\n",
    "John read that applying **log transformation** on the data would reduce the skewness. It was worth a try, he thought.\n",
    "\n",
    "Let's see how he applied Log Transform to remove the skewness in the data and plot it.\n",
    "\n",
    "John chose to focus on the **GrLivArea** feature for which he had already calculated the skewness. "
   ]
  },
  {
   "cell_type": "code",
   "execution_count": null,
   "metadata": {
    "colab": {},
    "colab_type": "code",
    "id": "y03GuapKoLH9"
   },
   "outputs": [],
   "source": [
    "#data transformation\n",
    "df_trans=df.copy()\n",
    "df_trans['GrLivArea'] = np.log(df_trans['GrLivArea'])"
   ]
  },
  {
   "cell_type": "markdown",
   "metadata": {
    "colab_type": "text",
    "id": "6KZmkL-yoLH_"
   },
   "source": [
    "Applying log_transform on the _GrLivArea_ and plot them."
   ]
  },
  {
   "cell_type": "code",
   "execution_count": null,
   "metadata": {
    "colab": {},
    "colab_type": "code",
    "id": "2WkQGELyoLH_",
    "outputId": "df62a953-760a-4e95-d0c7-2f25b4b62719",
    "scrolled": false
   },
   "outputs": [],
   "source": [
    "#transformed histogram and normal probability plot\n",
    "sns.distplot(df_trans['GrLivArea'], fit=norm)\n",
    "fig = plt.figure(figsize = (10, 4))\n",
    "res = stats.probplot(df_trans['GrLivArea'], plot=plt)"
   ]
  },
  {
   "cell_type": "code",
   "execution_count": null,
   "metadata": {},
   "outputs": [],
   "source": [
    "skewed_grLiv = skew(df_trans['GrLivArea'])\n",
    "print(skewed_grLiv)"
   ]
  },
  {
   "cell_type": "markdown",
   "metadata": {
    "colab_type": "text",
    "id": "xJ6sYo-GoLIB"
   },
   "source": [
    "John was happy to see that the plot is now much more symmetrical. It seems more like a bell curve now.\n",
    "\n",
    "Let's verify the same numerically.\n",
    "\n",
    "skewness_grLiv = skew(df_trans['GrLivArea'])\n",
    "print(skewness_grLiv)\n",
    "\n",
    "Hmm... Log transformation did remove skewness in the original data.\n",
    "Quite evidently, the skewness value is now much more closer to 0.\n",
    "\n",
    "When Jane learnt about this she informed John about another method **\"Square Root Transformation\"** to remove skewness in the data.\n",
    "\n",
    "Let's see how to apply Square Root transformation"
   ]
  },
  {
   "cell_type": "code",
   "execution_count": null,
   "metadata": {
    "colab": {},
    "colab_type": "code",
    "id": "EQjOnd1MoLIB",
    "outputId": "51c9a990-45c0-49d9-8820-1deb355a93c2"
   },
   "outputs": [],
   "source": [
    "df_trans = df.copy()\n",
    "df_trans['GrLivArea'] = np.sqrt(df_trans['GrLivArea'])\n",
    "\n",
    "sns.distplot(df_trans['GrLivArea'], fit=norm)\n",
    "fig = plt.figure()\n",
    "fig.show()"
   ]
  },
  {
   "cell_type": "markdown",
   "metadata": {
    "colab_type": "text",
    "id": "SJcSh2LYoLID"
   },
   "source": [
    "Similar to the log transform; even the square root transformation seems to reduce the skewness.\n",
    "\n",
    "Let's verify the same numerically."
   ]
  },
  {
   "cell_type": "code",
   "execution_count": null,
   "metadata": {
    "colab": {},
    "colab_type": "code",
    "id": "Pgwgro_GoLIE",
    "outputId": "d864afa6-cdb9-4fc2-ce2f-e23063dd01b5"
   },
   "outputs": [],
   "source": [
    "# Code starts here\n",
    "skewness_grLiv = skew(df_trans['GrLivArea'])\n",
    "print(skewness_grLiv)"
   ]
  },
  {
   "cell_type": "markdown",
   "metadata": {
    "colab_type": "text",
    "id": "MyLT38-moLIG"
   },
   "source": [
    "## Feature Extraction\n",
    "***\n",
    "\n",
    "After such an exhausting work, John was finally ready to apply the Linear Regression on the dataset.\n",
    "\n",
    "## But ....\n",
    "***\n",
    "Was the data consistent?\n",
    "\n",
    "\"What should I do? How can I make the data consistent? How can I compare them?\"\n",
    "\n",
    "Finding himself again in a problem, John called up Jane.\n",
    "\n",
    "Standardization of datasets is a common requirement for many machine learning estimators; they might behave badly if the individual features do not more or less look like standard normally distributed data: Gaussian with zero mean and unit variance.\n"
   ]
  },
  {
   "cell_type": "code",
   "execution_count": null,
   "metadata": {},
   "outputs": [],
   "source": [
    "Model - Many features\n",
    "#TVUnits, #Apples_inKG, #Milk_Litres\n",
    "1, 10K, 3\n",
    "2, 50K, 10\n",
    "\n",
    "0.2, 0.25, 0.33\n",
    "0.3, 0.45, 0.44\n",
    "\n",
    "Gradient Descent Update Rule\n",
    "theta_new = theta_old - LR(Partial_D (CostFunct)|theta_old)\n",
    "\n",
    "Unitless quantity, change their range/domain to a bounded quantity (0, 1)\n",
    "Unitless quantity - std normal distribution\n",
    "N(0, 1)\n",
    "\n",
    "x-mu/sd\n",
    "\n",
    "\n",
    "#MoneySpent_TVUnits, #MoneySpent_Apples_inKG, #MoneySpent_Milk_Litres\n"
   ]
  },
  {
   "cell_type": "code",
   "execution_count": null,
   "metadata": {},
   "outputs": [],
   "source": [
    "Before Transformation -> train, test set\n",
    "transform(train) --> Zscore_trainset\n"
   ]
  },
  {
   "cell_type": "code",
   "execution_count": null,
   "metadata": {},
   "outputs": [],
   "source": [
    "Norm - NewFeature is bounded (0 to 1)\n",
    "Std - NewFeature is not bounded (-infinity to plus infinity)"
   ]
  },
  {
   "cell_type": "markdown",
   "metadata": {
    "colab_type": "text",
    "id": "PBjPcDBIoLIG"
   },
   "source": [
    "### Standardization\n",
    "***\n",
    "- Standardization is recommended when regression models are being built.\n",
    "- Standardization of data is to have zero mean and unit variance.\n",
    "\n",
    "\n",
    "Standardization cannot be performed on Categorical data, so we need to separate Numerical Features and Categorical Features.\n",
    "\n",
    "So, Jane asked John to separate the original data into two categories : Numerical and Categorical"
   ]
  },
  {
   "cell_type": "code",
   "execution_count": null,
   "metadata": {
    "colab": {},
    "colab_type": "code",
    "id": "ti-wcFnMoLIG"
   },
   "outputs": [],
   "source": [
    "numeric_feature = [a for a in range(len(df.dtypes)) if df.dtypes[a] in ['int64','float64']]\n",
    "numeric_data = df.iloc[:,numeric_feature]"
   ]
  },
  {
   "cell_type": "code",
   "execution_count": null,
   "metadata": {
    "colab": {},
    "colab_type": "code",
    "id": "YmCCR4r_oLIJ"
   },
   "outputs": [],
   "source": [
    "cat_name = df.columns.difference(df.columns[numeric_feature])\n",
    "cat_data = df.loc[:,cat_name]"
   ]
  },
  {
   "cell_type": "markdown",
   "metadata": {
    "colab_type": "text",
    "id": "RVHRsPesoLIK"
   },
   "source": [
    "Let's check out some of the entries in Numerical Data & Categorical Data"
   ]
  },
  {
   "cell_type": "code",
   "execution_count": null,
   "metadata": {
    "colab": {},
    "colab_type": "code",
    "id": "hUAW-2-4oLIK",
    "outputId": "96ef7625-0fce-4a28-d496-8386a8a1c1a5"
   },
   "outputs": [],
   "source": [
    "numeric_data.head()"
   ]
  },
  {
   "cell_type": "code",
   "execution_count": null,
   "metadata": {
    "colab": {},
    "colab_type": "code",
    "id": "LbukMSEmoLIM",
    "outputId": "8471bbf1-d818-43e9-87ba-c5ac2687e7b5"
   },
   "outputs": [],
   "source": [
    "cat_data.head()"
   ]
  },
  {
   "cell_type": "markdown",
   "metadata": {
    "colab_type": "text",
    "id": "jAPHYSRUoLIN"
   },
   "source": [
    "However, before applying Standardization, it is required that all the data needs to be imputed.\n",
    "\n",
    "So, let's first impute the missing values and then standardize the data.\n",
    "Also, after imputing let's check all the columns once.\n",
    "\n"
   ]
  },
  {
   "cell_type": "code",
   "execution_count": null,
   "metadata": {
    "colab": {},
    "colab_type": "code",
    "id": "RmoF7OTCoLIN",
    "outputId": "3d894447-e181-4bb9-b0eb-c2522506d071",
    "scrolled": true
   },
   "outputs": [],
   "source": [
    "# Imputing the missing values in numeric data to futher process it for standardization\n",
    "from sklearn.impute import SimpleImputer\n",
    "\n",
    "fill_Nan = SimpleImputer(missing_values=np.nan, strategy='median')\n",
    "imputed_DF = pd.DataFrame(fill_Nan.fit_transform(numeric_data))\n",
    "imputed_DF.columns = numeric_data.columns\n",
    "imputed_DF.index = numeric_data.index\n",
    "imputed_DF.info()"
   ]
  },
  {
   "cell_type": "markdown",
   "metadata": {
    "colab_type": "text",
    "id": "TuFrWbMkoLIQ"
   },
   "source": [
    "Let's check out some of the entries of the Imputed DataFrame and check if any of the features contain any null value.\n",
    "\n"
   ]
  },
  {
   "cell_type": "code",
   "execution_count": null,
   "metadata": {
    "colab": {},
    "colab_type": "code",
    "id": "tEV8JZO3oLIQ",
    "outputId": "c5daf5d2-7911-4900-e2e5-608bb6bd9c00"
   },
   "outputs": [],
   "source": [
    "imputed_DF.head()\n",
    "imputed_DF.isnull().values.any()"
   ]
  },
  {
   "cell_type": "markdown",
   "metadata": {
    "colab_type": "text",
    "id": "G5kqyAB1oLIS"
   },
   "source": [
    "Also, let's check out some of the columns in the data"
   ]
  },
  {
   "cell_type": "code",
   "execution_count": null,
   "metadata": {
    "colab": {},
    "colab_type": "code",
    "id": "MhsGMAF6oLIS",
    "outputId": "5c6b5ee1-01fc-4dd2-8a17-c29e1fb89ba5"
   },
   "outputs": [],
   "source": [
    "column_transform = numeric_data.columns\n",
    "column_transform"
   ]
  },
  {
   "cell_type": "markdown",
   "metadata": {
    "colab_type": "text",
    "id": "UYSWI8zxoLIZ"
   },
   "source": [
    "Now, that the missing values have been imputed, Jane asked John to move on to standardizing the data using scale() function in preprocessing module of sklearn library.\n",
    "\n",
    "Also, check out the standardized data.\n"
   ]
  },
  {
   "cell_type": "code",
   "execution_count": null,
   "metadata": {},
   "outputs": [],
   "source": [
    "imputed_DF.head()"
   ]
  },
  {
   "cell_type": "code",
   "execution_count": null,
   "metadata": {
    "colab": {},
    "colab_type": "code",
    "id": "F-c91Ky2oLIZ",
    "outputId": "e3573525-e35f-43db-d1e8-f095028fbe58"
   },
   "outputs": [],
   "source": [
    "from sklearn import preprocessing\n",
    "standardized_DF = preprocessing.scale(imputed_DF)\n",
    "pd.DataFrame(standardized_DF)"
   ]
  },
  {
   "cell_type": "markdown",
   "metadata": {
    "colab_type": "text",
    "id": "z3IKR4unoLIb"
   },
   "source": [
    "## Scaling\n",
    "***\n",
    "After observing the data, John realised that it wasn't a great idea to compare two entirely different things.\n",
    "\n",
    "For eg : It wouldn't be wise to compare GrLivArea(squarefoot) and YrSold(time) even though both are numerical features.\n",
    "\n",
    "\n",
    "When there are predictors with different units and ranges, the final model will have coefficients which are very small for some predictors and it makes it difficult to interpret.\n",
    "\n",
    "He needs to somehow **scale down everything in a range**, so that the model's prediction is not affected by the different units at all.\n",
    "\n",
    "**Scaling**\n",
    "\n",
    "An alternative standardization is scaling features to lie between a given minimum and maximum value, often between zero and one, or so that the maximum absolute value of each feature is scaled to unit size.\n",
    "\n",
    "Centering and Scaling will improve the numerical stability of some models\n",
    "\n",
    "But Standardization cannot be applied on categorical data, hence we split the categorical and numerical data in order to standardize the numerical data.\n",
    "\n"
   ]
  },
  {
   "cell_type": "code",
   "execution_count": null,
   "metadata": {},
   "outputs": [],
   "source": [
    "from sklearn.preprocessing import StandardScaler\n",
    "stand_scale= StandardScaler()\n",
    "\n",
    "stand_scale."
   ]
  },
  {
   "cell_type": "code",
   "execution_count": null,
   "metadata": {
    "colab": {},
    "colab_type": "code",
    "id": "qn_-ER-6oLIb",
    "outputId": "5e783d02-6a85-4c17-b145-80b38cde1f54"
   },
   "outputs": [],
   "source": [
    "# Standardizing numerical features\n",
    "from sklearn.preprocessing import StandardScaler\n",
    "stand_scale= StandardScaler()\n",
    "imputed_DF.loc[:, column_transform] = stand_scale.fit_transform(imputed_DF.loc[:, column_transform])\n",
    "imputed_DF.head()"
   ]
  },
  {
   "cell_type": "code",
   "execution_count": null,
   "metadata": {},
   "outputs": [],
   "source": [
    "1. instantiate a class\n",
    "2. Training set yo ---> fit the data, learning the parameters\n",
    "3. Training set you ---> transform the data\n",
    "4. Testing data set you ----> transform the data\n"
   ]
  },
  {
   "cell_type": "code",
   "execution_count": null,
   "metadata": {},
   "outputs": [],
   "source": [
    "100 records - training your model\n",
    "80 records (Train), 20 (Test)\n",
    "\n",
    "Zscore, Std = (X - mu)/sd\n",
    "Always compute ---> Training data set\n",
    "\n",
    "Imputation --> median, mean, mode ---> training set\n",
    "1. fit ---> computing the mu and sd of train\n",
    "2. transform --> training data set itself\n",
    "3. transform --> testing dataset"
   ]
  },
  {
   "cell_type": "code",
   "execution_count": null,
   "metadata": {},
   "outputs": [],
   "source": [
    "[1, 2, 3, 4, 5, 6, 7, 8, 9, 10]\n",
    "Norm, (X-Xmin)/(Xmax - Xmin)"
   ]
  },
  {
   "cell_type": "code",
   "execution_count": null,
   "metadata": {},
   "outputs": [],
   "source": [
    "fit_transform(train) --> mu1, sd1\n",
    "transform(test) ---> mu2, sd2"
   ]
  },
  {
   "cell_type": "code",
   "execution_count": null,
   "metadata": {},
   "outputs": [],
   "source": [
    "1. NonTransformed/Transformed\n",
    "2. Model1/Model2 (train set)\n",
    "\n",
    "Tested - Test dataset"
   ]
  },
  {
   "cell_type": "markdown",
   "metadata": {
    "colab_type": "text",
    "id": "9yZNCynAoLIf"
   },
   "source": [
    "### Algebraic Transformations\n",
    "***\n",
    "\n",
    "John is now thorough with Polynomial Features and dealing with skewness using log transformation and square root transformation.\n",
    "\n",
    "All of these, fall under **ALGEBRAIC TRANSFORMATIONS.**\n",
    "\n",
    "John has already observed that transforming a variable into another form drastically improves a model’s performance.\n",
    "\n",
    "Let's look at another example.\n",
    "\n",
    "Here, John plots the distribution plot and probablity plot for TotalBsmtSF. "
   ]
  },
  {
   "cell_type": "code",
   "execution_count": null,
   "metadata": {
    "colab": {},
    "colab_type": "code",
    "id": "uorfdGveoLIf",
    "outputId": "dc08c67c-3d1f-4d5f-f96c-68ae73b6b3ad"
   },
   "outputs": [],
   "source": [
    "#histogram and normal probability plot\n",
    "sns.distplot(df['TotalBsmtSF'], fit=norm);\n",
    "fig = plt.figure()\n",
    "res = stats.probplot(df['TotalBsmtSF'], plot=plt)"
   ]
  },
  {
   "cell_type": "markdown",
   "metadata": {
    "colab_type": "text",
    "id": "zHKT5gEooLIi"
   },
   "source": [
    "John faced a problem while looking through the observations of variable `TotalBsmtSF`\n",
    "\n",
    "- A significant number of observations with value zero (houses without basement) as evident by the horizontal section of the blue line.\n",
    "- A big problem because the value zero doesn't allow us to do log transformations.\n",
    "\n",
    "Jane to the rescue again!! She suggested to apply a sqrt transformation here, he will have to create a variable that can get the effect of having or not having basement (binary variable). \n",
    "\n",
    "John, then, did a log transformation to all the non-zero observations, ignoring those with value zero. This way one can transform data, without losing the effect of having or not basement.\n",
    "\n",
    "If the house has a basement then we add them to a different column, else ignore it.\n"
   ]
  },
  {
   "cell_type": "code",
   "execution_count": null,
   "metadata": {
    "colab": {},
    "colab_type": "code",
    "id": "3b91x1ZxoLIi",
    "outputId": "9e5d819e-21be-472d-b9d5-bbd58da8373d"
   },
   "outputs": [],
   "source": [
    "#create column for new variable \n",
    "#if area>0 it gets 1, for area==0 it gets 0\n",
    "\n",
    "df['NewBsmt'] = 0\n",
    "df.loc[df.TotalBsmtSF > 0, \"NewBsmt\"] = 1\n",
    "len(df.loc[df['NewBsmt'] == 1])"
   ]
  },
  {
   "cell_type": "markdown",
   "metadata": {
    "colab_type": "text",
    "id": "x-KJl-5_oLIl"
   },
   "source": [
    "Now, let's apply square root transform over this new column & then replot the histogram and probability plot for it."
   ]
  },
  {
   "cell_type": "code",
   "execution_count": null,
   "metadata": {
    "colab": {},
    "colab_type": "code",
    "id": "_SlmbRQ-oLIl",
    "outputId": "0cc1e3c4-5f77-4fad-e11e-0bd63272d28f"
   },
   "outputs": [],
   "source": [
    "# transform data\n",
    "df.loc[df.NewBsmt == 1,'TotalBsmtSF'] = np.sqrt(df['TotalBsmtSF'])\n",
    "\n",
    "# histogram and normal probability plot\n",
    "sns.distplot(df[df['TotalBsmtSF']>0]['TotalBsmtSF'], fit=norm);\n",
    "fig = plt.figure()\n",
    "res = stats.probplot(df[df['TotalBsmtSF']>0]['TotalBsmtSF'], plot=plt)"
   ]
  },
  {
   "cell_type": "markdown",
   "metadata": {
    "colab_type": "text",
    "id": "ZTJZ6BhNoLIn"
   },
   "source": [
    "So, far we have covered log and sqrt tranformations,\n",
    "Here are a few more useful transforms:\n",
    "\n",
    "- Exponential Transform\n",
    "- Tanh Transform\n",
    "- Polynomial Transform\n"
   ]
  },
  {
   "cell_type": "markdown",
   "metadata": {
    "colab_type": "text",
    "id": "XdFBJm-GoLIn"
   },
   "source": [
    "# Feature Engineering\n",
    "***\n",
    "\n",
    "John was now observing the data more better then ever. After a few minutes of skimming through the data, he observed that there were few insignificant columns present in the data.\n",
    "\n",
    "For eg; the following features conveyed the same thing :\n",
    "- BsmtFullBath\n",
    "- FullBath\n",
    "- HalfBath\n",
    "\n",
    "So, it would be wise to combine all these features together into a single column, just to save some time and space.\n",
    "\n",
    "Unknowingly, partly what John was doing and now, what he's thinking to do is nothing but **FEATURE ENGINEERING.**\n",
    "\n",
    "Seems, like few things start becoming obvious with time."
   ]
  },
  {
   "cell_type": "code",
   "execution_count": null,
   "metadata": {},
   "outputs": [],
   "source": [
    "Maths and Stats"
   ]
  },
  {
   "cell_type": "code",
   "execution_count": null,
   "metadata": {},
   "outputs": [],
   "source": [
    "1. Simple Features/Over the counter - From date, Percentages, Relative Features, \n",
    "2. KPIs - function(raw input features) e.g. popularity of movie given the ratings\n",
    "    Maths and Stats\n",
    "3. Domain Specific features, "
   ]
  },
  {
   "cell_type": "code",
   "execution_count": null,
   "metadata": {},
   "outputs": [],
   "source": [
    "RawDate,        Year, Month,   Day, DOW,  Quarter, LeapYr, Season, WeekNo, Weekend, \n",
    "2020-09-06,  2020, 09/sept, 06,  Sun,   2,       1, \n",
    "\n",
    "Website\n",
    "Session, Views, Clicks, Purchases, \n",
    "bouncerate\n",
    "CTR = Clicks/Views\n",
    "Avg_CTR = mean(CTR)\n",
    "Diff_from_mean = CTR - Avg_CTR ) (Positve CTR session)\n",
    "Purchase_Conversion = Purchases/Views\n",
    "\n",
    "Relative Features\n",
    "StockPrice\n",
    "Date, AXIS_Bank, Rollin_N_day_change, Perc_Rollin_N_day_change\n",
    "1,   550, 0\n",
    "2,   500, -50\n",
    "3,   450, \n",
    "4,   400\n",
    "5\n",
    "\n",
    "Zomato, \n",
    "Ranking ---> Relevancy Ranking\n"
   ]
  },
  {
   "cell_type": "code",
   "execution_count": null,
   "metadata": {},
   "outputs": [],
   "source": [
    "500+ feature Pool\n",
    "35-40 raw features set - Domain choice of features\n",
    "    1. EDA\n",
    "7 KPIs - Combination type and type2\n",
    "\n",
    "\n",
    "Stack of models\n",
    "Final Model"
   ]
  },
  {
   "cell_type": "code",
   "execution_count": null,
   "metadata": {},
   "outputs": [],
   "source": [
    "Predictions\n",
    "How wrong you can go wrong\n",
    "Logistic space - Manpower forecasting\n",
    "100 (90, 110)\n",
    "(70, 130)\n",
    "60\n",
    "\n",
    "10 ppl\n",
    "each indiv - 10 couriers ---> max 13, 70 "
   ]
  },
  {
   "cell_type": "code",
   "execution_count": null,
   "metadata": {},
   "outputs": [],
   "source": [
    "\n",
    "99 numeric, 1 Categorical\n",
    "100 Categories\n",
    "\n",
    "OHE\n",
    "99 + 100 = ~200 Columns\n"
   ]
  },
  {
   "cell_type": "markdown",
   "metadata": {
    "colab_type": "text",
    "id": "AtdxaN2XoLIn"
   },
   "source": [
    "## So, what is feature engineering?\n",
    "***\n",
    "\n",
    "Feature engineering is the process of using domain knowledge of the data to create features that make machine learning algorithms work. Feature engineering is fundamental to the application of machine learning, and is both difficult and expensive. \n",
    "\n",
    "Coming up with features is difficult, time-consuming, requires expert knowledge. \"Applied machine learning\" is basically feature engineering. (Andrew Ng)\n",
    "... some machine learning projects succeed and some fail. \n",
    "\n",
    "\n"
   ]
  },
  {
   "cell_type": "markdown",
   "metadata": {
    "colab_type": "text",
    "id": "-BJGN3vMoLIn"
   },
   "source": [
    "**What makes the difference?**\n",
    "\n",
    "Easily the most important factor is the features used. (Pedro Domingos)\n",
    "\n",
    "Feature Engineering: The art of coming up with new features with more predictive power using\n",
    "\n",
    "- experience\n",
    "- domain expertise\n",
    "- empirical processes\n",
    "\n"
   ]
  },
  {
   "cell_type": "markdown",
   "metadata": {
    "colab_type": "text",
    "id": "DBU90uUxoLIo"
   },
   "source": [
    "Most important techniques in feature engineering\n",
    "\n",
    "- Applying Domain Expertise\n",
    "- Combining Feature\n",
    "- Encoding of categorical variables\n",
    "- Time series feature extraction\n",
    "- NLP feature extraction\n",
    "\n"
   ]
  },
  {
   "cell_type": "markdown",
   "metadata": {
    "colab_type": "text",
    "id": "e9zK-bweoLIo"
   },
   "source": [
    "### Applying Domain Expertise\n",
    "***\n",
    "Domain expertise or domain knowledge is nothing but expertise in a particular field , and when I say field it can mean anything like field of Education, Healthcare, Consumer Goods, Retail and the list is endless. \n",
    "A domain expert is someone who is not related to the technology aspect but has indepth knowledge about the particular industry, how is it shaping up, the trends, what are the things that will impact the industry.\n",
    "\n",
    "For example, if you are called into develop a particular application for a consumer goods company and specifically a Apparel & Footwear company.\n",
    "The application that you build has to be that compliments the industry and the various facets of it, and you as a technology guy wouldnt know it, this is where a domain expert will come in and explain how that industry works and what would be the best way to have the application built."
   ]
  },
  {
   "cell_type": "markdown",
   "metadata": {
    "colab_type": "text",
    "id": "uvhWL-aaoLIo"
   },
   "source": [
    "### Combining Feature\n",
    "***\n",
    "This is one of the crucial part of feature engineering which involves going through the data set variable and understanding the variable(s) and hence combining one or more features to create and new features. This involves some what on intutive decision making and little bit research about the domain of the data set.\n",
    "\n",
    "This Step basically is used in order to hike the performance of the model which is fitted on the data.\n",
    "\n",
    "So, let's combine 4 different features `BsmtFullBath`, `BsmtHalfBath`, `FullBath`, `HalfBath` into a single feature `TotalBath`.\n",
    "\n",
    "Below, we have added all these 4 features in different proportions, to combine them."
   ]
  },
  {
   "cell_type": "code",
   "execution_count": null,
   "metadata": {
    "colab": {},
    "colab_type": "code",
    "id": "suU8RcuIoLIp"
   },
   "outputs": [],
   "source": [
    "# Create new features by combining the existing features\n",
    "\n",
    "# Overall pool score\n",
    "df[\"PoolScore\"] = df[\"PoolArea\"] * df[\"PoolQC\"]\n",
    "\n",
    "# Total number of bathrooms\n",
    "df[\"TotalBath\"] = df[\"BsmtFullBath\"] + (0.5 * df[\"BsmtHalfBath\"]) + df[\"FullBath\"] + (0.5 * df[\"HalfBath\"])"
   ]
  },
  {
   "cell_type": "markdown",
   "metadata": {
    "colab_type": "text",
    "id": "27W4pAk9oLIq"
   },
   "source": [
    "### Encoding of categorical variables\n",
    "***\n",
    "So far John had been focusing much on numerical features. \n",
    "He observed that few columns such as ``, `` contain `string` values.\n",
    "\n",
    "Well, what about it?\n",
    "It wouldn't matter much, he thought.\n",
    "But oh boy, was he in for a surprise?\n",
    "\n",
    "We had learned **Numpy** remember?\n",
    "Numpy functions work well only with numbers, however when worked with formats other then `int` or `float`, would either give us gibberish result or would give us errors.\n",
    "\n",
    "So, John now had to convert these categorical features into numbers or vectors or something similar.\n",
    "How do I do that?\n",
    "\n",
    "After struggling for a while, he found the solution.\n",
    "He can do Encoding i.e. encode the string into numbers.\n",
    "\n",
    "Luckily, sklearn provides us functions to do this work.\n",
    "\n",
    "Let's Label Encode the `MSZoning` column to numerical features.\n",
    "Currently this column contains values 'RF', 'RL' and other values. We will change it with numbers\\vectors.\n",
    "\n"
   ]
  },
  {
   "cell_type": "markdown",
   "metadata": {
    "colab_type": "text",
    "id": "zdXraNM3oLIq"
   },
   "source": [
    "## What is Encoding?\n",
    "***\n",
    "Most algorithms we use work with numerical values whereas more often than not categorical data are in text/string (male, female) or bin (0-4, 4-8 etc.) form.\n",
    "\n",
    "One option is to leave these variables out of the algorithms and use only numeric data. But in doing so we can lose out on some critical information.\n",
    "\n",
    "Hence, it is generally a good idea to include the categorical variables into your algorithms by encoding them to convert to numeric values\n",
    "But, first let's learn a thing or two about our categorical variables.\n",
    "\n",
    "Encoding a categorical variable is to categorize them into numerical features.\n"
   ]
  },
  {
   "cell_type": "markdown",
   "metadata": {
    "colab_type": "text",
    "id": "zpP0rFyQoLIr"
   },
   "source": [
    "### Label Encoding\n",
    "***\n",
    "Since different kinds of categorical variables capture different amount of information, we need different techniques to encode them.\n",
    "\n",
    "Label Encoding: Each category is given one label e.g. 0, 1, 2 etc.\n",
    "\n",
    "Label encoding is a handy technique to encode categorical variables. However, such encoded nominal variables might end up in being misinterpreted as ordinal.\n",
    "\n",
    "However, nonlinear models like decision trees can handle such encoding\n",
    "\n",
    "Let's apply Label Encoding on all the categorical features in our dataset. \n",
    "\n"
   ]
  },
  {
   "cell_type": "code",
   "execution_count": null,
   "metadata": {
    "colab": {},
    "colab_type": "code",
    "id": "cN6dvkdpoLIr"
   },
   "outputs": [],
   "source": [
    "from sklearn.preprocessing import LabelEncoder\n",
    "\n",
    "#Auto encodes any dataframe column of type category or object.\n",
    "\n",
    "def dummyEncode(df):\n",
    "        columnsToEncode = list(df.select_dtypes(include=['category','object']))\n",
    "        le = LabelEncoder()\n",
    "        for feature in columnsToEncode:\n",
    "            try:\n",
    "                df[feature] = le.fit_transform(df[feature])\n",
    "            except:\n",
    "                print('Error encoding '+feature)\n",
    "        return df\n",
    "    "
   ]
  },
  {
   "cell_type": "markdown",
   "metadata": {
    "colab_type": "text",
    "id": "8rJwRtNToLIu"
   },
   "source": [
    "### Categorical Dataset"
   ]
  },
  {
   "cell_type": "code",
   "execution_count": null,
   "metadata": {
    "colab": {},
    "colab_type": "code",
    "id": "2WJQ6IPboLIu",
    "outputId": "23a68761-6acb-424c-8d64-e2356ef82494"
   },
   "outputs": [],
   "source": [
    "dummyEncode(cat_data)\n",
    "cat_data.head()"
   ]
  },
  {
   "cell_type": "markdown",
   "metadata": {
    "colab_type": "text",
    "id": "vAGUdb6noLIx"
   },
   "source": [
    "Let's try Label Encoding explicitly on the 'MSZoning' column.\n",
    "\n"
   ]
  },
  {
   "cell_type": "code",
   "execution_count": null,
   "metadata": {},
   "outputs": [],
   "source": [
    "df = pd.read_csv('../data/train.csv',index_col=0)"
   ]
  },
  {
   "cell_type": "code",
   "execution_count": null,
   "metadata": {},
   "outputs": [],
   "source": [
    "df['MSZoning'].unique()\n",
    "df['MSZoning'].head()"
   ]
  },
  {
   "cell_type": "code",
   "execution_count": null,
   "metadata": {
    "colab": {},
    "colab_type": "code",
    "id": "5TB-jW-doLIx",
    "outputId": "8690f802-1eeb-4a5d-c84b-630f04d0aff4",
    "scrolled": false
   },
   "outputs": [],
   "source": [
    "from sklearn.preprocessing import LabelEncoder\n",
    "lablel_encoder = LabelEncoder()\n",
    "df['MSZoning'] = lablel_encoder.fit_transform(df['MSZoning'])\n",
    "df['MSZoning']"
   ]
  },
  {
   "cell_type": "code",
   "execution_count": null,
   "metadata": {},
   "outputs": [],
   "source": [
    "lablel_encoder.classes_"
   ]
  },
  {
   "cell_type": "code",
   "execution_count": null,
   "metadata": {},
   "outputs": [],
   "source": [
    "df['MSZoning'].value_counts()"
   ]
  },
  {
   "cell_type": "markdown",
   "metadata": {
    "colab_type": "text",
    "id": "i8xquj5poLIy"
   },
   "source": [
    "As evident, now the column `MSZoning` only contains numerical values, rather then String.\n",
    "\n",
    "**Encoding can be performed on the following type of variables : **"
   ]
  },
  {
   "cell_type": "markdown",
   "metadata": {
    "colab_type": "text",
    "id": "JpS7xGLVoLIz"
   },
   "source": [
    "#### NOMINAL VARIABLES\n",
    "***\n",
    "Consider following three categorical variables and their values\n",
    "\n",
    "**Colour**: Blue, Green, Red, Yellow\n",
    "\n",
    "**Educational Qualification**: Primary School, Secondary School, Graduate, Post-Graduate, Phd.\n",
    "\n",
    "**Salary Bracket**: 0-50,000, 50,001-100,000, 100,001-150,000, 150,001-200,000\n",
    "\n",
    "Although all three of them are categorical variables, they are different in the amount of information they convey. \n",
    "Let's look at them one by one.\n",
    "\n",
    "Colour conveys blue is different from red. That's all. The value of the variable is not meant to capture any relative difference among the values. Such variables are called `Nominal Variables`."
   ]
  },
  {
   "cell_type": "markdown",
   "metadata": {
    "colab_type": "text",
    "id": "RokoTdfaoLIz"
   },
   "source": [
    "#### ORDINAL VARIABLES\n",
    "***\n",
    "Now consider educational qualification.\n",
    "\n",
    "The value \"graduate\" does not only conveys that it is different from value say \"Primary school\", it also implies that it is more in terms of qualification than \"Primary School\". \n",
    "\n",
    "Such variables are called `Ordinal Variables` because they convey a sense of order.\n",
    "\n",
    "In our example, Primary School < Secondary School < Graduate < Post-Graduate < Phd. (in terms of qualification)\n",
    "\n"
   ]
  },
  {
   "cell_type": "markdown",
   "metadata": {
    "colab_type": "text",
    "id": "QrFTyFSRoLI0"
   },
   "source": [
    "#### INTERVAL VARIABLES\n",
    "***\n",
    "The third variable, salary bracket is similar to educational qualification by conveying order (a person earning 50,001-100,000 earns more salary than 0-50,000). \n",
    "\n",
    "However, here, apart from knowing the order, we also know the interval between the values. \n",
    "\n",
    "Here we can say that the averages of each of the values are separated by 50,000. Such variables are called `Interval variables`.\n",
    "\n",
    "There are two types of broadly used algorithm which performs the task of encoding of variables.\n",
    "\n",
    "Let's have a look at these algorithms.\n"
   ]
  },
  {
   "cell_type": "markdown",
   "metadata": {
    "colab_type": "text",
    "id": "Sn9PqZBAoLI0"
   },
   "source": [
    "## One hot encoding\n",
    "***\n",
    "After studying Label Encoding, John wondered what would happen if the Categories contained more then one string values.\n",
    "For eg; instead of `RL`, `ML` as values for the `MSZoning`, it contained `RL+AB` and `ML+CD` or something similar?\n",
    "He wondered, whether he could have been able to apply the Label Encoding then.\n",
    "\n",
    "Out of curiousity, he started browsing over the internet, and within few clicks of Google Search.\n",
    "The answer turned out to be **One Hot Encoding**\n",
    "\n"
   ]
  },
  {
   "cell_type": "markdown",
   "metadata": {
    "colab_type": "text",
    "id": "LFf-EziioLI0"
   },
   "source": [
    "## What is One Hot Encoding?\n",
    "***\n",
    "A dataset with more dimensions requires more parameters for the model to understand, and that means more rows to reliably learn those parameters.\n",
    "\n",
    "The effect of using One Hot Encoder is addition of a number of columns (dimensions).\n",
    "\n",
    "If the number of rows in the dataset is fixed, addition of extra dimensions without adding more information for the models to learn from can have a detrimental effect on the eventual model accuracy.\n",
    "One way to deal with this `curse of dimensionality` is using hashing techniques.\n",
    "\n",
    "<img src = \"../images/screenshot-docs.google.com-2017-09-27-10-58-21-457.png\" >\n",
    "\n",
    "\n"
   ]
  },
  {
   "cell_type": "code",
   "execution_count": null,
   "metadata": {
    "colab": {},
    "colab_type": "code",
    "id": "UkBTADHfoLI0",
    "outputId": "e943101e-63be-4e7e-f703-11ac0a443d5e",
    "scrolled": true
   },
   "outputs": [],
   "source": [
    "pd.get_dummies(cat_data, drop_first=True) #one hot encoding"
   ]
  },
  {
   "cell_type": "code",
   "execution_count": null,
   "metadata": {
    "scrolled": true
   },
   "outputs": [],
   "source": [
    "pd.get_dummies(df['MSZoning'], drop_first=True) #one hot encoding"
   ]
  },
  {
   "cell_type": "code",
   "execution_count": null,
   "metadata": {},
   "outputs": [],
   "source": [
    "3 categories - R, B, Y\n",
    "    R B Y\n",
    "R   1 0 0\n",
    "R   1 0 0\n",
    "B   0 1 0\n",
    "Y   0 0 1\n",
    "Y\n",
    "\n",
    "N-1 Categoires"
   ]
  },
  {
   "cell_type": "markdown",
   "metadata": {
    "colab_type": "text",
    "id": "-uDWmNK-oLI2"
   },
   "source": [
    "### In Class Activity:"
   ]
  },
  {
   "cell_type": "markdown",
   "metadata": {
    "colab_type": "text",
    "collapsed": true,
    "id": "yQkioTvioLI2"
   },
   "source": [
    "## Automobile Dataset\n",
    "\n",
    "### Problem Statement :\n",
    "\n",
    "This dataset consist of data From 1985 Ward's Automotive Yearbook. It consists of three types of entities:\n",
    "- The specification of an auto in terms of various characteristics\n",
    "- Its assigned insurance risk rating \n",
    "- Its normalized losses in use as compared to other cars.\n",
    "\n",
    "\n",
    "\n",
    "### About the DataSet :\n",
    "\n",
    "Below are the features in the dataset and their description\n",
    "\n",
    "|Features|Description|\n",
    "|-----|-----|\n",
    "|symboling|It is a risk factor symbol associated to the price & corresponds to the degree to which an automobile is more risky than its price indicates. +3 indicates risky, -3 indicates safety|\n",
    "|make|Indicates the maker or manufacturer of the automobile|\n",
    "|fuel-type|Indicates the type of fuel - diesel or gas|\n",
    "|body-style|Indicates whether the body shape of automobile is a hardtop, wagon, sedan, hatchback or convertible|\n",
    "|drive-wheels|Indicates the configuration of drive wheels for the automobile|\n",
    "|wheel-base|It is the distance between the centers of the front wheel and the rear wheel. It is continuous ranging from 86.6 120.9|\n",
    "|length|Indicates length of the automobile and ranges from 141.1 to 208.1.|\n",
    "|width|Indicates width of the automobile and ranges from 60.3 to 72.3|\n",
    "|height|Indicates the width of the automobile and ranges 47.8 to 59.8|\n",
    "|horsepower|Maximum horsepower the automobile engine can output and ranges from 48 to 288|\n",
    "|peak-rpm|RPM is a way to measure how many times per minute components in the engine rotate. It ranges from 4150 to 6600|\n",
    "|highway-mpg|Indicates the miles per galon typically consumed at highways. It is continuous from 4150 to 6600|\n",
    "|city-mpg|Indicates the miles per galon typically consumed at cities. It is continuous from 13 to 49|\n",
    "|price|Indicates the price of the automobile and ranges from 5118 to 45400|\n",
    "|normalized-losses|It is a continuous variable ranging from 65 to 256|\n",
    "|engine-location|Indicates the location of the engine - front or rear|\n",
    "|engine-type|Indicates the type of engine.|\n",
    "|engine-size|It is continuous from 61 to 326|\n"
   ]
  },
  {
   "cell_type": "markdown",
   "metadata": {
    "colab_type": "text",
    "id": "RPtEKtmhoLI2"
   },
   "source": [
    "### Load and understand your data\n",
    "- The data consists of 205 instances and 14 features"
   ]
  },
  {
   "cell_type": "code",
   "execution_count": 12,
   "metadata": {},
   "outputs": [],
   "source": [
    "from sklearn.preprocessing import LabelEncoder\n"
   ]
  },
  {
   "cell_type": "code",
   "execution_count": null,
   "metadata": {
    "colab": {},
    "colab_type": "code",
    "id": "Kt38wJgwoLI2",
    "outputId": "f93e1eca-4c42-4897-f7e8-e10c2c14b8f5",
    "scrolled": true
   },
   "outputs": [],
   "source": [
    "df = pd.read_csv('../data/Automobile_data.csv')\n",
    "df.shape\n",
    "df.head()"
   ]
  },
  {
   "cell_type": "markdown",
   "metadata": {
    "colab_type": "text",
    "id": "gtUCJzRzoLI4"
   },
   "source": [
    "### Check the number of null values in each column get a general description of your data"
   ]
  },
  {
   "cell_type": "code",
   "execution_count": null,
   "metadata": {},
   "outputs": [],
   "source": [
    "df.info()"
   ]
  },
  {
   "cell_type": "code",
   "execution_count": null,
   "metadata": {
    "colab": {},
    "colab_type": "code",
    "id": "uDiAJAfioLI4",
    "outputId": "83ef322c-3b10-4dd4-9ae0-1183517236dd",
    "scrolled": true
   },
   "outputs": [],
   "source": [
    "df.describe([0.25, 0.75, 0.9])"
   ]
  },
  {
   "cell_type": "markdown",
   "metadata": {
    "colab_type": "text",
    "id": "qPg9vd6KoLI5"
   },
   "source": [
    "####  What insights do you get from the data?\n",
    "\n",
    "- There are no null values in each column.\n",
    "- The `.describe()` function outputs 8 numbers for each column in the dataset. \n",
    "    - The first value 'count' shows how many rows have non-missing values\n",
    "    - The second value is the mean, which is the average. \n",
    "    - std is the standard deviation, which measures how numerically spread out the values are.\n",
    "    - For all the below values the data should be arranged in ascending order first.\n",
    "        - min and max represent the minimum and maximum values in that column\n",
    "        - The value 50% represents the median in every column.\n",
    "        - 25% represents the value which lies above the 25% of the values in the data.\n",
    "        - 75% represents the value which lies above the 75% of the values in the data."
   ]
  },
  {
   "cell_type": "markdown",
   "metadata": {
    "colab_type": "text",
    "id": "q9x7poJboLI5"
   },
   "source": [
    "### Plot a histogram showing the distribution of the car prices (target variable) and if any skewness, print the value of skewness"
   ]
  },
  {
   "cell_type": "code",
   "execution_count": null,
   "metadata": {
    "colab": {},
    "colab_type": "code",
    "id": "g5qGULU1oLI5",
    "outputId": "4e6bf14d-15d2-46f0-db61-6dd5ae6d0704"
   },
   "outputs": [],
   "source": [
    "sns.distplot(df['price'],kde=True);"
   ]
  },
  {
   "cell_type": "markdown",
   "metadata": {
    "colab_type": "text",
    "id": "n9VjX-iNoLI6"
   },
   "source": [
    "#### Is there a skewness?\n",
    "- There exists a skewness towards the right."
   ]
  },
  {
   "cell_type": "code",
   "execution_count": null,
   "metadata": {
    "colab": {},
    "colab_type": "code",
    "id": "QMrOThl1oLI7",
    "outputId": "93493dcc-ba6b-41b2-87f3-365cb0220cf3"
   },
   "outputs": [],
   "source": [
    "df['price'].skew()"
   ]
  },
  {
   "cell_type": "markdown",
   "metadata": {
    "colab_type": "text",
    "id": "7ioOybptoLI8"
   },
   "source": [
    "### Plot the pearson correlation of all the features in a heatmap."
   ]
  },
  {
   "cell_type": "code",
   "execution_count": null,
   "metadata": {
    "colab": {},
    "colab_type": "code",
    "id": "zcO7pCBFoLI8",
    "outputId": "13181731-3611-4580-c397-feaa69689683",
    "scrolled": true
   },
   "outputs": [],
   "source": [
    "plt.figure(figsize=(12,5));\n",
    "sns.heatmap(df.corr(), cmap='viridis',annot=True, fmt='.2f', annot_kws = {\"weight\":\"bold\"});"
   ]
  },
  {
   "cell_type": "code",
   "execution_count": null,
   "metadata": {},
   "outputs": [],
   "source": [
    "Splendour (100cc, 50k, 100km) vs hayabusa (1000cc, 50L, 10Km)"
   ]
  },
  {
   "cell_type": "markdown",
   "metadata": {
    "colab_type": "text",
    "id": "EpJqphbqoLI-"
   },
   "source": [
    "The pearson correlation coefficients calculated above are only for continuous features. The color table index next to the heatmap shows the varying levels of correlation.\n",
    "\n",
    "A high negative correlation is denoted by darker shades and features having a high positive correlation are indicated by lighter shades\n",
    "\n",
    "**Insights: There are some good inferences we can take it from the correlation heat map.**\n",
    "\n",
    "- Wheel base is highly correlated with length and width of the car."
   ]
  },
  {
   "cell_type": "markdown",
   "metadata": {
    "colab_type": "text",
    "id": "U-R2APsfoLI-"
   },
   "source": [
    "### Plot a boxplot that shows the variability of each 'body-style' with respect to the 'price'."
   ]
  },
  {
   "cell_type": "code",
   "execution_count": null,
   "metadata": {
    "colab": {},
    "colab_type": "code",
    "id": "BQxly5FGoLI-",
    "outputId": "e7710135-2051-4cca-ca52-25de8c679d27"
   },
   "outputs": [],
   "source": [
    "plt.figure(figsize=(12,6))\n",
    "plt.xticks(rotation = 0);\n",
    "sns.boxplot('body-style', 'price', data=df);"
   ]
  },
  {
   "cell_type": "markdown",
   "metadata": {
    "colab_type": "text",
    "id": "gG_aNAk9oLJA"
   },
   "source": [
    "#### Does any body-style has Outliers?\n",
    "\n",
    "- The four boxes for every body type represent the interquartile ranges for each of them and the lines within every box represent the median.\n",
    "- The dotted points for hatchback, sedan and wagon are outliers."
   ]
  },
  {
   "cell_type": "markdown",
   "metadata": {
    "colab_type": "text",
    "id": "pS2iD1F2oLJA"
   },
   "source": [
    "### Plot a boxplot showing the variablity in the 'price' for each 'make' of the car "
   ]
  },
  {
   "cell_type": "code",
   "execution_count": null,
   "metadata": {
    "colab": {},
    "colab_type": "code",
    "id": "_3FKknZRoLJA",
    "outputId": "9c88664c-7256-4020-dcdc-ab37ffde4ea5"
   },
   "outputs": [],
   "source": [
    "plt.rcParams['figure.figsize']=(25,15);\n",
    "sns.boxplot('make','price',data=df);"
   ]
  },
  {
   "cell_type": "code",
   "execution_count": null,
   "metadata": {},
   "outputs": [],
   "source": [
    "Customer Segmentation"
   ]
  },
  {
   "cell_type": "markdown",
   "metadata": {
    "colab_type": "text",
    "id": "i8LYotkhoLJD"
   },
   "source": [
    "- What are the insights you get from this plot?\n",
    "   \n",
    "    - The premium cars costing more than 20000 are BMW, Jaguar, Mercedes benz and Porsche\n",
    "    - The most expensive car is manufactured by Mercedes benz and the least expensive is Chevrolet\n",
    "    - Rest of the cars are in the midrange between 10000 and 20000 which has the highest number of cars\n",
    "    - Less expensive cars costing less than 10000 are Chevrolet, Dodge, Honda, Mitsubishi, Plymoth and Subaru"
   ]
  },
  {
   "cell_type": "markdown",
   "metadata": {
    "colab_type": "text",
    "id": "q2_s3rPooLJE"
   },
   "source": [
    "## Data Preprocessing for the Automobile dataset"
   ]
  },
  {
   "cell_type": "code",
   "execution_count": 15,
   "metadata": {
    "colab": {},
    "colab_type": "code",
    "id": "Rdv12G_JoLJE",
    "outputId": "06bc2328-d4fe-49b4-e5bb-8ff907454541"
   },
   "outputs": [
    {
     "data": {
      "text/plain": [
       "(205, 15)"
      ]
     },
     "execution_count": 15,
     "metadata": {},
     "output_type": "execute_result"
    },
    {
     "data": {
      "text/html": [
       "<div>\n",
       "<style scoped>\n",
       "    .dataframe tbody tr th:only-of-type {\n",
       "        vertical-align: middle;\n",
       "    }\n",
       "\n",
       "    .dataframe tbody tr th {\n",
       "        vertical-align: top;\n",
       "    }\n",
       "\n",
       "    .dataframe thead th {\n",
       "        text-align: right;\n",
       "    }\n",
       "</style>\n",
       "<table border=\"1\" class=\"dataframe\">\n",
       "  <thead>\n",
       "    <tr style=\"text-align: right;\">\n",
       "      <th></th>\n",
       "      <th>symboling</th>\n",
       "      <th>normalized-losses</th>\n",
       "      <th>make</th>\n",
       "      <th>fuel-type</th>\n",
       "      <th>body-style</th>\n",
       "      <th>drive-wheels</th>\n",
       "      <th>engine-location</th>\n",
       "      <th>width</th>\n",
       "      <th>height</th>\n",
       "      <th>engine-type</th>\n",
       "      <th>engine-size</th>\n",
       "      <th>horsepower</th>\n",
       "      <th>city-mpg</th>\n",
       "      <th>highway-mpg</th>\n",
       "      <th>price</th>\n",
       "    </tr>\n",
       "  </thead>\n",
       "  <tbody>\n",
       "    <tr>\n",
       "      <td>0</td>\n",
       "      <td>3</td>\n",
       "      <td>?</td>\n",
       "      <td>alfa-romero</td>\n",
       "      <td>gas</td>\n",
       "      <td>convertible</td>\n",
       "      <td>rwd</td>\n",
       "      <td>front</td>\n",
       "      <td>64.1</td>\n",
       "      <td>48.8</td>\n",
       "      <td>dohc</td>\n",
       "      <td>130</td>\n",
       "      <td>111</td>\n",
       "      <td>21</td>\n",
       "      <td>27</td>\n",
       "      <td>13495</td>\n",
       "    </tr>\n",
       "    <tr>\n",
       "      <td>1</td>\n",
       "      <td>3</td>\n",
       "      <td>?</td>\n",
       "      <td>alfa-romero</td>\n",
       "      <td>gas</td>\n",
       "      <td>convertible</td>\n",
       "      <td>rwd</td>\n",
       "      <td>front</td>\n",
       "      <td>64.1</td>\n",
       "      <td>48.8</td>\n",
       "      <td>dohc</td>\n",
       "      <td>130</td>\n",
       "      <td>111</td>\n",
       "      <td>21</td>\n",
       "      <td>27</td>\n",
       "      <td>16500</td>\n",
       "    </tr>\n",
       "    <tr>\n",
       "      <td>2</td>\n",
       "      <td>1</td>\n",
       "      <td>?</td>\n",
       "      <td>alfa-romero</td>\n",
       "      <td>gas</td>\n",
       "      <td>hatchback</td>\n",
       "      <td>rwd</td>\n",
       "      <td>front</td>\n",
       "      <td>65.5</td>\n",
       "      <td>52.4</td>\n",
       "      <td>ohcv</td>\n",
       "      <td>152</td>\n",
       "      <td>154</td>\n",
       "      <td>19</td>\n",
       "      <td>26</td>\n",
       "      <td>16500</td>\n",
       "    </tr>\n",
       "    <tr>\n",
       "      <td>3</td>\n",
       "      <td>2</td>\n",
       "      <td>164</td>\n",
       "      <td>audi</td>\n",
       "      <td>gas</td>\n",
       "      <td>sedan</td>\n",
       "      <td>fwd</td>\n",
       "      <td>front</td>\n",
       "      <td>66.2</td>\n",
       "      <td>54.3</td>\n",
       "      <td>ohc</td>\n",
       "      <td>109</td>\n",
       "      <td>102</td>\n",
       "      <td>24</td>\n",
       "      <td>30</td>\n",
       "      <td>13950</td>\n",
       "    </tr>\n",
       "    <tr>\n",
       "      <td>4</td>\n",
       "      <td>2</td>\n",
       "      <td>164</td>\n",
       "      <td>audi</td>\n",
       "      <td>gas</td>\n",
       "      <td>sedan</td>\n",
       "      <td>4wd</td>\n",
       "      <td>front</td>\n",
       "      <td>66.4</td>\n",
       "      <td>54.3</td>\n",
       "      <td>ohc</td>\n",
       "      <td>136</td>\n",
       "      <td>115</td>\n",
       "      <td>18</td>\n",
       "      <td>22</td>\n",
       "      <td>17450</td>\n",
       "    </tr>\n",
       "  </tbody>\n",
       "</table>\n",
       "</div>"
      ],
      "text/plain": [
       "   symboling normalized-losses         make fuel-type   body-style  \\\n",
       "0          3                 ?  alfa-romero       gas  convertible   \n",
       "1          3                 ?  alfa-romero       gas  convertible   \n",
       "2          1                 ?  alfa-romero       gas    hatchback   \n",
       "3          2               164         audi       gas        sedan   \n",
       "4          2               164         audi       gas        sedan   \n",
       "\n",
       "  drive-wheels engine-location  width  height engine-type  engine-size  \\\n",
       "0          rwd           front   64.1    48.8        dohc          130   \n",
       "1          rwd           front   64.1    48.8        dohc          130   \n",
       "2          rwd           front   65.5    52.4        ohcv          152   \n",
       "3          fwd           front   66.2    54.3         ohc          109   \n",
       "4          4wd           front   66.4    54.3         ohc          136   \n",
       "\n",
       "  horsepower  city-mpg  highway-mpg  price  \n",
       "0        111        21           27  13495  \n",
       "1        111        21           27  16500  \n",
       "2        154        19           26  16500  \n",
       "3        102        24           30  13950  \n",
       "4        115        18           22  17450  "
      ]
     },
     "execution_count": 15,
     "metadata": {},
     "output_type": "execute_result"
    }
   ],
   "source": [
    "automobile = pd.read_csv('../data/Automobile_data.csv')\n",
    "automobile.shape\n",
    "automobile.head()\n",
    "#y = automobile[[\"price\"]]\n",
    "#automobile.drop(\"price\",1,inplace=True)"
   ]
  },
  {
   "cell_type": "markdown",
   "metadata": {
    "colab_type": "text",
    "id": "LFSIybyUoLJG"
   },
   "source": [
    "### Find out number of records having '?' value for normalized losses"
   ]
  },
  {
   "cell_type": "code",
   "execution_count": null,
   "metadata": {
    "colab": {},
    "colab_type": "code",
    "id": "spGnrT27oLJG",
    "outputId": "3d9723f3-afdb-4548-d4b1-256347ff9624"
   },
   "outputs": [],
   "source": [
    "# Number of records having '?' value\n",
    "automobile['normalized-losses'].loc[automobile['normalized-losses'] == '?'].count()"
   ]
  },
  {
   "cell_type": "code",
   "execution_count": null,
   "metadata": {
    "scrolled": false
   },
   "outputs": [],
   "source": [
    "automobile[automobile['normalized-losses'] == '?'].shape[0]\n",
    "automobile[automobile['horsepower'] == '?'].shape[0]"
   ]
  },
  {
   "cell_type": "code",
   "execution_count": null,
   "metadata": {},
   "outputs": [],
   "source": [
    "41/205\n",
    "2/205"
   ]
  },
  {
   "cell_type": "markdown",
   "metadata": {
    "colab_type": "text",
    "id": "cp3pp-d8oLJH"
   },
   "source": [
    "### Impute the missing values of the numerical data with mean of the column (`normalized-losses and horsepower`)  (Make sure you replace \"?\" by \"NaN\" for entire dataset before Imputing)."
   ]
  },
  {
   "cell_type": "code",
   "execution_count": 16,
   "metadata": {},
   "outputs": [],
   "source": [
    "automobile = automobile.replace(\"?\", np.nan)"
   ]
  },
  {
   "cell_type": "code",
   "execution_count": 17,
   "metadata": {
    "colab": {},
    "colab_type": "code",
    "id": "G_vNyRKfoLJH"
   },
   "outputs": [],
   "source": [
    "#Replacing '?' by 'NaN' and then Imputing missing data in the columns 'normalized-losses','horsepower'\n",
    "automobile = automobile.replace(\"?\",np.nan)\n",
    "numeric_imp = SimpleImputer(missing_values=np.nan,strategy='mean')\n",
    "automobile['normalized-losses'] = numeric_imp.fit_transform(automobile[['normalized-losses']])\n",
    "automobile['horsepower'] = numeric_imp.fit_transform(automobile[['horsepower']])\n"
   ]
  },
  {
   "cell_type": "code",
   "execution_count": null,
   "metadata": {},
   "outputs": [],
   "source": [
    "SimpleImputer\n",
    "1. Fit\n",
    "2. Transform"
   ]
  },
  {
   "cell_type": "markdown",
   "metadata": {
    "colab_type": "text",
    "id": "uje84nqfoLJJ"
   },
   "source": [
    "### Check the skewness of the numeric features and apply square root transformation on features with skewness greater than 1."
   ]
  },
  {
   "cell_type": "code",
   "execution_count": 3,
   "metadata": {
    "colab": {},
    "colab_type": "code",
    "id": "XnzrO6ycoLJJ"
   },
   "outputs": [],
   "source": [
    "numeric_feature_auto = automobile._get_numeric_data().columns\n",
    "for feature in numeric_feature_auto:\n",
    "    if skew(automobile[feature])>1:\n",
    "        automobile[feature] = np.sqrt(automobile[feature])"
   ]
  },
  {
   "cell_type": "markdown",
   "metadata": {
    "colab_type": "text",
    "id": "MKtYI8DboLJK"
   },
   "source": [
    "### Combine the 'height' and 'width' to make a new feature 'area' of the frame of the car."
   ]
  },
  {
   "cell_type": "code",
   "execution_count": 4,
   "metadata": {
    "colab": {},
    "colab_type": "code",
    "id": "Aa4uBSuOoLJK"
   },
   "outputs": [],
   "source": [
    "automobile['area'] = automobile['height'] * automobile['width']"
   ]
  },
  {
   "cell_type": "markdown",
   "metadata": {
    "colab_type": "text",
    "id": "y5aoSlZZoLJM"
   },
   "source": [
    "###  Label Encode the categorical features."
   ]
  },
  {
   "cell_type": "code",
   "execution_count": 13,
   "metadata": {
    "colab": {},
    "colab_type": "code",
    "id": "-MbqE12DoLJM"
   },
   "outputs": [],
   "source": [
    "# Function to Label Encode the categorical columns\n",
    "def dummyEncode(automobile):\n",
    "    \n",
    "    columnsToEncode = list(automobile.select_dtypes(include=['category','object']))\n",
    "    le = LabelEncoder()\n",
    "    \n",
    "    for feature in columnsToEncode:\n",
    "        try:\n",
    "            automobile[feature] = le.fit_transform(automobile[feature])\n",
    "        except:\n",
    "            print('Error encoding '+feature)\n",
    "    return automobile\n",
    "\n",
    "\n",
    "automobile = dummyEncode(automobile)"
   ]
  },
  {
   "cell_type": "code",
   "execution_count": 14,
   "metadata": {
    "colab": {},
    "colab_type": "code",
    "id": "NsfVlI6joLJO",
    "outputId": "23eb4c42-fd1c-4ca3-cb33-0d74095599b3",
    "scrolled": false
   },
   "outputs": [
    {
     "data": {
      "text/html": [
       "<div>\n",
       "<style scoped>\n",
       "    .dataframe tbody tr th:only-of-type {\n",
       "        vertical-align: middle;\n",
       "    }\n",
       "\n",
       "    .dataframe tbody tr th {\n",
       "        vertical-align: top;\n",
       "    }\n",
       "\n",
       "    .dataframe thead th {\n",
       "        text-align: right;\n",
       "    }\n",
       "</style>\n",
       "<table border=\"1\" class=\"dataframe\">\n",
       "  <thead>\n",
       "    <tr style=\"text-align: right;\">\n",
       "      <th></th>\n",
       "      <th>symboling</th>\n",
       "      <th>normalized-losses</th>\n",
       "      <th>make</th>\n",
       "      <th>fuel-type</th>\n",
       "      <th>body-style</th>\n",
       "      <th>drive-wheels</th>\n",
       "      <th>engine-location</th>\n",
       "      <th>width</th>\n",
       "      <th>height</th>\n",
       "      <th>engine-type</th>\n",
       "      <th>engine-size</th>\n",
       "      <th>horsepower</th>\n",
       "      <th>city-mpg</th>\n",
       "      <th>highway-mpg</th>\n",
       "      <th>price</th>\n",
       "      <th>area</th>\n",
       "    </tr>\n",
       "  </thead>\n",
       "  <tbody>\n",
       "    <tr>\n",
       "      <td>0</td>\n",
       "      <td>3</td>\n",
       "      <td>122.0</td>\n",
       "      <td>0</td>\n",
       "      <td>1</td>\n",
       "      <td>0</td>\n",
       "      <td>2</td>\n",
       "      <td>0</td>\n",
       "      <td>64.1</td>\n",
       "      <td>48.8</td>\n",
       "      <td>0</td>\n",
       "      <td>11.401754</td>\n",
       "      <td>111.0</td>\n",
       "      <td>21</td>\n",
       "      <td>27</td>\n",
       "      <td>116.167982</td>\n",
       "      <td>3128.08</td>\n",
       "    </tr>\n",
       "    <tr>\n",
       "      <td>1</td>\n",
       "      <td>3</td>\n",
       "      <td>122.0</td>\n",
       "      <td>0</td>\n",
       "      <td>1</td>\n",
       "      <td>0</td>\n",
       "      <td>2</td>\n",
       "      <td>0</td>\n",
       "      <td>64.1</td>\n",
       "      <td>48.8</td>\n",
       "      <td>0</td>\n",
       "      <td>11.401754</td>\n",
       "      <td>111.0</td>\n",
       "      <td>21</td>\n",
       "      <td>27</td>\n",
       "      <td>128.452326</td>\n",
       "      <td>3128.08</td>\n",
       "    </tr>\n",
       "    <tr>\n",
       "      <td>2</td>\n",
       "      <td>1</td>\n",
       "      <td>122.0</td>\n",
       "      <td>0</td>\n",
       "      <td>1</td>\n",
       "      <td>2</td>\n",
       "      <td>2</td>\n",
       "      <td>0</td>\n",
       "      <td>65.5</td>\n",
       "      <td>52.4</td>\n",
       "      <td>5</td>\n",
       "      <td>12.328828</td>\n",
       "      <td>154.0</td>\n",
       "      <td>19</td>\n",
       "      <td>26</td>\n",
       "      <td>128.452326</td>\n",
       "      <td>3432.20</td>\n",
       "    </tr>\n",
       "    <tr>\n",
       "      <td>3</td>\n",
       "      <td>2</td>\n",
       "      <td>164.0</td>\n",
       "      <td>1</td>\n",
       "      <td>1</td>\n",
       "      <td>3</td>\n",
       "      <td>1</td>\n",
       "      <td>0</td>\n",
       "      <td>66.2</td>\n",
       "      <td>54.3</td>\n",
       "      <td>3</td>\n",
       "      <td>10.440307</td>\n",
       "      <td>102.0</td>\n",
       "      <td>24</td>\n",
       "      <td>30</td>\n",
       "      <td>118.110118</td>\n",
       "      <td>3594.66</td>\n",
       "    </tr>\n",
       "    <tr>\n",
       "      <td>4</td>\n",
       "      <td>2</td>\n",
       "      <td>164.0</td>\n",
       "      <td>1</td>\n",
       "      <td>1</td>\n",
       "      <td>3</td>\n",
       "      <td>0</td>\n",
       "      <td>0</td>\n",
       "      <td>66.4</td>\n",
       "      <td>54.3</td>\n",
       "      <td>3</td>\n",
       "      <td>11.661904</td>\n",
       "      <td>115.0</td>\n",
       "      <td>18</td>\n",
       "      <td>22</td>\n",
       "      <td>132.098448</td>\n",
       "      <td>3605.52</td>\n",
       "    </tr>\n",
       "  </tbody>\n",
       "</table>\n",
       "</div>"
      ],
      "text/plain": [
       "   symboling  normalized-losses  make  fuel-type  body-style  drive-wheels  \\\n",
       "0          3              122.0     0          1           0             2   \n",
       "1          3              122.0     0          1           0             2   \n",
       "2          1              122.0     0          1           2             2   \n",
       "3          2              164.0     1          1           3             1   \n",
       "4          2              164.0     1          1           3             0   \n",
       "\n",
       "   engine-location  width  height  engine-type  engine-size  horsepower  \\\n",
       "0                0   64.1    48.8            0    11.401754       111.0   \n",
       "1                0   64.1    48.8            0    11.401754       111.0   \n",
       "2                0   65.5    52.4            5    12.328828       154.0   \n",
       "3                0   66.2    54.3            3    10.440307       102.0   \n",
       "4                0   66.4    54.3            3    11.661904       115.0   \n",
       "\n",
       "   city-mpg  highway-mpg       price     area  \n",
       "0        21           27  116.167982  3128.08  \n",
       "1        21           27  128.452326  3128.08  \n",
       "2        19           26  128.452326  3432.20  \n",
       "3        24           30  118.110118  3594.66  \n",
       "4        18           22  132.098448  3605.52  "
      ]
     },
     "execution_count": 14,
     "metadata": {},
     "output_type": "execute_result"
    }
   ],
   "source": [
    "automobile.head()"
   ]
  },
  {
   "cell_type": "code",
   "execution_count": 10,
   "metadata": {
    "scrolled": false
   },
   "outputs": [
    {
     "data": {
      "text/html": [
       "<div>\n",
       "<style scoped>\n",
       "    .dataframe tbody tr th:only-of-type {\n",
       "        vertical-align: middle;\n",
       "    }\n",
       "\n",
       "    .dataframe tbody tr th {\n",
       "        vertical-align: top;\n",
       "    }\n",
       "\n",
       "    .dataframe thead th {\n",
       "        text-align: right;\n",
       "    }\n",
       "</style>\n",
       "<table border=\"1\" class=\"dataframe\">\n",
       "  <thead>\n",
       "    <tr style=\"text-align: right;\">\n",
       "      <th></th>\n",
       "      <th>symboling</th>\n",
       "      <th>normalized-losses</th>\n",
       "      <th>make</th>\n",
       "      <th>fuel-type</th>\n",
       "      <th>body-style</th>\n",
       "      <th>drive-wheels</th>\n",
       "      <th>engine-location</th>\n",
       "      <th>width</th>\n",
       "      <th>height</th>\n",
       "      <th>engine-type</th>\n",
       "      <th>engine-size</th>\n",
       "      <th>horsepower</th>\n",
       "      <th>city-mpg</th>\n",
       "      <th>highway-mpg</th>\n",
       "      <th>price</th>\n",
       "      <th>area</th>\n",
       "    </tr>\n",
       "  </thead>\n",
       "  <tbody>\n",
       "    <tr>\n",
       "      <td>0</td>\n",
       "      <td>3</td>\n",
       "      <td>122.0</td>\n",
       "      <td>alfa-romero</td>\n",
       "      <td>gas</td>\n",
       "      <td>convertible</td>\n",
       "      <td>rwd</td>\n",
       "      <td>front</td>\n",
       "      <td>64.1</td>\n",
       "      <td>48.8</td>\n",
       "      <td>dohc</td>\n",
       "      <td>11.401754</td>\n",
       "      <td>111.0</td>\n",
       "      <td>21</td>\n",
       "      <td>27</td>\n",
       "      <td>116.167982</td>\n",
       "      <td>3128.08</td>\n",
       "    </tr>\n",
       "    <tr>\n",
       "      <td>1</td>\n",
       "      <td>3</td>\n",
       "      <td>122.0</td>\n",
       "      <td>alfa-romero</td>\n",
       "      <td>gas</td>\n",
       "      <td>convertible</td>\n",
       "      <td>rwd</td>\n",
       "      <td>front</td>\n",
       "      <td>64.1</td>\n",
       "      <td>48.8</td>\n",
       "      <td>dohc</td>\n",
       "      <td>11.401754</td>\n",
       "      <td>111.0</td>\n",
       "      <td>21</td>\n",
       "      <td>27</td>\n",
       "      <td>128.452326</td>\n",
       "      <td>3128.08</td>\n",
       "    </tr>\n",
       "    <tr>\n",
       "      <td>2</td>\n",
       "      <td>1</td>\n",
       "      <td>122.0</td>\n",
       "      <td>alfa-romero</td>\n",
       "      <td>gas</td>\n",
       "      <td>hatchback</td>\n",
       "      <td>rwd</td>\n",
       "      <td>front</td>\n",
       "      <td>65.5</td>\n",
       "      <td>52.4</td>\n",
       "      <td>ohcv</td>\n",
       "      <td>12.328828</td>\n",
       "      <td>154.0</td>\n",
       "      <td>19</td>\n",
       "      <td>26</td>\n",
       "      <td>128.452326</td>\n",
       "      <td>3432.20</td>\n",
       "    </tr>\n",
       "    <tr>\n",
       "      <td>3</td>\n",
       "      <td>2</td>\n",
       "      <td>164.0</td>\n",
       "      <td>audi</td>\n",
       "      <td>gas</td>\n",
       "      <td>sedan</td>\n",
       "      <td>fwd</td>\n",
       "      <td>front</td>\n",
       "      <td>66.2</td>\n",
       "      <td>54.3</td>\n",
       "      <td>ohc</td>\n",
       "      <td>10.440307</td>\n",
       "      <td>102.0</td>\n",
       "      <td>24</td>\n",
       "      <td>30</td>\n",
       "      <td>118.110118</td>\n",
       "      <td>3594.66</td>\n",
       "    </tr>\n",
       "    <tr>\n",
       "      <td>4</td>\n",
       "      <td>2</td>\n",
       "      <td>164.0</td>\n",
       "      <td>audi</td>\n",
       "      <td>gas</td>\n",
       "      <td>sedan</td>\n",
       "      <td>4wd</td>\n",
       "      <td>front</td>\n",
       "      <td>66.4</td>\n",
       "      <td>54.3</td>\n",
       "      <td>ohc</td>\n",
       "      <td>11.661904</td>\n",
       "      <td>115.0</td>\n",
       "      <td>18</td>\n",
       "      <td>22</td>\n",
       "      <td>132.098448</td>\n",
       "      <td>3605.52</td>\n",
       "    </tr>\n",
       "  </tbody>\n",
       "</table>\n",
       "</div>"
      ],
      "text/plain": [
       "   symboling  normalized-losses         make fuel-type   body-style  \\\n",
       "0          3              122.0  alfa-romero       gas  convertible   \n",
       "1          3              122.0  alfa-romero       gas  convertible   \n",
       "2          1              122.0  alfa-romero       gas    hatchback   \n",
       "3          2              164.0         audi       gas        sedan   \n",
       "4          2              164.0         audi       gas        sedan   \n",
       "\n",
       "  drive-wheels engine-location  width  height engine-type  engine-size  \\\n",
       "0          rwd           front   64.1    48.8        dohc    11.401754   \n",
       "1          rwd           front   64.1    48.8        dohc    11.401754   \n",
       "2          rwd           front   65.5    52.4        ohcv    12.328828   \n",
       "3          fwd           front   66.2    54.3         ohc    10.440307   \n",
       "4          4wd           front   66.4    54.3         ohc    11.661904   \n",
       "\n",
       "   horsepower  city-mpg  highway-mpg       price     area  \n",
       "0       111.0        21           27  116.167982  3128.08  \n",
       "1       111.0        21           27  128.452326  3128.08  \n",
       "2       154.0        19           26  128.452326  3432.20  \n",
       "3       102.0        24           30  118.110118  3594.66  \n",
       "4       115.0        18           22  132.098448  3605.52  "
      ]
     },
     "execution_count": 10,
     "metadata": {},
     "output_type": "execute_result"
    },
    {
     "data": {
      "text/plain": [
       "['make',\n",
       " 'fuel-type',\n",
       " 'body-style',\n",
       " 'drive-wheels',\n",
       " 'engine-location',\n",
       " 'engine-type']"
      ]
     },
     "execution_count": 10,
     "metadata": {},
     "output_type": "execute_result"
    }
   ],
   "source": [
    "automobile.head()\n",
    "list(automobile.select_dtypes(include=['category','object']))"
   ]
  },
  {
   "cell_type": "code",
   "execution_count": 28,
   "metadata": {},
   "outputs": [
    {
     "data": {
      "text/html": [
       "<div>\n",
       "<style scoped>\n",
       "    .dataframe tbody tr th:only-of-type {\n",
       "        vertical-align: middle;\n",
       "    }\n",
       "\n",
       "    .dataframe tbody tr th {\n",
       "        vertical-align: top;\n",
       "    }\n",
       "\n",
       "    .dataframe thead th {\n",
       "        text-align: right;\n",
       "    }\n",
       "</style>\n",
       "<table border=\"1\" class=\"dataframe\">\n",
       "  <thead>\n",
       "    <tr style=\"text-align: right;\">\n",
       "      <th></th>\n",
       "      <th>fuel-type_diesel</th>\n",
       "      <th>fuel-type_gas</th>\n",
       "      <th>body-style_convertible</th>\n",
       "      <th>body-style_hardtop</th>\n",
       "      <th>body-style_hatchback</th>\n",
       "      <th>body-style_sedan</th>\n",
       "      <th>body-style_wagon</th>\n",
       "    </tr>\n",
       "  </thead>\n",
       "  <tbody>\n",
       "    <tr>\n",
       "      <td>0</td>\n",
       "      <td>0</td>\n",
       "      <td>1</td>\n",
       "      <td>1</td>\n",
       "      <td>0</td>\n",
       "      <td>0</td>\n",
       "      <td>0</td>\n",
       "      <td>0</td>\n",
       "    </tr>\n",
       "    <tr>\n",
       "      <td>1</td>\n",
       "      <td>0</td>\n",
       "      <td>1</td>\n",
       "      <td>1</td>\n",
       "      <td>0</td>\n",
       "      <td>0</td>\n",
       "      <td>0</td>\n",
       "      <td>0</td>\n",
       "    </tr>\n",
       "    <tr>\n",
       "      <td>2</td>\n",
       "      <td>0</td>\n",
       "      <td>1</td>\n",
       "      <td>0</td>\n",
       "      <td>0</td>\n",
       "      <td>1</td>\n",
       "      <td>0</td>\n",
       "      <td>0</td>\n",
       "    </tr>\n",
       "    <tr>\n",
       "      <td>3</td>\n",
       "      <td>0</td>\n",
       "      <td>1</td>\n",
       "      <td>0</td>\n",
       "      <td>0</td>\n",
       "      <td>0</td>\n",
       "      <td>1</td>\n",
       "      <td>0</td>\n",
       "    </tr>\n",
       "    <tr>\n",
       "      <td>4</td>\n",
       "      <td>0</td>\n",
       "      <td>1</td>\n",
       "      <td>0</td>\n",
       "      <td>0</td>\n",
       "      <td>0</td>\n",
       "      <td>1</td>\n",
       "      <td>0</td>\n",
       "    </tr>\n",
       "  </tbody>\n",
       "</table>\n",
       "</div>"
      ],
      "text/plain": [
       "   fuel-type_diesel  fuel-type_gas  body-style_convertible  \\\n",
       "0                 0              1                       1   \n",
       "1                 0              1                       1   \n",
       "2                 0              1                       0   \n",
       "3                 0              1                       0   \n",
       "4                 0              1                       0   \n",
       "\n",
       "   body-style_hardtop  body-style_hatchback  body-style_sedan  \\\n",
       "0                   0                     0                 0   \n",
       "1                   0                     0                 0   \n",
       "2                   0                     1                 0   \n",
       "3                   0                     0                 1   \n",
       "4                   0                     0                 1   \n",
       "\n",
       "   body-style_wagon  \n",
       "0                 0  \n",
       "1                 0  \n",
       "2                 0  \n",
       "3                 0  \n",
       "4                 0  "
      ]
     },
     "execution_count": 28,
     "metadata": {},
     "output_type": "execute_result"
    }
   ],
   "source": [
    "df_dummy = pd.get_dummies(data = automobile[['fuel-type', 'body-style']])\n",
    "df_dummy.head()"
   ]
  },
  {
   "cell_type": "code",
   "execution_count": 29,
   "metadata": {
    "scrolled": true
   },
   "outputs": [
    {
     "data": {
      "text/html": [
       "<div>\n",
       "<style scoped>\n",
       "    .dataframe tbody tr th:only-of-type {\n",
       "        vertical-align: middle;\n",
       "    }\n",
       "\n",
       "    .dataframe tbody tr th {\n",
       "        vertical-align: top;\n",
       "    }\n",
       "\n",
       "    .dataframe thead th {\n",
       "        text-align: right;\n",
       "    }\n",
       "</style>\n",
       "<table border=\"1\" class=\"dataframe\">\n",
       "  <thead>\n",
       "    <tr style=\"text-align: right;\">\n",
       "      <th></th>\n",
       "      <th>symboling</th>\n",
       "      <th>normalized-losses</th>\n",
       "      <th>make</th>\n",
       "      <th>fuel-type</th>\n",
       "      <th>body-style</th>\n",
       "      <th>drive-wheels</th>\n",
       "      <th>engine-location</th>\n",
       "      <th>width</th>\n",
       "      <th>height</th>\n",
       "      <th>engine-type</th>\n",
       "      <th>...</th>\n",
       "      <th>city-mpg</th>\n",
       "      <th>highway-mpg</th>\n",
       "      <th>price</th>\n",
       "      <th>fuel-type_diesel</th>\n",
       "      <th>fuel-type_gas</th>\n",
       "      <th>body-style_convertible</th>\n",
       "      <th>body-style_hardtop</th>\n",
       "      <th>body-style_hatchback</th>\n",
       "      <th>body-style_sedan</th>\n",
       "      <th>body-style_wagon</th>\n",
       "    </tr>\n",
       "  </thead>\n",
       "  <tbody>\n",
       "    <tr>\n",
       "      <td>0</td>\n",
       "      <td>3</td>\n",
       "      <td>122.0</td>\n",
       "      <td>alfa-romero</td>\n",
       "      <td>gas</td>\n",
       "      <td>convertible</td>\n",
       "      <td>rwd</td>\n",
       "      <td>front</td>\n",
       "      <td>64.1</td>\n",
       "      <td>48.8</td>\n",
       "      <td>dohc</td>\n",
       "      <td>...</td>\n",
       "      <td>21</td>\n",
       "      <td>27</td>\n",
       "      <td>13495</td>\n",
       "      <td>0</td>\n",
       "      <td>1</td>\n",
       "      <td>1</td>\n",
       "      <td>0</td>\n",
       "      <td>0</td>\n",
       "      <td>0</td>\n",
       "      <td>0</td>\n",
       "    </tr>\n",
       "    <tr>\n",
       "      <td>1</td>\n",
       "      <td>3</td>\n",
       "      <td>122.0</td>\n",
       "      <td>alfa-romero</td>\n",
       "      <td>gas</td>\n",
       "      <td>convertible</td>\n",
       "      <td>rwd</td>\n",
       "      <td>front</td>\n",
       "      <td>64.1</td>\n",
       "      <td>48.8</td>\n",
       "      <td>dohc</td>\n",
       "      <td>...</td>\n",
       "      <td>21</td>\n",
       "      <td>27</td>\n",
       "      <td>16500</td>\n",
       "      <td>0</td>\n",
       "      <td>1</td>\n",
       "      <td>1</td>\n",
       "      <td>0</td>\n",
       "      <td>0</td>\n",
       "      <td>0</td>\n",
       "      <td>0</td>\n",
       "    </tr>\n",
       "    <tr>\n",
       "      <td>2</td>\n",
       "      <td>1</td>\n",
       "      <td>122.0</td>\n",
       "      <td>alfa-romero</td>\n",
       "      <td>gas</td>\n",
       "      <td>hatchback</td>\n",
       "      <td>rwd</td>\n",
       "      <td>front</td>\n",
       "      <td>65.5</td>\n",
       "      <td>52.4</td>\n",
       "      <td>ohcv</td>\n",
       "      <td>...</td>\n",
       "      <td>19</td>\n",
       "      <td>26</td>\n",
       "      <td>16500</td>\n",
       "      <td>0</td>\n",
       "      <td>1</td>\n",
       "      <td>0</td>\n",
       "      <td>0</td>\n",
       "      <td>1</td>\n",
       "      <td>0</td>\n",
       "      <td>0</td>\n",
       "    </tr>\n",
       "    <tr>\n",
       "      <td>3</td>\n",
       "      <td>2</td>\n",
       "      <td>164.0</td>\n",
       "      <td>audi</td>\n",
       "      <td>gas</td>\n",
       "      <td>sedan</td>\n",
       "      <td>fwd</td>\n",
       "      <td>front</td>\n",
       "      <td>66.2</td>\n",
       "      <td>54.3</td>\n",
       "      <td>ohc</td>\n",
       "      <td>...</td>\n",
       "      <td>24</td>\n",
       "      <td>30</td>\n",
       "      <td>13950</td>\n",
       "      <td>0</td>\n",
       "      <td>1</td>\n",
       "      <td>0</td>\n",
       "      <td>0</td>\n",
       "      <td>0</td>\n",
       "      <td>1</td>\n",
       "      <td>0</td>\n",
       "    </tr>\n",
       "    <tr>\n",
       "      <td>4</td>\n",
       "      <td>2</td>\n",
       "      <td>164.0</td>\n",
       "      <td>audi</td>\n",
       "      <td>gas</td>\n",
       "      <td>sedan</td>\n",
       "      <td>4wd</td>\n",
       "      <td>front</td>\n",
       "      <td>66.4</td>\n",
       "      <td>54.3</td>\n",
       "      <td>ohc</td>\n",
       "      <td>...</td>\n",
       "      <td>18</td>\n",
       "      <td>22</td>\n",
       "      <td>17450</td>\n",
       "      <td>0</td>\n",
       "      <td>1</td>\n",
       "      <td>0</td>\n",
       "      <td>0</td>\n",
       "      <td>0</td>\n",
       "      <td>1</td>\n",
       "      <td>0</td>\n",
       "    </tr>\n",
       "  </tbody>\n",
       "</table>\n",
       "<p>5 rows × 22 columns</p>\n",
       "</div>"
      ],
      "text/plain": [
       "   symboling  normalized-losses         make fuel-type   body-style  \\\n",
       "0          3              122.0  alfa-romero       gas  convertible   \n",
       "1          3              122.0  alfa-romero       gas  convertible   \n",
       "2          1              122.0  alfa-romero       gas    hatchback   \n",
       "3          2              164.0         audi       gas        sedan   \n",
       "4          2              164.0         audi       gas        sedan   \n",
       "\n",
       "  drive-wheels engine-location  width  height engine-type  ...  city-mpg  \\\n",
       "0          rwd           front   64.1    48.8        dohc  ...        21   \n",
       "1          rwd           front   64.1    48.8        dohc  ...        21   \n",
       "2          rwd           front   65.5    52.4        ohcv  ...        19   \n",
       "3          fwd           front   66.2    54.3         ohc  ...        24   \n",
       "4          4wd           front   66.4    54.3         ohc  ...        18   \n",
       "\n",
       "   highway-mpg  price  fuel-type_diesel  fuel-type_gas  \\\n",
       "0           27  13495                 0              1   \n",
       "1           27  16500                 0              1   \n",
       "2           26  16500                 0              1   \n",
       "3           30  13950                 0              1   \n",
       "4           22  17450                 0              1   \n",
       "\n",
       "   body-style_convertible  body-style_hardtop  body-style_hatchback  \\\n",
       "0                       1                   0                     0   \n",
       "1                       1                   0                     0   \n",
       "2                       0                   0                     1   \n",
       "3                       0                   0                     0   \n",
       "4                       0                   0                     0   \n",
       "\n",
       "   body-style_sedan  body-style_wagon  \n",
       "0                 0                 0  \n",
       "1                 0                 0  \n",
       "2                 0                 0  \n",
       "3                 1                 0  \n",
       "4                 1                 0  \n",
       "\n",
       "[5 rows x 22 columns]"
      ]
     },
     "execution_count": 29,
     "metadata": {},
     "output_type": "execute_result"
    }
   ],
   "source": [
    "df_new = pd.concat([automobile, df_dummy], axis = 1)\n",
    "df_new.head()"
   ]
  },
  {
   "cell_type": "code",
   "execution_count": 23,
   "metadata": {
    "scrolled": true
   },
   "outputs": [
    {
     "data": {
      "text/html": [
       "<div>\n",
       "<style scoped>\n",
       "    .dataframe tbody tr th:only-of-type {\n",
       "        vertical-align: middle;\n",
       "    }\n",
       "\n",
       "    .dataframe tbody tr th {\n",
       "        vertical-align: top;\n",
       "    }\n",
       "\n",
       "    .dataframe thead th {\n",
       "        text-align: right;\n",
       "    }\n",
       "</style>\n",
       "<table border=\"1\" class=\"dataframe\">\n",
       "  <thead>\n",
       "    <tr style=\"text-align: right;\">\n",
       "      <th></th>\n",
       "      <th>symboling</th>\n",
       "      <th>normalized-losses</th>\n",
       "      <th>make</th>\n",
       "      <th>fuel-type</th>\n",
       "      <th>body-style</th>\n",
       "      <th>drive-wheels</th>\n",
       "      <th>engine-location</th>\n",
       "      <th>width</th>\n",
       "      <th>height</th>\n",
       "      <th>engine-type</th>\n",
       "      <th>engine-size</th>\n",
       "      <th>horsepower</th>\n",
       "      <th>city-mpg</th>\n",
       "      <th>highway-mpg</th>\n",
       "      <th>price</th>\n",
       "      <th>diesel</th>\n",
       "      <th>gas</th>\n",
       "    </tr>\n",
       "  </thead>\n",
       "  <tbody>\n",
       "    <tr>\n",
       "      <td>200</td>\n",
       "      <td>-1</td>\n",
       "      <td>95.0</td>\n",
       "      <td>volvo</td>\n",
       "      <td>gas</td>\n",
       "      <td>sedan</td>\n",
       "      <td>rwd</td>\n",
       "      <td>front</td>\n",
       "      <td>68.9</td>\n",
       "      <td>55.5</td>\n",
       "      <td>ohc</td>\n",
       "      <td>141</td>\n",
       "      <td>114.0</td>\n",
       "      <td>23</td>\n",
       "      <td>28</td>\n",
       "      <td>16845</td>\n",
       "      <td>0</td>\n",
       "      <td>1</td>\n",
       "    </tr>\n",
       "    <tr>\n",
       "      <td>201</td>\n",
       "      <td>-1</td>\n",
       "      <td>95.0</td>\n",
       "      <td>volvo</td>\n",
       "      <td>gas</td>\n",
       "      <td>sedan</td>\n",
       "      <td>rwd</td>\n",
       "      <td>front</td>\n",
       "      <td>68.8</td>\n",
       "      <td>55.5</td>\n",
       "      <td>ohc</td>\n",
       "      <td>141</td>\n",
       "      <td>160.0</td>\n",
       "      <td>19</td>\n",
       "      <td>25</td>\n",
       "      <td>19045</td>\n",
       "      <td>0</td>\n",
       "      <td>1</td>\n",
       "    </tr>\n",
       "    <tr>\n",
       "      <td>202</td>\n",
       "      <td>-1</td>\n",
       "      <td>95.0</td>\n",
       "      <td>volvo</td>\n",
       "      <td>gas</td>\n",
       "      <td>sedan</td>\n",
       "      <td>rwd</td>\n",
       "      <td>front</td>\n",
       "      <td>68.9</td>\n",
       "      <td>55.5</td>\n",
       "      <td>ohcv</td>\n",
       "      <td>173</td>\n",
       "      <td>134.0</td>\n",
       "      <td>18</td>\n",
       "      <td>23</td>\n",
       "      <td>21485</td>\n",
       "      <td>0</td>\n",
       "      <td>1</td>\n",
       "    </tr>\n",
       "    <tr>\n",
       "      <td>203</td>\n",
       "      <td>-1</td>\n",
       "      <td>95.0</td>\n",
       "      <td>volvo</td>\n",
       "      <td>diesel</td>\n",
       "      <td>sedan</td>\n",
       "      <td>rwd</td>\n",
       "      <td>front</td>\n",
       "      <td>68.9</td>\n",
       "      <td>55.5</td>\n",
       "      <td>ohc</td>\n",
       "      <td>145</td>\n",
       "      <td>106.0</td>\n",
       "      <td>26</td>\n",
       "      <td>27</td>\n",
       "      <td>22470</td>\n",
       "      <td>1</td>\n",
       "      <td>0</td>\n",
       "    </tr>\n",
       "    <tr>\n",
       "      <td>204</td>\n",
       "      <td>-1</td>\n",
       "      <td>95.0</td>\n",
       "      <td>volvo</td>\n",
       "      <td>gas</td>\n",
       "      <td>sedan</td>\n",
       "      <td>rwd</td>\n",
       "      <td>front</td>\n",
       "      <td>68.9</td>\n",
       "      <td>55.5</td>\n",
       "      <td>ohc</td>\n",
       "      <td>141</td>\n",
       "      <td>114.0</td>\n",
       "      <td>19</td>\n",
       "      <td>25</td>\n",
       "      <td>22625</td>\n",
       "      <td>0</td>\n",
       "      <td>1</td>\n",
       "    </tr>\n",
       "  </tbody>\n",
       "</table>\n",
       "</div>"
      ],
      "text/plain": [
       "     symboling  normalized-losses   make fuel-type body-style drive-wheels  \\\n",
       "200         -1               95.0  volvo       gas      sedan          rwd   \n",
       "201         -1               95.0  volvo       gas      sedan          rwd   \n",
       "202         -1               95.0  volvo       gas      sedan          rwd   \n",
       "203         -1               95.0  volvo    diesel      sedan          rwd   \n",
       "204         -1               95.0  volvo       gas      sedan          rwd   \n",
       "\n",
       "    engine-location  width  height engine-type  engine-size  horsepower  \\\n",
       "200           front   68.9    55.5         ohc          141       114.0   \n",
       "201           front   68.8    55.5         ohc          141       160.0   \n",
       "202           front   68.9    55.5        ohcv          173       134.0   \n",
       "203           front   68.9    55.5         ohc          145       106.0   \n",
       "204           front   68.9    55.5         ohc          141       114.0   \n",
       "\n",
       "     city-mpg  highway-mpg  price  diesel  gas  \n",
       "200        23           28  16845       0    1  \n",
       "201        19           25  19045       0    1  \n",
       "202        18           23  21485       0    1  \n",
       "203        26           27  22470       1    0  \n",
       "204        19           25  22625       0    1  "
      ]
     },
     "execution_count": 23,
     "metadata": {},
     "output_type": "execute_result"
    }
   ],
   "source": [
    "df_new.tail()"
   ]
  },
  {
   "cell_type": "code",
   "execution_count": 30,
   "metadata": {},
   "outputs": [
    {
     "data": {
      "text/html": [
       "<div>\n",
       "<style scoped>\n",
       "    .dataframe tbody tr th:only-of-type {\n",
       "        vertical-align: middle;\n",
       "    }\n",
       "\n",
       "    .dataframe tbody tr th {\n",
       "        vertical-align: top;\n",
       "    }\n",
       "\n",
       "    .dataframe thead th {\n",
       "        text-align: right;\n",
       "    }\n",
       "</style>\n",
       "<table border=\"1\" class=\"dataframe\">\n",
       "  <thead>\n",
       "    <tr style=\"text-align: right;\">\n",
       "      <th></th>\n",
       "      <th>symboling</th>\n",
       "      <th>normalized-losses</th>\n",
       "      <th>make</th>\n",
       "      <th>drive-wheels</th>\n",
       "      <th>engine-location</th>\n",
       "      <th>width</th>\n",
       "      <th>height</th>\n",
       "      <th>engine-type</th>\n",
       "      <th>engine-size</th>\n",
       "      <th>horsepower</th>\n",
       "      <th>city-mpg</th>\n",
       "      <th>highway-mpg</th>\n",
       "      <th>price</th>\n",
       "      <th>fuel-type_diesel</th>\n",
       "      <th>fuel-type_gas</th>\n",
       "      <th>body-style_convertible</th>\n",
       "      <th>body-style_hardtop</th>\n",
       "      <th>body-style_hatchback</th>\n",
       "      <th>body-style_sedan</th>\n",
       "      <th>body-style_wagon</th>\n",
       "    </tr>\n",
       "  </thead>\n",
       "  <tbody>\n",
       "    <tr>\n",
       "      <td>200</td>\n",
       "      <td>-1</td>\n",
       "      <td>95.0</td>\n",
       "      <td>volvo</td>\n",
       "      <td>rwd</td>\n",
       "      <td>front</td>\n",
       "      <td>68.9</td>\n",
       "      <td>55.5</td>\n",
       "      <td>ohc</td>\n",
       "      <td>141</td>\n",
       "      <td>114.0</td>\n",
       "      <td>23</td>\n",
       "      <td>28</td>\n",
       "      <td>16845</td>\n",
       "      <td>0</td>\n",
       "      <td>1</td>\n",
       "      <td>0</td>\n",
       "      <td>0</td>\n",
       "      <td>0</td>\n",
       "      <td>1</td>\n",
       "      <td>0</td>\n",
       "    </tr>\n",
       "    <tr>\n",
       "      <td>201</td>\n",
       "      <td>-1</td>\n",
       "      <td>95.0</td>\n",
       "      <td>volvo</td>\n",
       "      <td>rwd</td>\n",
       "      <td>front</td>\n",
       "      <td>68.8</td>\n",
       "      <td>55.5</td>\n",
       "      <td>ohc</td>\n",
       "      <td>141</td>\n",
       "      <td>160.0</td>\n",
       "      <td>19</td>\n",
       "      <td>25</td>\n",
       "      <td>19045</td>\n",
       "      <td>0</td>\n",
       "      <td>1</td>\n",
       "      <td>0</td>\n",
       "      <td>0</td>\n",
       "      <td>0</td>\n",
       "      <td>1</td>\n",
       "      <td>0</td>\n",
       "    </tr>\n",
       "    <tr>\n",
       "      <td>202</td>\n",
       "      <td>-1</td>\n",
       "      <td>95.0</td>\n",
       "      <td>volvo</td>\n",
       "      <td>rwd</td>\n",
       "      <td>front</td>\n",
       "      <td>68.9</td>\n",
       "      <td>55.5</td>\n",
       "      <td>ohcv</td>\n",
       "      <td>173</td>\n",
       "      <td>134.0</td>\n",
       "      <td>18</td>\n",
       "      <td>23</td>\n",
       "      <td>21485</td>\n",
       "      <td>0</td>\n",
       "      <td>1</td>\n",
       "      <td>0</td>\n",
       "      <td>0</td>\n",
       "      <td>0</td>\n",
       "      <td>1</td>\n",
       "      <td>0</td>\n",
       "    </tr>\n",
       "    <tr>\n",
       "      <td>203</td>\n",
       "      <td>-1</td>\n",
       "      <td>95.0</td>\n",
       "      <td>volvo</td>\n",
       "      <td>rwd</td>\n",
       "      <td>front</td>\n",
       "      <td>68.9</td>\n",
       "      <td>55.5</td>\n",
       "      <td>ohc</td>\n",
       "      <td>145</td>\n",
       "      <td>106.0</td>\n",
       "      <td>26</td>\n",
       "      <td>27</td>\n",
       "      <td>22470</td>\n",
       "      <td>1</td>\n",
       "      <td>0</td>\n",
       "      <td>0</td>\n",
       "      <td>0</td>\n",
       "      <td>0</td>\n",
       "      <td>1</td>\n",
       "      <td>0</td>\n",
       "    </tr>\n",
       "    <tr>\n",
       "      <td>204</td>\n",
       "      <td>-1</td>\n",
       "      <td>95.0</td>\n",
       "      <td>volvo</td>\n",
       "      <td>rwd</td>\n",
       "      <td>front</td>\n",
       "      <td>68.9</td>\n",
       "      <td>55.5</td>\n",
       "      <td>ohc</td>\n",
       "      <td>141</td>\n",
       "      <td>114.0</td>\n",
       "      <td>19</td>\n",
       "      <td>25</td>\n",
       "      <td>22625</td>\n",
       "      <td>0</td>\n",
       "      <td>1</td>\n",
       "      <td>0</td>\n",
       "      <td>0</td>\n",
       "      <td>0</td>\n",
       "      <td>1</td>\n",
       "      <td>0</td>\n",
       "    </tr>\n",
       "  </tbody>\n",
       "</table>\n",
       "</div>"
      ],
      "text/plain": [
       "     symboling  normalized-losses   make drive-wheels engine-location  width  \\\n",
       "200         -1               95.0  volvo          rwd           front   68.9   \n",
       "201         -1               95.0  volvo          rwd           front   68.8   \n",
       "202         -1               95.0  volvo          rwd           front   68.9   \n",
       "203         -1               95.0  volvo          rwd           front   68.9   \n",
       "204         -1               95.0  volvo          rwd           front   68.9   \n",
       "\n",
       "     height engine-type  engine-size  horsepower  city-mpg  highway-mpg  \\\n",
       "200    55.5         ohc          141       114.0        23           28   \n",
       "201    55.5         ohc          141       160.0        19           25   \n",
       "202    55.5        ohcv          173       134.0        18           23   \n",
       "203    55.5         ohc          145       106.0        26           27   \n",
       "204    55.5         ohc          141       114.0        19           25   \n",
       "\n",
       "     price  fuel-type_diesel  fuel-type_gas  body-style_convertible  \\\n",
       "200  16845                 0              1                       0   \n",
       "201  19045                 0              1                       0   \n",
       "202  21485                 0              1                       0   \n",
       "203  22470                 1              0                       0   \n",
       "204  22625                 0              1                       0   \n",
       "\n",
       "     body-style_hardtop  body-style_hatchback  body-style_sedan  \\\n",
       "200                   0                     0                 1   \n",
       "201                   0                     0                 1   \n",
       "202                   0                     0                 1   \n",
       "203                   0                     0                 1   \n",
       "204                   0                     0                 1   \n",
       "\n",
       "     body-style_wagon  \n",
       "200                 0  \n",
       "201                 0  \n",
       "202                 0  \n",
       "203                 0  \n",
       "204                 0  "
      ]
     },
     "execution_count": 30,
     "metadata": {},
     "output_type": "execute_result"
    }
   ],
   "source": [
    "df_new.drop(['fuel-type', 'body-style'], axis = 1, inplace = True)\n",
    "df_new.tail()"
   ]
  },
  {
   "cell_type": "markdown",
   "metadata": {
    "colab_type": "text",
    "id": "kdXVy1hOoLJP"
   },
   "source": [
    "# Thank You\n",
    "***\n",
    "### Next Session: Logistic Regression\n",
    "\n",
    "- Difference between Linear and Logistic Regression\n",
    "     - Sigmoid function\n",
    "     - Cost function with Gradient Descent\n",
    "     - Evaluation metrics"
   ]
  },
  {
   "cell_type": "code",
   "execution_count": null,
   "metadata": {},
   "outputs": [],
   "source": [
    "train_test_split"
   ]
  },
  {
   "cell_type": "code",
   "execution_count": null,
   "metadata": {},
   "outputs": [],
   "source": [
    "better encoding techniques\n",
    "99 numeric, 1 categorical (1000 categories)\n",
    "Region, districts in India (10K)\n",
    "\n",
    "Categorical encoding with many categories"
   ]
  }
 ],
 "metadata": {
  "celltoolbar": "Slideshow",
  "colab": {
   "name": "exploratory_data_analysis_in_class_slides_v1.ipynb",
   "provenance": []
  },
  "kernelspec": {
   "display_name": "Python 3",
   "language": "python",
   "name": "python3"
  },
  "language_info": {
   "codemirror_mode": {
    "name": "ipython",
    "version": 3
   },
   "file_extension": ".py",
   "mimetype": "text/x-python",
   "name": "python",
   "nbconvert_exporter": "python",
   "pygments_lexer": "ipython3",
   "version": "3.7.0"
  }
 },
 "nbformat": 4,
 "nbformat_minor": 1
}
